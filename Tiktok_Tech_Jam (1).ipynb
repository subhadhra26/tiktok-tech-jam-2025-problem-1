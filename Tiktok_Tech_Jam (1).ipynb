{
  "nbformat": 4,
  "nbformat_minor": 0,
  "metadata": {
    "colab": {
      "provenance": []
    },
    "kernelspec": {
      "name": "python3",
      "display_name": "Python 3"
    },
    "language_info": {
      "name": "python"
    },
    "widgets": {
      "application/vnd.jupyter.widget-state+json": {
        "a98c71f42167475f9c4718b4969f006f": {
          "model_module": "@jupyter-widgets/controls",
          "model_name": "FloatProgressModel",
          "model_module_version": "1.5.0",
          "state": {
            "_dom_classes": [],
            "_model_module": "@jupyter-widgets/controls",
            "_model_module_version": "1.5.0",
            "_model_name": "FloatProgressModel",
            "_view_count": null,
            "_view_module": "@jupyter-widgets/controls",
            "_view_module_version": "1.5.0",
            "_view_name": "ProgressView",
            "bar_style": "",
            "description": "",
            "description_tooltip": null,
            "layout": "IPY_MODEL_5df9ce9950b4423498791b278956804d",
            "max": 100,
            "min": 0,
            "orientation": "horizontal",
            "style": "IPY_MODEL_c3b3b09a0ddd489582acab3f3cd8afb3",
            "value": 59
          }
        },
        "5df9ce9950b4423498791b278956804d": {
          "model_module": "@jupyter-widgets/base",
          "model_name": "LayoutModel",
          "model_module_version": "1.2.0",
          "state": {
            "_model_module": "@jupyter-widgets/base",
            "_model_module_version": "1.2.0",
            "_model_name": "LayoutModel",
            "_view_count": null,
            "_view_module": "@jupyter-widgets/base",
            "_view_module_version": "1.2.0",
            "_view_name": "LayoutView",
            "align_content": null,
            "align_items": null,
            "align_self": null,
            "border": null,
            "bottom": null,
            "display": null,
            "flex": null,
            "flex_flow": null,
            "grid_area": null,
            "grid_auto_columns": null,
            "grid_auto_flow": null,
            "grid_auto_rows": null,
            "grid_column": null,
            "grid_gap": null,
            "grid_row": null,
            "grid_template_areas": null,
            "grid_template_columns": null,
            "grid_template_rows": null,
            "height": null,
            "justify_content": null,
            "justify_items": null,
            "left": null,
            "margin": null,
            "max_height": null,
            "max_width": null,
            "min_height": null,
            "min_width": null,
            "object_fit": null,
            "object_position": null,
            "order": null,
            "overflow": null,
            "overflow_x": null,
            "overflow_y": null,
            "padding": null,
            "right": null,
            "top": null,
            "visibility": null,
            "width": "auto"
          }
        },
        "c3b3b09a0ddd489582acab3f3cd8afb3": {
          "model_module": "@jupyter-widgets/controls",
          "model_name": "ProgressStyleModel",
          "model_module_version": "1.5.0",
          "state": {
            "_model_module": "@jupyter-widgets/controls",
            "_model_module_version": "1.5.0",
            "_model_name": "ProgressStyleModel",
            "_view_count": null,
            "_view_module": "@jupyter-widgets/base",
            "_view_module_version": "1.2.0",
            "_view_name": "StyleView",
            "bar_color": "black",
            "description_width": ""
          }
        },
        "80a53c6eb39448ae95cba3a3a1a311ff": {
          "model_module": "@jupyter-widgets/controls",
          "model_name": "HBoxModel",
          "model_module_version": "1.5.0",
          "state": {
            "_dom_classes": [],
            "_model_module": "@jupyter-widgets/controls",
            "_model_module_version": "1.5.0",
            "_model_name": "HBoxModel",
            "_view_count": null,
            "_view_module": "@jupyter-widgets/controls",
            "_view_module_version": "1.5.0",
            "_view_name": "HBoxView",
            "box_style": "",
            "children": [
              "IPY_MODEL_85862e73c8b44ec49ef1efdc35bdce9b",
              "IPY_MODEL_ed32828a69614b64b9760d4a5ff41fe2",
              "IPY_MODEL_556dd1a60df44291b06b4c9fb89f022f"
            ],
            "layout": "IPY_MODEL_913a42162ad44d389ba502107eff6fdf"
          }
        },
        "85862e73c8b44ec49ef1efdc35bdce9b": {
          "model_module": "@jupyter-widgets/controls",
          "model_name": "HTMLModel",
          "model_module_version": "1.5.0",
          "state": {
            "_dom_classes": [],
            "_model_module": "@jupyter-widgets/controls",
            "_model_module_version": "1.5.0",
            "_model_name": "HTMLModel",
            "_view_count": null,
            "_view_module": "@jupyter-widgets/controls",
            "_view_module_version": "1.5.0",
            "_view_name": "HTMLView",
            "description": "",
            "description_tooltip": null,
            "layout": "IPY_MODEL_abebea252bfc485baa71ee39384b7611",
            "placeholder": "​",
            "style": "IPY_MODEL_7060a93144a648619b5c57181fbc033b",
            "value": "modules.json: 100%"
          }
        },
        "ed32828a69614b64b9760d4a5ff41fe2": {
          "model_module": "@jupyter-widgets/controls",
          "model_name": "FloatProgressModel",
          "model_module_version": "1.5.0",
          "state": {
            "_dom_classes": [],
            "_model_module": "@jupyter-widgets/controls",
            "_model_module_version": "1.5.0",
            "_model_name": "FloatProgressModel",
            "_view_count": null,
            "_view_module": "@jupyter-widgets/controls",
            "_view_module_version": "1.5.0",
            "_view_name": "ProgressView",
            "bar_style": "success",
            "description": "",
            "description_tooltip": null,
            "layout": "IPY_MODEL_8bf3664e284e44e488fbcfca543c6318",
            "max": 349,
            "min": 0,
            "orientation": "horizontal",
            "style": "IPY_MODEL_fd602131cf1b403bb8957e2ed4b2dd3b",
            "value": 349
          }
        },
        "556dd1a60df44291b06b4c9fb89f022f": {
          "model_module": "@jupyter-widgets/controls",
          "model_name": "HTMLModel",
          "model_module_version": "1.5.0",
          "state": {
            "_dom_classes": [],
            "_model_module": "@jupyter-widgets/controls",
            "_model_module_version": "1.5.0",
            "_model_name": "HTMLModel",
            "_view_count": null,
            "_view_module": "@jupyter-widgets/controls",
            "_view_module_version": "1.5.0",
            "_view_name": "HTMLView",
            "description": "",
            "description_tooltip": null,
            "layout": "IPY_MODEL_68a2e59bdc684469962bc7a29969c8b1",
            "placeholder": "​",
            "style": "IPY_MODEL_9bf98ed2512e4a828faf001d8e54eeaf",
            "value": " 349/349 [00:00&lt;00:00, 11.6kB/s]"
          }
        },
        "913a42162ad44d389ba502107eff6fdf": {
          "model_module": "@jupyter-widgets/base",
          "model_name": "LayoutModel",
          "model_module_version": "1.2.0",
          "state": {
            "_model_module": "@jupyter-widgets/base",
            "_model_module_version": "1.2.0",
            "_model_name": "LayoutModel",
            "_view_count": null,
            "_view_module": "@jupyter-widgets/base",
            "_view_module_version": "1.2.0",
            "_view_name": "LayoutView",
            "align_content": null,
            "align_items": null,
            "align_self": null,
            "border": null,
            "bottom": null,
            "display": null,
            "flex": null,
            "flex_flow": null,
            "grid_area": null,
            "grid_auto_columns": null,
            "grid_auto_flow": null,
            "grid_auto_rows": null,
            "grid_column": null,
            "grid_gap": null,
            "grid_row": null,
            "grid_template_areas": null,
            "grid_template_columns": null,
            "grid_template_rows": null,
            "height": null,
            "justify_content": null,
            "justify_items": null,
            "left": null,
            "margin": null,
            "max_height": null,
            "max_width": null,
            "min_height": null,
            "min_width": null,
            "object_fit": null,
            "object_position": null,
            "order": null,
            "overflow": null,
            "overflow_x": null,
            "overflow_y": null,
            "padding": null,
            "right": null,
            "top": null,
            "visibility": null,
            "width": null
          }
        },
        "abebea252bfc485baa71ee39384b7611": {
          "model_module": "@jupyter-widgets/base",
          "model_name": "LayoutModel",
          "model_module_version": "1.2.0",
          "state": {
            "_model_module": "@jupyter-widgets/base",
            "_model_module_version": "1.2.0",
            "_model_name": "LayoutModel",
            "_view_count": null,
            "_view_module": "@jupyter-widgets/base",
            "_view_module_version": "1.2.0",
            "_view_name": "LayoutView",
            "align_content": null,
            "align_items": null,
            "align_self": null,
            "border": null,
            "bottom": null,
            "display": null,
            "flex": null,
            "flex_flow": null,
            "grid_area": null,
            "grid_auto_columns": null,
            "grid_auto_flow": null,
            "grid_auto_rows": null,
            "grid_column": null,
            "grid_gap": null,
            "grid_row": null,
            "grid_template_areas": null,
            "grid_template_columns": null,
            "grid_template_rows": null,
            "height": null,
            "justify_content": null,
            "justify_items": null,
            "left": null,
            "margin": null,
            "max_height": null,
            "max_width": null,
            "min_height": null,
            "min_width": null,
            "object_fit": null,
            "object_position": null,
            "order": null,
            "overflow": null,
            "overflow_x": null,
            "overflow_y": null,
            "padding": null,
            "right": null,
            "top": null,
            "visibility": null,
            "width": null
          }
        },
        "7060a93144a648619b5c57181fbc033b": {
          "model_module": "@jupyter-widgets/controls",
          "model_name": "DescriptionStyleModel",
          "model_module_version": "1.5.0",
          "state": {
            "_model_module": "@jupyter-widgets/controls",
            "_model_module_version": "1.5.0",
            "_model_name": "DescriptionStyleModel",
            "_view_count": null,
            "_view_module": "@jupyter-widgets/base",
            "_view_module_version": "1.2.0",
            "_view_name": "StyleView",
            "description_width": ""
          }
        },
        "8bf3664e284e44e488fbcfca543c6318": {
          "model_module": "@jupyter-widgets/base",
          "model_name": "LayoutModel",
          "model_module_version": "1.2.0",
          "state": {
            "_model_module": "@jupyter-widgets/base",
            "_model_module_version": "1.2.0",
            "_model_name": "LayoutModel",
            "_view_count": null,
            "_view_module": "@jupyter-widgets/base",
            "_view_module_version": "1.2.0",
            "_view_name": "LayoutView",
            "align_content": null,
            "align_items": null,
            "align_self": null,
            "border": null,
            "bottom": null,
            "display": null,
            "flex": null,
            "flex_flow": null,
            "grid_area": null,
            "grid_auto_columns": null,
            "grid_auto_flow": null,
            "grid_auto_rows": null,
            "grid_column": null,
            "grid_gap": null,
            "grid_row": null,
            "grid_template_areas": null,
            "grid_template_columns": null,
            "grid_template_rows": null,
            "height": null,
            "justify_content": null,
            "justify_items": null,
            "left": null,
            "margin": null,
            "max_height": null,
            "max_width": null,
            "min_height": null,
            "min_width": null,
            "object_fit": null,
            "object_position": null,
            "order": null,
            "overflow": null,
            "overflow_x": null,
            "overflow_y": null,
            "padding": null,
            "right": null,
            "top": null,
            "visibility": null,
            "width": null
          }
        },
        "fd602131cf1b403bb8957e2ed4b2dd3b": {
          "model_module": "@jupyter-widgets/controls",
          "model_name": "ProgressStyleModel",
          "model_module_version": "1.5.0",
          "state": {
            "_model_module": "@jupyter-widgets/controls",
            "_model_module_version": "1.5.0",
            "_model_name": "ProgressStyleModel",
            "_view_count": null,
            "_view_module": "@jupyter-widgets/base",
            "_view_module_version": "1.2.0",
            "_view_name": "StyleView",
            "bar_color": null,
            "description_width": ""
          }
        },
        "68a2e59bdc684469962bc7a29969c8b1": {
          "model_module": "@jupyter-widgets/base",
          "model_name": "LayoutModel",
          "model_module_version": "1.2.0",
          "state": {
            "_model_module": "@jupyter-widgets/base",
            "_model_module_version": "1.2.0",
            "_model_name": "LayoutModel",
            "_view_count": null,
            "_view_module": "@jupyter-widgets/base",
            "_view_module_version": "1.2.0",
            "_view_name": "LayoutView",
            "align_content": null,
            "align_items": null,
            "align_self": null,
            "border": null,
            "bottom": null,
            "display": null,
            "flex": null,
            "flex_flow": null,
            "grid_area": null,
            "grid_auto_columns": null,
            "grid_auto_flow": null,
            "grid_auto_rows": null,
            "grid_column": null,
            "grid_gap": null,
            "grid_row": null,
            "grid_template_areas": null,
            "grid_template_columns": null,
            "grid_template_rows": null,
            "height": null,
            "justify_content": null,
            "justify_items": null,
            "left": null,
            "margin": null,
            "max_height": null,
            "max_width": null,
            "min_height": null,
            "min_width": null,
            "object_fit": null,
            "object_position": null,
            "order": null,
            "overflow": null,
            "overflow_x": null,
            "overflow_y": null,
            "padding": null,
            "right": null,
            "top": null,
            "visibility": null,
            "width": null
          }
        },
        "9bf98ed2512e4a828faf001d8e54eeaf": {
          "model_module": "@jupyter-widgets/controls",
          "model_name": "DescriptionStyleModel",
          "model_module_version": "1.5.0",
          "state": {
            "_model_module": "@jupyter-widgets/controls",
            "_model_module_version": "1.5.0",
            "_model_name": "DescriptionStyleModel",
            "_view_count": null,
            "_view_module": "@jupyter-widgets/base",
            "_view_module_version": "1.2.0",
            "_view_name": "StyleView",
            "description_width": ""
          }
        },
        "60d8c7ce40b54c09928b2c1e7c633898": {
          "model_module": "@jupyter-widgets/controls",
          "model_name": "HBoxModel",
          "model_module_version": "1.5.0",
          "state": {
            "_dom_classes": [],
            "_model_module": "@jupyter-widgets/controls",
            "_model_module_version": "1.5.0",
            "_model_name": "HBoxModel",
            "_view_count": null,
            "_view_module": "@jupyter-widgets/controls",
            "_view_module_version": "1.5.0",
            "_view_name": "HBoxView",
            "box_style": "",
            "children": [
              "IPY_MODEL_b41e0446f698455db95ea4621562652e",
              "IPY_MODEL_9cc54b1b12714a4fb02609c32050d0a4",
              "IPY_MODEL_933db76f22cf435d93c061bd3fc3b4a0"
            ],
            "layout": "IPY_MODEL_b0056c8092b74a648d5c1575cb909b82"
          }
        },
        "b41e0446f698455db95ea4621562652e": {
          "model_module": "@jupyter-widgets/controls",
          "model_name": "HTMLModel",
          "model_module_version": "1.5.0",
          "state": {
            "_dom_classes": [],
            "_model_module": "@jupyter-widgets/controls",
            "_model_module_version": "1.5.0",
            "_model_name": "HTMLModel",
            "_view_count": null,
            "_view_module": "@jupyter-widgets/controls",
            "_view_module_version": "1.5.0",
            "_view_name": "HTMLView",
            "description": "",
            "description_tooltip": null,
            "layout": "IPY_MODEL_fd2b104255b34b899970177f653a90fe",
            "placeholder": "​",
            "style": "IPY_MODEL_0b6099146f0147b3a09c2c23909b0f1e",
            "value": "config_sentence_transformers.json: 100%"
          }
        },
        "9cc54b1b12714a4fb02609c32050d0a4": {
          "model_module": "@jupyter-widgets/controls",
          "model_name": "FloatProgressModel",
          "model_module_version": "1.5.0",
          "state": {
            "_dom_classes": [],
            "_model_module": "@jupyter-widgets/controls",
            "_model_module_version": "1.5.0",
            "_model_name": "FloatProgressModel",
            "_view_count": null,
            "_view_module": "@jupyter-widgets/controls",
            "_view_module_version": "1.5.0",
            "_view_name": "ProgressView",
            "bar_style": "success",
            "description": "",
            "description_tooltip": null,
            "layout": "IPY_MODEL_fa5bcc5fb7d049a785a53164009a7c97",
            "max": 116,
            "min": 0,
            "orientation": "horizontal",
            "style": "IPY_MODEL_b5e0d23804684f468e72e9755a139bae",
            "value": 116
          }
        },
        "933db76f22cf435d93c061bd3fc3b4a0": {
          "model_module": "@jupyter-widgets/controls",
          "model_name": "HTMLModel",
          "model_module_version": "1.5.0",
          "state": {
            "_dom_classes": [],
            "_model_module": "@jupyter-widgets/controls",
            "_model_module_version": "1.5.0",
            "_model_name": "HTMLModel",
            "_view_count": null,
            "_view_module": "@jupyter-widgets/controls",
            "_view_module_version": "1.5.0",
            "_view_name": "HTMLView",
            "description": "",
            "description_tooltip": null,
            "layout": "IPY_MODEL_b4f191af1a0d42259ed51458d6c35ad1",
            "placeholder": "​",
            "style": "IPY_MODEL_82dbbe0f5200483c949558bf6f433a87",
            "value": " 116/116 [00:00&lt;00:00, 4.80kB/s]"
          }
        },
        "b0056c8092b74a648d5c1575cb909b82": {
          "model_module": "@jupyter-widgets/base",
          "model_name": "LayoutModel",
          "model_module_version": "1.2.0",
          "state": {
            "_model_module": "@jupyter-widgets/base",
            "_model_module_version": "1.2.0",
            "_model_name": "LayoutModel",
            "_view_count": null,
            "_view_module": "@jupyter-widgets/base",
            "_view_module_version": "1.2.0",
            "_view_name": "LayoutView",
            "align_content": null,
            "align_items": null,
            "align_self": null,
            "border": null,
            "bottom": null,
            "display": null,
            "flex": null,
            "flex_flow": null,
            "grid_area": null,
            "grid_auto_columns": null,
            "grid_auto_flow": null,
            "grid_auto_rows": null,
            "grid_column": null,
            "grid_gap": null,
            "grid_row": null,
            "grid_template_areas": null,
            "grid_template_columns": null,
            "grid_template_rows": null,
            "height": null,
            "justify_content": null,
            "justify_items": null,
            "left": null,
            "margin": null,
            "max_height": null,
            "max_width": null,
            "min_height": null,
            "min_width": null,
            "object_fit": null,
            "object_position": null,
            "order": null,
            "overflow": null,
            "overflow_x": null,
            "overflow_y": null,
            "padding": null,
            "right": null,
            "top": null,
            "visibility": null,
            "width": null
          }
        },
        "fd2b104255b34b899970177f653a90fe": {
          "model_module": "@jupyter-widgets/base",
          "model_name": "LayoutModel",
          "model_module_version": "1.2.0",
          "state": {
            "_model_module": "@jupyter-widgets/base",
            "_model_module_version": "1.2.0",
            "_model_name": "LayoutModel",
            "_view_count": null,
            "_view_module": "@jupyter-widgets/base",
            "_view_module_version": "1.2.0",
            "_view_name": "LayoutView",
            "align_content": null,
            "align_items": null,
            "align_self": null,
            "border": null,
            "bottom": null,
            "display": null,
            "flex": null,
            "flex_flow": null,
            "grid_area": null,
            "grid_auto_columns": null,
            "grid_auto_flow": null,
            "grid_auto_rows": null,
            "grid_column": null,
            "grid_gap": null,
            "grid_row": null,
            "grid_template_areas": null,
            "grid_template_columns": null,
            "grid_template_rows": null,
            "height": null,
            "justify_content": null,
            "justify_items": null,
            "left": null,
            "margin": null,
            "max_height": null,
            "max_width": null,
            "min_height": null,
            "min_width": null,
            "object_fit": null,
            "object_position": null,
            "order": null,
            "overflow": null,
            "overflow_x": null,
            "overflow_y": null,
            "padding": null,
            "right": null,
            "top": null,
            "visibility": null,
            "width": null
          }
        },
        "0b6099146f0147b3a09c2c23909b0f1e": {
          "model_module": "@jupyter-widgets/controls",
          "model_name": "DescriptionStyleModel",
          "model_module_version": "1.5.0",
          "state": {
            "_model_module": "@jupyter-widgets/controls",
            "_model_module_version": "1.5.0",
            "_model_name": "DescriptionStyleModel",
            "_view_count": null,
            "_view_module": "@jupyter-widgets/base",
            "_view_module_version": "1.2.0",
            "_view_name": "StyleView",
            "description_width": ""
          }
        },
        "fa5bcc5fb7d049a785a53164009a7c97": {
          "model_module": "@jupyter-widgets/base",
          "model_name": "LayoutModel",
          "model_module_version": "1.2.0",
          "state": {
            "_model_module": "@jupyter-widgets/base",
            "_model_module_version": "1.2.0",
            "_model_name": "LayoutModel",
            "_view_count": null,
            "_view_module": "@jupyter-widgets/base",
            "_view_module_version": "1.2.0",
            "_view_name": "LayoutView",
            "align_content": null,
            "align_items": null,
            "align_self": null,
            "border": null,
            "bottom": null,
            "display": null,
            "flex": null,
            "flex_flow": null,
            "grid_area": null,
            "grid_auto_columns": null,
            "grid_auto_flow": null,
            "grid_auto_rows": null,
            "grid_column": null,
            "grid_gap": null,
            "grid_row": null,
            "grid_template_areas": null,
            "grid_template_columns": null,
            "grid_template_rows": null,
            "height": null,
            "justify_content": null,
            "justify_items": null,
            "left": null,
            "margin": null,
            "max_height": null,
            "max_width": null,
            "min_height": null,
            "min_width": null,
            "object_fit": null,
            "object_position": null,
            "order": null,
            "overflow": null,
            "overflow_x": null,
            "overflow_y": null,
            "padding": null,
            "right": null,
            "top": null,
            "visibility": null,
            "width": null
          }
        },
        "b5e0d23804684f468e72e9755a139bae": {
          "model_module": "@jupyter-widgets/controls",
          "model_name": "ProgressStyleModel",
          "model_module_version": "1.5.0",
          "state": {
            "_model_module": "@jupyter-widgets/controls",
            "_model_module_version": "1.5.0",
            "_model_name": "ProgressStyleModel",
            "_view_count": null,
            "_view_module": "@jupyter-widgets/base",
            "_view_module_version": "1.2.0",
            "_view_name": "StyleView",
            "bar_color": null,
            "description_width": ""
          }
        },
        "b4f191af1a0d42259ed51458d6c35ad1": {
          "model_module": "@jupyter-widgets/base",
          "model_name": "LayoutModel",
          "model_module_version": "1.2.0",
          "state": {
            "_model_module": "@jupyter-widgets/base",
            "_model_module_version": "1.2.0",
            "_model_name": "LayoutModel",
            "_view_count": null,
            "_view_module": "@jupyter-widgets/base",
            "_view_module_version": "1.2.0",
            "_view_name": "LayoutView",
            "align_content": null,
            "align_items": null,
            "align_self": null,
            "border": null,
            "bottom": null,
            "display": null,
            "flex": null,
            "flex_flow": null,
            "grid_area": null,
            "grid_auto_columns": null,
            "grid_auto_flow": null,
            "grid_auto_rows": null,
            "grid_column": null,
            "grid_gap": null,
            "grid_row": null,
            "grid_template_areas": null,
            "grid_template_columns": null,
            "grid_template_rows": null,
            "height": null,
            "justify_content": null,
            "justify_items": null,
            "left": null,
            "margin": null,
            "max_height": null,
            "max_width": null,
            "min_height": null,
            "min_width": null,
            "object_fit": null,
            "object_position": null,
            "order": null,
            "overflow": null,
            "overflow_x": null,
            "overflow_y": null,
            "padding": null,
            "right": null,
            "top": null,
            "visibility": null,
            "width": null
          }
        },
        "82dbbe0f5200483c949558bf6f433a87": {
          "model_module": "@jupyter-widgets/controls",
          "model_name": "DescriptionStyleModel",
          "model_module_version": "1.5.0",
          "state": {
            "_model_module": "@jupyter-widgets/controls",
            "_model_module_version": "1.5.0",
            "_model_name": "DescriptionStyleModel",
            "_view_count": null,
            "_view_module": "@jupyter-widgets/base",
            "_view_module_version": "1.2.0",
            "_view_name": "StyleView",
            "description_width": ""
          }
        },
        "783d6f98066c4aae89b0663ddf734da3": {
          "model_module": "@jupyter-widgets/controls",
          "model_name": "HBoxModel",
          "model_module_version": "1.5.0",
          "state": {
            "_dom_classes": [],
            "_model_module": "@jupyter-widgets/controls",
            "_model_module_version": "1.5.0",
            "_model_name": "HBoxModel",
            "_view_count": null,
            "_view_module": "@jupyter-widgets/controls",
            "_view_module_version": "1.5.0",
            "_view_name": "HBoxView",
            "box_style": "",
            "children": [
              "IPY_MODEL_740434339fb549c3aa12bde8ce7b0646",
              "IPY_MODEL_0649d7c582d3492fbca480df3a0136a4",
              "IPY_MODEL_4d9d2e24fe6b439b9e80e93ccd1c3847"
            ],
            "layout": "IPY_MODEL_e36ff28f116643ceac90c2a6310f1f61"
          }
        },
        "740434339fb549c3aa12bde8ce7b0646": {
          "model_module": "@jupyter-widgets/controls",
          "model_name": "HTMLModel",
          "model_module_version": "1.5.0",
          "state": {
            "_dom_classes": [],
            "_model_module": "@jupyter-widgets/controls",
            "_model_module_version": "1.5.0",
            "_model_name": "HTMLModel",
            "_view_count": null,
            "_view_module": "@jupyter-widgets/controls",
            "_view_module_version": "1.5.0",
            "_view_name": "HTMLView",
            "description": "",
            "description_tooltip": null,
            "layout": "IPY_MODEL_71b52cb5be3d4bdc8a6bdd1b5871fef6",
            "placeholder": "​",
            "style": "IPY_MODEL_c5cff0b63e24464185cee293b332f4eb",
            "value": "README.md: "
          }
        },
        "0649d7c582d3492fbca480df3a0136a4": {
          "model_module": "@jupyter-widgets/controls",
          "model_name": "FloatProgressModel",
          "model_module_version": "1.5.0",
          "state": {
            "_dom_classes": [],
            "_model_module": "@jupyter-widgets/controls",
            "_model_module_version": "1.5.0",
            "_model_name": "FloatProgressModel",
            "_view_count": null,
            "_view_module": "@jupyter-widgets/controls",
            "_view_module_version": "1.5.0",
            "_view_name": "ProgressView",
            "bar_style": "success",
            "description": "",
            "description_tooltip": null,
            "layout": "IPY_MODEL_26bfb538b2cc4329b4bae45f637d98f0",
            "max": 1,
            "min": 0,
            "orientation": "horizontal",
            "style": "IPY_MODEL_e687fb0820d24a0f9423ffec05a04f5a",
            "value": 1
          }
        },
        "4d9d2e24fe6b439b9e80e93ccd1c3847": {
          "model_module": "@jupyter-widgets/controls",
          "model_name": "HTMLModel",
          "model_module_version": "1.5.0",
          "state": {
            "_dom_classes": [],
            "_model_module": "@jupyter-widgets/controls",
            "_model_module_version": "1.5.0",
            "_model_name": "HTMLModel",
            "_view_count": null,
            "_view_module": "@jupyter-widgets/controls",
            "_view_module_version": "1.5.0",
            "_view_name": "HTMLView",
            "description": "",
            "description_tooltip": null,
            "layout": "IPY_MODEL_6d90fb26e4bc4b3ea75f5989eccba39d",
            "placeholder": "​",
            "style": "IPY_MODEL_b3f6381699514c5bbe2e1261fce90762",
            "value": " 10.5k/? [00:00&lt;00:00, 362kB/s]"
          }
        },
        "e36ff28f116643ceac90c2a6310f1f61": {
          "model_module": "@jupyter-widgets/base",
          "model_name": "LayoutModel",
          "model_module_version": "1.2.0",
          "state": {
            "_model_module": "@jupyter-widgets/base",
            "_model_module_version": "1.2.0",
            "_model_name": "LayoutModel",
            "_view_count": null,
            "_view_module": "@jupyter-widgets/base",
            "_view_module_version": "1.2.0",
            "_view_name": "LayoutView",
            "align_content": null,
            "align_items": null,
            "align_self": null,
            "border": null,
            "bottom": null,
            "display": null,
            "flex": null,
            "flex_flow": null,
            "grid_area": null,
            "grid_auto_columns": null,
            "grid_auto_flow": null,
            "grid_auto_rows": null,
            "grid_column": null,
            "grid_gap": null,
            "grid_row": null,
            "grid_template_areas": null,
            "grid_template_columns": null,
            "grid_template_rows": null,
            "height": null,
            "justify_content": null,
            "justify_items": null,
            "left": null,
            "margin": null,
            "max_height": null,
            "max_width": null,
            "min_height": null,
            "min_width": null,
            "object_fit": null,
            "object_position": null,
            "order": null,
            "overflow": null,
            "overflow_x": null,
            "overflow_y": null,
            "padding": null,
            "right": null,
            "top": null,
            "visibility": null,
            "width": null
          }
        },
        "71b52cb5be3d4bdc8a6bdd1b5871fef6": {
          "model_module": "@jupyter-widgets/base",
          "model_name": "LayoutModel",
          "model_module_version": "1.2.0",
          "state": {
            "_model_module": "@jupyter-widgets/base",
            "_model_module_version": "1.2.0",
            "_model_name": "LayoutModel",
            "_view_count": null,
            "_view_module": "@jupyter-widgets/base",
            "_view_module_version": "1.2.0",
            "_view_name": "LayoutView",
            "align_content": null,
            "align_items": null,
            "align_self": null,
            "border": null,
            "bottom": null,
            "display": null,
            "flex": null,
            "flex_flow": null,
            "grid_area": null,
            "grid_auto_columns": null,
            "grid_auto_flow": null,
            "grid_auto_rows": null,
            "grid_column": null,
            "grid_gap": null,
            "grid_row": null,
            "grid_template_areas": null,
            "grid_template_columns": null,
            "grid_template_rows": null,
            "height": null,
            "justify_content": null,
            "justify_items": null,
            "left": null,
            "margin": null,
            "max_height": null,
            "max_width": null,
            "min_height": null,
            "min_width": null,
            "object_fit": null,
            "object_position": null,
            "order": null,
            "overflow": null,
            "overflow_x": null,
            "overflow_y": null,
            "padding": null,
            "right": null,
            "top": null,
            "visibility": null,
            "width": null
          }
        },
        "c5cff0b63e24464185cee293b332f4eb": {
          "model_module": "@jupyter-widgets/controls",
          "model_name": "DescriptionStyleModel",
          "model_module_version": "1.5.0",
          "state": {
            "_model_module": "@jupyter-widgets/controls",
            "_model_module_version": "1.5.0",
            "_model_name": "DescriptionStyleModel",
            "_view_count": null,
            "_view_module": "@jupyter-widgets/base",
            "_view_module_version": "1.2.0",
            "_view_name": "StyleView",
            "description_width": ""
          }
        },
        "26bfb538b2cc4329b4bae45f637d98f0": {
          "model_module": "@jupyter-widgets/base",
          "model_name": "LayoutModel",
          "model_module_version": "1.2.0",
          "state": {
            "_model_module": "@jupyter-widgets/base",
            "_model_module_version": "1.2.0",
            "_model_name": "LayoutModel",
            "_view_count": null,
            "_view_module": "@jupyter-widgets/base",
            "_view_module_version": "1.2.0",
            "_view_name": "LayoutView",
            "align_content": null,
            "align_items": null,
            "align_self": null,
            "border": null,
            "bottom": null,
            "display": null,
            "flex": null,
            "flex_flow": null,
            "grid_area": null,
            "grid_auto_columns": null,
            "grid_auto_flow": null,
            "grid_auto_rows": null,
            "grid_column": null,
            "grid_gap": null,
            "grid_row": null,
            "grid_template_areas": null,
            "grid_template_columns": null,
            "grid_template_rows": null,
            "height": null,
            "justify_content": null,
            "justify_items": null,
            "left": null,
            "margin": null,
            "max_height": null,
            "max_width": null,
            "min_height": null,
            "min_width": null,
            "object_fit": null,
            "object_position": null,
            "order": null,
            "overflow": null,
            "overflow_x": null,
            "overflow_y": null,
            "padding": null,
            "right": null,
            "top": null,
            "visibility": null,
            "width": "20px"
          }
        },
        "e687fb0820d24a0f9423ffec05a04f5a": {
          "model_module": "@jupyter-widgets/controls",
          "model_name": "ProgressStyleModel",
          "model_module_version": "1.5.0",
          "state": {
            "_model_module": "@jupyter-widgets/controls",
            "_model_module_version": "1.5.0",
            "_model_name": "ProgressStyleModel",
            "_view_count": null,
            "_view_module": "@jupyter-widgets/base",
            "_view_module_version": "1.2.0",
            "_view_name": "StyleView",
            "bar_color": null,
            "description_width": ""
          }
        },
        "6d90fb26e4bc4b3ea75f5989eccba39d": {
          "model_module": "@jupyter-widgets/base",
          "model_name": "LayoutModel",
          "model_module_version": "1.2.0",
          "state": {
            "_model_module": "@jupyter-widgets/base",
            "_model_module_version": "1.2.0",
            "_model_name": "LayoutModel",
            "_view_count": null,
            "_view_module": "@jupyter-widgets/base",
            "_view_module_version": "1.2.0",
            "_view_name": "LayoutView",
            "align_content": null,
            "align_items": null,
            "align_self": null,
            "border": null,
            "bottom": null,
            "display": null,
            "flex": null,
            "flex_flow": null,
            "grid_area": null,
            "grid_auto_columns": null,
            "grid_auto_flow": null,
            "grid_auto_rows": null,
            "grid_column": null,
            "grid_gap": null,
            "grid_row": null,
            "grid_template_areas": null,
            "grid_template_columns": null,
            "grid_template_rows": null,
            "height": null,
            "justify_content": null,
            "justify_items": null,
            "left": null,
            "margin": null,
            "max_height": null,
            "max_width": null,
            "min_height": null,
            "min_width": null,
            "object_fit": null,
            "object_position": null,
            "order": null,
            "overflow": null,
            "overflow_x": null,
            "overflow_y": null,
            "padding": null,
            "right": null,
            "top": null,
            "visibility": null,
            "width": null
          }
        },
        "b3f6381699514c5bbe2e1261fce90762": {
          "model_module": "@jupyter-widgets/controls",
          "model_name": "DescriptionStyleModel",
          "model_module_version": "1.5.0",
          "state": {
            "_model_module": "@jupyter-widgets/controls",
            "_model_module_version": "1.5.0",
            "_model_name": "DescriptionStyleModel",
            "_view_count": null,
            "_view_module": "@jupyter-widgets/base",
            "_view_module_version": "1.2.0",
            "_view_name": "StyleView",
            "description_width": ""
          }
        },
        "0e7ebf88b3154657901ff51e587014d2": {
          "model_module": "@jupyter-widgets/controls",
          "model_name": "HBoxModel",
          "model_module_version": "1.5.0",
          "state": {
            "_dom_classes": [],
            "_model_module": "@jupyter-widgets/controls",
            "_model_module_version": "1.5.0",
            "_model_name": "HBoxModel",
            "_view_count": null,
            "_view_module": "@jupyter-widgets/controls",
            "_view_module_version": "1.5.0",
            "_view_name": "HBoxView",
            "box_style": "",
            "children": [
              "IPY_MODEL_966569c6461647be8e99451276c2bee8",
              "IPY_MODEL_850cb3b7e940403f99c04789659d566d",
              "IPY_MODEL_89a4f49d98ba4ef9a1590f36ea87bc41"
            ],
            "layout": "IPY_MODEL_8bb5d4e58b4a43d4b57b3cab6a23895a"
          }
        },
        "966569c6461647be8e99451276c2bee8": {
          "model_module": "@jupyter-widgets/controls",
          "model_name": "HTMLModel",
          "model_module_version": "1.5.0",
          "state": {
            "_dom_classes": [],
            "_model_module": "@jupyter-widgets/controls",
            "_model_module_version": "1.5.0",
            "_model_name": "HTMLModel",
            "_view_count": null,
            "_view_module": "@jupyter-widgets/controls",
            "_view_module_version": "1.5.0",
            "_view_name": "HTMLView",
            "description": "",
            "description_tooltip": null,
            "layout": "IPY_MODEL_9e291f5881b54de8a8afaee171ebac85",
            "placeholder": "​",
            "style": "IPY_MODEL_e673c001ed074a0496a2358aeab04517",
            "value": "sentence_bert_config.json: 100%"
          }
        },
        "850cb3b7e940403f99c04789659d566d": {
          "model_module": "@jupyter-widgets/controls",
          "model_name": "FloatProgressModel",
          "model_module_version": "1.5.0",
          "state": {
            "_dom_classes": [],
            "_model_module": "@jupyter-widgets/controls",
            "_model_module_version": "1.5.0",
            "_model_name": "FloatProgressModel",
            "_view_count": null,
            "_view_module": "@jupyter-widgets/controls",
            "_view_module_version": "1.5.0",
            "_view_name": "ProgressView",
            "bar_style": "success",
            "description": "",
            "description_tooltip": null,
            "layout": "IPY_MODEL_d7647b1bcbb8498481cfe5842361826f",
            "max": 53,
            "min": 0,
            "orientation": "horizontal",
            "style": "IPY_MODEL_e4c44d0cfcfb4d1cbe26e5442c81c531",
            "value": 53
          }
        },
        "89a4f49d98ba4ef9a1590f36ea87bc41": {
          "model_module": "@jupyter-widgets/controls",
          "model_name": "HTMLModel",
          "model_module_version": "1.5.0",
          "state": {
            "_dom_classes": [],
            "_model_module": "@jupyter-widgets/controls",
            "_model_module_version": "1.5.0",
            "_model_name": "HTMLModel",
            "_view_count": null,
            "_view_module": "@jupyter-widgets/controls",
            "_view_module_version": "1.5.0",
            "_view_name": "HTMLView",
            "description": "",
            "description_tooltip": null,
            "layout": "IPY_MODEL_038e1fea646541f7b93bb45d3e8c2263",
            "placeholder": "​",
            "style": "IPY_MODEL_f467af3e7ddb4877b5d60ecb3569d62b",
            "value": " 53.0/53.0 [00:00&lt;00:00, 1.89kB/s]"
          }
        },
        "8bb5d4e58b4a43d4b57b3cab6a23895a": {
          "model_module": "@jupyter-widgets/base",
          "model_name": "LayoutModel",
          "model_module_version": "1.2.0",
          "state": {
            "_model_module": "@jupyter-widgets/base",
            "_model_module_version": "1.2.0",
            "_model_name": "LayoutModel",
            "_view_count": null,
            "_view_module": "@jupyter-widgets/base",
            "_view_module_version": "1.2.0",
            "_view_name": "LayoutView",
            "align_content": null,
            "align_items": null,
            "align_self": null,
            "border": null,
            "bottom": null,
            "display": null,
            "flex": null,
            "flex_flow": null,
            "grid_area": null,
            "grid_auto_columns": null,
            "grid_auto_flow": null,
            "grid_auto_rows": null,
            "grid_column": null,
            "grid_gap": null,
            "grid_row": null,
            "grid_template_areas": null,
            "grid_template_columns": null,
            "grid_template_rows": null,
            "height": null,
            "justify_content": null,
            "justify_items": null,
            "left": null,
            "margin": null,
            "max_height": null,
            "max_width": null,
            "min_height": null,
            "min_width": null,
            "object_fit": null,
            "object_position": null,
            "order": null,
            "overflow": null,
            "overflow_x": null,
            "overflow_y": null,
            "padding": null,
            "right": null,
            "top": null,
            "visibility": null,
            "width": null
          }
        },
        "9e291f5881b54de8a8afaee171ebac85": {
          "model_module": "@jupyter-widgets/base",
          "model_name": "LayoutModel",
          "model_module_version": "1.2.0",
          "state": {
            "_model_module": "@jupyter-widgets/base",
            "_model_module_version": "1.2.0",
            "_model_name": "LayoutModel",
            "_view_count": null,
            "_view_module": "@jupyter-widgets/base",
            "_view_module_version": "1.2.0",
            "_view_name": "LayoutView",
            "align_content": null,
            "align_items": null,
            "align_self": null,
            "border": null,
            "bottom": null,
            "display": null,
            "flex": null,
            "flex_flow": null,
            "grid_area": null,
            "grid_auto_columns": null,
            "grid_auto_flow": null,
            "grid_auto_rows": null,
            "grid_column": null,
            "grid_gap": null,
            "grid_row": null,
            "grid_template_areas": null,
            "grid_template_columns": null,
            "grid_template_rows": null,
            "height": null,
            "justify_content": null,
            "justify_items": null,
            "left": null,
            "margin": null,
            "max_height": null,
            "max_width": null,
            "min_height": null,
            "min_width": null,
            "object_fit": null,
            "object_position": null,
            "order": null,
            "overflow": null,
            "overflow_x": null,
            "overflow_y": null,
            "padding": null,
            "right": null,
            "top": null,
            "visibility": null,
            "width": null
          }
        },
        "e673c001ed074a0496a2358aeab04517": {
          "model_module": "@jupyter-widgets/controls",
          "model_name": "DescriptionStyleModel",
          "model_module_version": "1.5.0",
          "state": {
            "_model_module": "@jupyter-widgets/controls",
            "_model_module_version": "1.5.0",
            "_model_name": "DescriptionStyleModel",
            "_view_count": null,
            "_view_module": "@jupyter-widgets/base",
            "_view_module_version": "1.2.0",
            "_view_name": "StyleView",
            "description_width": ""
          }
        },
        "d7647b1bcbb8498481cfe5842361826f": {
          "model_module": "@jupyter-widgets/base",
          "model_name": "LayoutModel",
          "model_module_version": "1.2.0",
          "state": {
            "_model_module": "@jupyter-widgets/base",
            "_model_module_version": "1.2.0",
            "_model_name": "LayoutModel",
            "_view_count": null,
            "_view_module": "@jupyter-widgets/base",
            "_view_module_version": "1.2.0",
            "_view_name": "LayoutView",
            "align_content": null,
            "align_items": null,
            "align_self": null,
            "border": null,
            "bottom": null,
            "display": null,
            "flex": null,
            "flex_flow": null,
            "grid_area": null,
            "grid_auto_columns": null,
            "grid_auto_flow": null,
            "grid_auto_rows": null,
            "grid_column": null,
            "grid_gap": null,
            "grid_row": null,
            "grid_template_areas": null,
            "grid_template_columns": null,
            "grid_template_rows": null,
            "height": null,
            "justify_content": null,
            "justify_items": null,
            "left": null,
            "margin": null,
            "max_height": null,
            "max_width": null,
            "min_height": null,
            "min_width": null,
            "object_fit": null,
            "object_position": null,
            "order": null,
            "overflow": null,
            "overflow_x": null,
            "overflow_y": null,
            "padding": null,
            "right": null,
            "top": null,
            "visibility": null,
            "width": null
          }
        },
        "e4c44d0cfcfb4d1cbe26e5442c81c531": {
          "model_module": "@jupyter-widgets/controls",
          "model_name": "ProgressStyleModel",
          "model_module_version": "1.5.0",
          "state": {
            "_model_module": "@jupyter-widgets/controls",
            "_model_module_version": "1.5.0",
            "_model_name": "ProgressStyleModel",
            "_view_count": null,
            "_view_module": "@jupyter-widgets/base",
            "_view_module_version": "1.2.0",
            "_view_name": "StyleView",
            "bar_color": null,
            "description_width": ""
          }
        },
        "038e1fea646541f7b93bb45d3e8c2263": {
          "model_module": "@jupyter-widgets/base",
          "model_name": "LayoutModel",
          "model_module_version": "1.2.0",
          "state": {
            "_model_module": "@jupyter-widgets/base",
            "_model_module_version": "1.2.0",
            "_model_name": "LayoutModel",
            "_view_count": null,
            "_view_module": "@jupyter-widgets/base",
            "_view_module_version": "1.2.0",
            "_view_name": "LayoutView",
            "align_content": null,
            "align_items": null,
            "align_self": null,
            "border": null,
            "bottom": null,
            "display": null,
            "flex": null,
            "flex_flow": null,
            "grid_area": null,
            "grid_auto_columns": null,
            "grid_auto_flow": null,
            "grid_auto_rows": null,
            "grid_column": null,
            "grid_gap": null,
            "grid_row": null,
            "grid_template_areas": null,
            "grid_template_columns": null,
            "grid_template_rows": null,
            "height": null,
            "justify_content": null,
            "justify_items": null,
            "left": null,
            "margin": null,
            "max_height": null,
            "max_width": null,
            "min_height": null,
            "min_width": null,
            "object_fit": null,
            "object_position": null,
            "order": null,
            "overflow": null,
            "overflow_x": null,
            "overflow_y": null,
            "padding": null,
            "right": null,
            "top": null,
            "visibility": null,
            "width": null
          }
        },
        "f467af3e7ddb4877b5d60ecb3569d62b": {
          "model_module": "@jupyter-widgets/controls",
          "model_name": "DescriptionStyleModel",
          "model_module_version": "1.5.0",
          "state": {
            "_model_module": "@jupyter-widgets/controls",
            "_model_module_version": "1.5.0",
            "_model_name": "DescriptionStyleModel",
            "_view_count": null,
            "_view_module": "@jupyter-widgets/base",
            "_view_module_version": "1.2.0",
            "_view_name": "StyleView",
            "description_width": ""
          }
        },
        "a5f25639a8694e6d98d64ed74867b90d": {
          "model_module": "@jupyter-widgets/controls",
          "model_name": "HBoxModel",
          "model_module_version": "1.5.0",
          "state": {
            "_dom_classes": [],
            "_model_module": "@jupyter-widgets/controls",
            "_model_module_version": "1.5.0",
            "_model_name": "HBoxModel",
            "_view_count": null,
            "_view_module": "@jupyter-widgets/controls",
            "_view_module_version": "1.5.0",
            "_view_name": "HBoxView",
            "box_style": "",
            "children": [
              "IPY_MODEL_59101a71f2a24651bdb46d4481efbde1",
              "IPY_MODEL_b15716b1609e44428caa41f92f8941e3",
              "IPY_MODEL_f83675a4c6c84a0193338d1925227914"
            ],
            "layout": "IPY_MODEL_ba6c0222351f40d788e5f7d918bff3c3"
          }
        },
        "59101a71f2a24651bdb46d4481efbde1": {
          "model_module": "@jupyter-widgets/controls",
          "model_name": "HTMLModel",
          "model_module_version": "1.5.0",
          "state": {
            "_dom_classes": [],
            "_model_module": "@jupyter-widgets/controls",
            "_model_module_version": "1.5.0",
            "_model_name": "HTMLModel",
            "_view_count": null,
            "_view_module": "@jupyter-widgets/controls",
            "_view_module_version": "1.5.0",
            "_view_name": "HTMLView",
            "description": "",
            "description_tooltip": null,
            "layout": "IPY_MODEL_f3ce830b9b9741ac869e454e0f9f00d9",
            "placeholder": "​",
            "style": "IPY_MODEL_2f4ced7758e941eca8d365a44e1b12f8",
            "value": "config.json: 100%"
          }
        },
        "b15716b1609e44428caa41f92f8941e3": {
          "model_module": "@jupyter-widgets/controls",
          "model_name": "FloatProgressModel",
          "model_module_version": "1.5.0",
          "state": {
            "_dom_classes": [],
            "_model_module": "@jupyter-widgets/controls",
            "_model_module_version": "1.5.0",
            "_model_name": "FloatProgressModel",
            "_view_count": null,
            "_view_module": "@jupyter-widgets/controls",
            "_view_module_version": "1.5.0",
            "_view_name": "ProgressView",
            "bar_style": "success",
            "description": "",
            "description_tooltip": null,
            "layout": "IPY_MODEL_eb400b76c658483ea24524a0602e6e04",
            "max": 612,
            "min": 0,
            "orientation": "horizontal",
            "style": "IPY_MODEL_a6e7ea99c3ee494ab18ee758a29c46ac",
            "value": 612
          }
        },
        "f83675a4c6c84a0193338d1925227914": {
          "model_module": "@jupyter-widgets/controls",
          "model_name": "HTMLModel",
          "model_module_version": "1.5.0",
          "state": {
            "_dom_classes": [],
            "_model_module": "@jupyter-widgets/controls",
            "_model_module_version": "1.5.0",
            "_model_name": "HTMLModel",
            "_view_count": null,
            "_view_module": "@jupyter-widgets/controls",
            "_view_module_version": "1.5.0",
            "_view_name": "HTMLView",
            "description": "",
            "description_tooltip": null,
            "layout": "IPY_MODEL_ecc7af004fa2462fb2bb3f74aaed4ef7",
            "placeholder": "​",
            "style": "IPY_MODEL_aea5d104ee5c4734b0eb42af2a2c55c4",
            "value": " 612/612 [00:00&lt;00:00, 12.1kB/s]"
          }
        },
        "ba6c0222351f40d788e5f7d918bff3c3": {
          "model_module": "@jupyter-widgets/base",
          "model_name": "LayoutModel",
          "model_module_version": "1.2.0",
          "state": {
            "_model_module": "@jupyter-widgets/base",
            "_model_module_version": "1.2.0",
            "_model_name": "LayoutModel",
            "_view_count": null,
            "_view_module": "@jupyter-widgets/base",
            "_view_module_version": "1.2.0",
            "_view_name": "LayoutView",
            "align_content": null,
            "align_items": null,
            "align_self": null,
            "border": null,
            "bottom": null,
            "display": null,
            "flex": null,
            "flex_flow": null,
            "grid_area": null,
            "grid_auto_columns": null,
            "grid_auto_flow": null,
            "grid_auto_rows": null,
            "grid_column": null,
            "grid_gap": null,
            "grid_row": null,
            "grid_template_areas": null,
            "grid_template_columns": null,
            "grid_template_rows": null,
            "height": null,
            "justify_content": null,
            "justify_items": null,
            "left": null,
            "margin": null,
            "max_height": null,
            "max_width": null,
            "min_height": null,
            "min_width": null,
            "object_fit": null,
            "object_position": null,
            "order": null,
            "overflow": null,
            "overflow_x": null,
            "overflow_y": null,
            "padding": null,
            "right": null,
            "top": null,
            "visibility": null,
            "width": null
          }
        },
        "f3ce830b9b9741ac869e454e0f9f00d9": {
          "model_module": "@jupyter-widgets/base",
          "model_name": "LayoutModel",
          "model_module_version": "1.2.0",
          "state": {
            "_model_module": "@jupyter-widgets/base",
            "_model_module_version": "1.2.0",
            "_model_name": "LayoutModel",
            "_view_count": null,
            "_view_module": "@jupyter-widgets/base",
            "_view_module_version": "1.2.0",
            "_view_name": "LayoutView",
            "align_content": null,
            "align_items": null,
            "align_self": null,
            "border": null,
            "bottom": null,
            "display": null,
            "flex": null,
            "flex_flow": null,
            "grid_area": null,
            "grid_auto_columns": null,
            "grid_auto_flow": null,
            "grid_auto_rows": null,
            "grid_column": null,
            "grid_gap": null,
            "grid_row": null,
            "grid_template_areas": null,
            "grid_template_columns": null,
            "grid_template_rows": null,
            "height": null,
            "justify_content": null,
            "justify_items": null,
            "left": null,
            "margin": null,
            "max_height": null,
            "max_width": null,
            "min_height": null,
            "min_width": null,
            "object_fit": null,
            "object_position": null,
            "order": null,
            "overflow": null,
            "overflow_x": null,
            "overflow_y": null,
            "padding": null,
            "right": null,
            "top": null,
            "visibility": null,
            "width": null
          }
        },
        "2f4ced7758e941eca8d365a44e1b12f8": {
          "model_module": "@jupyter-widgets/controls",
          "model_name": "DescriptionStyleModel",
          "model_module_version": "1.5.0",
          "state": {
            "_model_module": "@jupyter-widgets/controls",
            "_model_module_version": "1.5.0",
            "_model_name": "DescriptionStyleModel",
            "_view_count": null,
            "_view_module": "@jupyter-widgets/base",
            "_view_module_version": "1.2.0",
            "_view_name": "StyleView",
            "description_width": ""
          }
        },
        "eb400b76c658483ea24524a0602e6e04": {
          "model_module": "@jupyter-widgets/base",
          "model_name": "LayoutModel",
          "model_module_version": "1.2.0",
          "state": {
            "_model_module": "@jupyter-widgets/base",
            "_model_module_version": "1.2.0",
            "_model_name": "LayoutModel",
            "_view_count": null,
            "_view_module": "@jupyter-widgets/base",
            "_view_module_version": "1.2.0",
            "_view_name": "LayoutView",
            "align_content": null,
            "align_items": null,
            "align_self": null,
            "border": null,
            "bottom": null,
            "display": null,
            "flex": null,
            "flex_flow": null,
            "grid_area": null,
            "grid_auto_columns": null,
            "grid_auto_flow": null,
            "grid_auto_rows": null,
            "grid_column": null,
            "grid_gap": null,
            "grid_row": null,
            "grid_template_areas": null,
            "grid_template_columns": null,
            "grid_template_rows": null,
            "height": null,
            "justify_content": null,
            "justify_items": null,
            "left": null,
            "margin": null,
            "max_height": null,
            "max_width": null,
            "min_height": null,
            "min_width": null,
            "object_fit": null,
            "object_position": null,
            "order": null,
            "overflow": null,
            "overflow_x": null,
            "overflow_y": null,
            "padding": null,
            "right": null,
            "top": null,
            "visibility": null,
            "width": null
          }
        },
        "a6e7ea99c3ee494ab18ee758a29c46ac": {
          "model_module": "@jupyter-widgets/controls",
          "model_name": "ProgressStyleModel",
          "model_module_version": "1.5.0",
          "state": {
            "_model_module": "@jupyter-widgets/controls",
            "_model_module_version": "1.5.0",
            "_model_name": "ProgressStyleModel",
            "_view_count": null,
            "_view_module": "@jupyter-widgets/base",
            "_view_module_version": "1.2.0",
            "_view_name": "StyleView",
            "bar_color": null,
            "description_width": ""
          }
        },
        "ecc7af004fa2462fb2bb3f74aaed4ef7": {
          "model_module": "@jupyter-widgets/base",
          "model_name": "LayoutModel",
          "model_module_version": "1.2.0",
          "state": {
            "_model_module": "@jupyter-widgets/base",
            "_model_module_version": "1.2.0",
            "_model_name": "LayoutModel",
            "_view_count": null,
            "_view_module": "@jupyter-widgets/base",
            "_view_module_version": "1.2.0",
            "_view_name": "LayoutView",
            "align_content": null,
            "align_items": null,
            "align_self": null,
            "border": null,
            "bottom": null,
            "display": null,
            "flex": null,
            "flex_flow": null,
            "grid_area": null,
            "grid_auto_columns": null,
            "grid_auto_flow": null,
            "grid_auto_rows": null,
            "grid_column": null,
            "grid_gap": null,
            "grid_row": null,
            "grid_template_areas": null,
            "grid_template_columns": null,
            "grid_template_rows": null,
            "height": null,
            "justify_content": null,
            "justify_items": null,
            "left": null,
            "margin": null,
            "max_height": null,
            "max_width": null,
            "min_height": null,
            "min_width": null,
            "object_fit": null,
            "object_position": null,
            "order": null,
            "overflow": null,
            "overflow_x": null,
            "overflow_y": null,
            "padding": null,
            "right": null,
            "top": null,
            "visibility": null,
            "width": null
          }
        },
        "aea5d104ee5c4734b0eb42af2a2c55c4": {
          "model_module": "@jupyter-widgets/controls",
          "model_name": "DescriptionStyleModel",
          "model_module_version": "1.5.0",
          "state": {
            "_model_module": "@jupyter-widgets/controls",
            "_model_module_version": "1.5.0",
            "_model_name": "DescriptionStyleModel",
            "_view_count": null,
            "_view_module": "@jupyter-widgets/base",
            "_view_module_version": "1.2.0",
            "_view_name": "StyleView",
            "description_width": ""
          }
        },
        "e6aca431919d45e48cddc5a89a143b5d": {
          "model_module": "@jupyter-widgets/controls",
          "model_name": "HBoxModel",
          "model_module_version": "1.5.0",
          "state": {
            "_dom_classes": [],
            "_model_module": "@jupyter-widgets/controls",
            "_model_module_version": "1.5.0",
            "_model_name": "HBoxModel",
            "_view_count": null,
            "_view_module": "@jupyter-widgets/controls",
            "_view_module_version": "1.5.0",
            "_view_name": "HBoxView",
            "box_style": "",
            "children": [
              "IPY_MODEL_0d5fc3f4cced47b3a2f88e95a7e5c800",
              "IPY_MODEL_47bdfea7a87647f083708b50cd963a75",
              "IPY_MODEL_c0f1919e9986499dad7832ceca8f192d"
            ],
            "layout": "IPY_MODEL_7cde2aedf7e04bcc906560e1d214deac"
          }
        },
        "0d5fc3f4cced47b3a2f88e95a7e5c800": {
          "model_module": "@jupyter-widgets/controls",
          "model_name": "HTMLModel",
          "model_module_version": "1.5.0",
          "state": {
            "_dom_classes": [],
            "_model_module": "@jupyter-widgets/controls",
            "_model_module_version": "1.5.0",
            "_model_name": "HTMLModel",
            "_view_count": null,
            "_view_module": "@jupyter-widgets/controls",
            "_view_module_version": "1.5.0",
            "_view_name": "HTMLView",
            "description": "",
            "description_tooltip": null,
            "layout": "IPY_MODEL_dc855dae8085451cbc65e8f357b1150e",
            "placeholder": "​",
            "style": "IPY_MODEL_61ff08cfce7340f79c03ebc2939f3c75",
            "value": "model.safetensors: 100%"
          }
        },
        "47bdfea7a87647f083708b50cd963a75": {
          "model_module": "@jupyter-widgets/controls",
          "model_name": "FloatProgressModel",
          "model_module_version": "1.5.0",
          "state": {
            "_dom_classes": [],
            "_model_module": "@jupyter-widgets/controls",
            "_model_module_version": "1.5.0",
            "_model_name": "FloatProgressModel",
            "_view_count": null,
            "_view_module": "@jupyter-widgets/controls",
            "_view_module_version": "1.5.0",
            "_view_name": "ProgressView",
            "bar_style": "success",
            "description": "",
            "description_tooltip": null,
            "layout": "IPY_MODEL_bd3a9708b105412db5ca26cd01a8f996",
            "max": 90868376,
            "min": 0,
            "orientation": "horizontal",
            "style": "IPY_MODEL_d69a18e5e55e49958deed713e8d676d1",
            "value": 90868376
          }
        },
        "c0f1919e9986499dad7832ceca8f192d": {
          "model_module": "@jupyter-widgets/controls",
          "model_name": "HTMLModel",
          "model_module_version": "1.5.0",
          "state": {
            "_dom_classes": [],
            "_model_module": "@jupyter-widgets/controls",
            "_model_module_version": "1.5.0",
            "_model_name": "HTMLModel",
            "_view_count": null,
            "_view_module": "@jupyter-widgets/controls",
            "_view_module_version": "1.5.0",
            "_view_name": "HTMLView",
            "description": "",
            "description_tooltip": null,
            "layout": "IPY_MODEL_ea430a2b6ed34f7995ec1e6ed122e06f",
            "placeholder": "​",
            "style": "IPY_MODEL_629612fa952944aba58a2fb68d8620bf",
            "value": " 90.9M/90.9M [00:10&lt;00:00, 9.43MB/s]"
          }
        },
        "7cde2aedf7e04bcc906560e1d214deac": {
          "model_module": "@jupyter-widgets/base",
          "model_name": "LayoutModel",
          "model_module_version": "1.2.0",
          "state": {
            "_model_module": "@jupyter-widgets/base",
            "_model_module_version": "1.2.0",
            "_model_name": "LayoutModel",
            "_view_count": null,
            "_view_module": "@jupyter-widgets/base",
            "_view_module_version": "1.2.0",
            "_view_name": "LayoutView",
            "align_content": null,
            "align_items": null,
            "align_self": null,
            "border": null,
            "bottom": null,
            "display": null,
            "flex": null,
            "flex_flow": null,
            "grid_area": null,
            "grid_auto_columns": null,
            "grid_auto_flow": null,
            "grid_auto_rows": null,
            "grid_column": null,
            "grid_gap": null,
            "grid_row": null,
            "grid_template_areas": null,
            "grid_template_columns": null,
            "grid_template_rows": null,
            "height": null,
            "justify_content": null,
            "justify_items": null,
            "left": null,
            "margin": null,
            "max_height": null,
            "max_width": null,
            "min_height": null,
            "min_width": null,
            "object_fit": null,
            "object_position": null,
            "order": null,
            "overflow": null,
            "overflow_x": null,
            "overflow_y": null,
            "padding": null,
            "right": null,
            "top": null,
            "visibility": null,
            "width": null
          }
        },
        "dc855dae8085451cbc65e8f357b1150e": {
          "model_module": "@jupyter-widgets/base",
          "model_name": "LayoutModel",
          "model_module_version": "1.2.0",
          "state": {
            "_model_module": "@jupyter-widgets/base",
            "_model_module_version": "1.2.0",
            "_model_name": "LayoutModel",
            "_view_count": null,
            "_view_module": "@jupyter-widgets/base",
            "_view_module_version": "1.2.0",
            "_view_name": "LayoutView",
            "align_content": null,
            "align_items": null,
            "align_self": null,
            "border": null,
            "bottom": null,
            "display": null,
            "flex": null,
            "flex_flow": null,
            "grid_area": null,
            "grid_auto_columns": null,
            "grid_auto_flow": null,
            "grid_auto_rows": null,
            "grid_column": null,
            "grid_gap": null,
            "grid_row": null,
            "grid_template_areas": null,
            "grid_template_columns": null,
            "grid_template_rows": null,
            "height": null,
            "justify_content": null,
            "justify_items": null,
            "left": null,
            "margin": null,
            "max_height": null,
            "max_width": null,
            "min_height": null,
            "min_width": null,
            "object_fit": null,
            "object_position": null,
            "order": null,
            "overflow": null,
            "overflow_x": null,
            "overflow_y": null,
            "padding": null,
            "right": null,
            "top": null,
            "visibility": null,
            "width": null
          }
        },
        "61ff08cfce7340f79c03ebc2939f3c75": {
          "model_module": "@jupyter-widgets/controls",
          "model_name": "DescriptionStyleModel",
          "model_module_version": "1.5.0",
          "state": {
            "_model_module": "@jupyter-widgets/controls",
            "_model_module_version": "1.5.0",
            "_model_name": "DescriptionStyleModel",
            "_view_count": null,
            "_view_module": "@jupyter-widgets/base",
            "_view_module_version": "1.2.0",
            "_view_name": "StyleView",
            "description_width": ""
          }
        },
        "bd3a9708b105412db5ca26cd01a8f996": {
          "model_module": "@jupyter-widgets/base",
          "model_name": "LayoutModel",
          "model_module_version": "1.2.0",
          "state": {
            "_model_module": "@jupyter-widgets/base",
            "_model_module_version": "1.2.0",
            "_model_name": "LayoutModel",
            "_view_count": null,
            "_view_module": "@jupyter-widgets/base",
            "_view_module_version": "1.2.0",
            "_view_name": "LayoutView",
            "align_content": null,
            "align_items": null,
            "align_self": null,
            "border": null,
            "bottom": null,
            "display": null,
            "flex": null,
            "flex_flow": null,
            "grid_area": null,
            "grid_auto_columns": null,
            "grid_auto_flow": null,
            "grid_auto_rows": null,
            "grid_column": null,
            "grid_gap": null,
            "grid_row": null,
            "grid_template_areas": null,
            "grid_template_columns": null,
            "grid_template_rows": null,
            "height": null,
            "justify_content": null,
            "justify_items": null,
            "left": null,
            "margin": null,
            "max_height": null,
            "max_width": null,
            "min_height": null,
            "min_width": null,
            "object_fit": null,
            "object_position": null,
            "order": null,
            "overflow": null,
            "overflow_x": null,
            "overflow_y": null,
            "padding": null,
            "right": null,
            "top": null,
            "visibility": null,
            "width": null
          }
        },
        "d69a18e5e55e49958deed713e8d676d1": {
          "model_module": "@jupyter-widgets/controls",
          "model_name": "ProgressStyleModel",
          "model_module_version": "1.5.0",
          "state": {
            "_model_module": "@jupyter-widgets/controls",
            "_model_module_version": "1.5.0",
            "_model_name": "ProgressStyleModel",
            "_view_count": null,
            "_view_module": "@jupyter-widgets/base",
            "_view_module_version": "1.2.0",
            "_view_name": "StyleView",
            "bar_color": null,
            "description_width": ""
          }
        },
        "ea430a2b6ed34f7995ec1e6ed122e06f": {
          "model_module": "@jupyter-widgets/base",
          "model_name": "LayoutModel",
          "model_module_version": "1.2.0",
          "state": {
            "_model_module": "@jupyter-widgets/base",
            "_model_module_version": "1.2.0",
            "_model_name": "LayoutModel",
            "_view_count": null,
            "_view_module": "@jupyter-widgets/base",
            "_view_module_version": "1.2.0",
            "_view_name": "LayoutView",
            "align_content": null,
            "align_items": null,
            "align_self": null,
            "border": null,
            "bottom": null,
            "display": null,
            "flex": null,
            "flex_flow": null,
            "grid_area": null,
            "grid_auto_columns": null,
            "grid_auto_flow": null,
            "grid_auto_rows": null,
            "grid_column": null,
            "grid_gap": null,
            "grid_row": null,
            "grid_template_areas": null,
            "grid_template_columns": null,
            "grid_template_rows": null,
            "height": null,
            "justify_content": null,
            "justify_items": null,
            "left": null,
            "margin": null,
            "max_height": null,
            "max_width": null,
            "min_height": null,
            "min_width": null,
            "object_fit": null,
            "object_position": null,
            "order": null,
            "overflow": null,
            "overflow_x": null,
            "overflow_y": null,
            "padding": null,
            "right": null,
            "top": null,
            "visibility": null,
            "width": null
          }
        },
        "629612fa952944aba58a2fb68d8620bf": {
          "model_module": "@jupyter-widgets/controls",
          "model_name": "DescriptionStyleModel",
          "model_module_version": "1.5.0",
          "state": {
            "_model_module": "@jupyter-widgets/controls",
            "_model_module_version": "1.5.0",
            "_model_name": "DescriptionStyleModel",
            "_view_count": null,
            "_view_module": "@jupyter-widgets/base",
            "_view_module_version": "1.2.0",
            "_view_name": "StyleView",
            "description_width": ""
          }
        },
        "e8db95b9a40a4050815ec7782e5d807b": {
          "model_module": "@jupyter-widgets/controls",
          "model_name": "HBoxModel",
          "model_module_version": "1.5.0",
          "state": {
            "_dom_classes": [],
            "_model_module": "@jupyter-widgets/controls",
            "_model_module_version": "1.5.0",
            "_model_name": "HBoxModel",
            "_view_count": null,
            "_view_module": "@jupyter-widgets/controls",
            "_view_module_version": "1.5.0",
            "_view_name": "HBoxView",
            "box_style": "",
            "children": [
              "IPY_MODEL_e43015e3a1ff4251958a4430df50c487",
              "IPY_MODEL_7bf3d9dabc324fac9d286006c68898b1",
              "IPY_MODEL_35bc5dccace64e51b0d25991bc5b78d0"
            ],
            "layout": "IPY_MODEL_ad6c8c2dec2446c4ba5f17c9dca7284a"
          }
        },
        "e43015e3a1ff4251958a4430df50c487": {
          "model_module": "@jupyter-widgets/controls",
          "model_name": "HTMLModel",
          "model_module_version": "1.5.0",
          "state": {
            "_dom_classes": [],
            "_model_module": "@jupyter-widgets/controls",
            "_model_module_version": "1.5.0",
            "_model_name": "HTMLModel",
            "_view_count": null,
            "_view_module": "@jupyter-widgets/controls",
            "_view_module_version": "1.5.0",
            "_view_name": "HTMLView",
            "description": "",
            "description_tooltip": null,
            "layout": "IPY_MODEL_d49b59ca94754e449dc6be50b2d3d689",
            "placeholder": "​",
            "style": "IPY_MODEL_9114b037e9584ef4b396c43498176f34",
            "value": "tokenizer_config.json: 100%"
          }
        },
        "7bf3d9dabc324fac9d286006c68898b1": {
          "model_module": "@jupyter-widgets/controls",
          "model_name": "FloatProgressModel",
          "model_module_version": "1.5.0",
          "state": {
            "_dom_classes": [],
            "_model_module": "@jupyter-widgets/controls",
            "_model_module_version": "1.5.0",
            "_model_name": "FloatProgressModel",
            "_view_count": null,
            "_view_module": "@jupyter-widgets/controls",
            "_view_module_version": "1.5.0",
            "_view_name": "ProgressView",
            "bar_style": "success",
            "description": "",
            "description_tooltip": null,
            "layout": "IPY_MODEL_ba613836b4644f5c9de88e6879610211",
            "max": 350,
            "min": 0,
            "orientation": "horizontal",
            "style": "IPY_MODEL_09dcffdbc12249cf9dd6a7f9c9e3ae2c",
            "value": 350
          }
        },
        "35bc5dccace64e51b0d25991bc5b78d0": {
          "model_module": "@jupyter-widgets/controls",
          "model_name": "HTMLModel",
          "model_module_version": "1.5.0",
          "state": {
            "_dom_classes": [],
            "_model_module": "@jupyter-widgets/controls",
            "_model_module_version": "1.5.0",
            "_model_name": "HTMLModel",
            "_view_count": null,
            "_view_module": "@jupyter-widgets/controls",
            "_view_module_version": "1.5.0",
            "_view_name": "HTMLView",
            "description": "",
            "description_tooltip": null,
            "layout": "IPY_MODEL_847d519704a74e038f12496948fc7902",
            "placeholder": "​",
            "style": "IPY_MODEL_3bf5823daa9b4a8d8a2c8f0286ae94ff",
            "value": " 350/350 [00:00&lt;00:00, 28.6kB/s]"
          }
        },
        "ad6c8c2dec2446c4ba5f17c9dca7284a": {
          "model_module": "@jupyter-widgets/base",
          "model_name": "LayoutModel",
          "model_module_version": "1.2.0",
          "state": {
            "_model_module": "@jupyter-widgets/base",
            "_model_module_version": "1.2.0",
            "_model_name": "LayoutModel",
            "_view_count": null,
            "_view_module": "@jupyter-widgets/base",
            "_view_module_version": "1.2.0",
            "_view_name": "LayoutView",
            "align_content": null,
            "align_items": null,
            "align_self": null,
            "border": null,
            "bottom": null,
            "display": null,
            "flex": null,
            "flex_flow": null,
            "grid_area": null,
            "grid_auto_columns": null,
            "grid_auto_flow": null,
            "grid_auto_rows": null,
            "grid_column": null,
            "grid_gap": null,
            "grid_row": null,
            "grid_template_areas": null,
            "grid_template_columns": null,
            "grid_template_rows": null,
            "height": null,
            "justify_content": null,
            "justify_items": null,
            "left": null,
            "margin": null,
            "max_height": null,
            "max_width": null,
            "min_height": null,
            "min_width": null,
            "object_fit": null,
            "object_position": null,
            "order": null,
            "overflow": null,
            "overflow_x": null,
            "overflow_y": null,
            "padding": null,
            "right": null,
            "top": null,
            "visibility": null,
            "width": null
          }
        },
        "d49b59ca94754e449dc6be50b2d3d689": {
          "model_module": "@jupyter-widgets/base",
          "model_name": "LayoutModel",
          "model_module_version": "1.2.0",
          "state": {
            "_model_module": "@jupyter-widgets/base",
            "_model_module_version": "1.2.0",
            "_model_name": "LayoutModel",
            "_view_count": null,
            "_view_module": "@jupyter-widgets/base",
            "_view_module_version": "1.2.0",
            "_view_name": "LayoutView",
            "align_content": null,
            "align_items": null,
            "align_self": null,
            "border": null,
            "bottom": null,
            "display": null,
            "flex": null,
            "flex_flow": null,
            "grid_area": null,
            "grid_auto_columns": null,
            "grid_auto_flow": null,
            "grid_auto_rows": null,
            "grid_column": null,
            "grid_gap": null,
            "grid_row": null,
            "grid_template_areas": null,
            "grid_template_columns": null,
            "grid_template_rows": null,
            "height": null,
            "justify_content": null,
            "justify_items": null,
            "left": null,
            "margin": null,
            "max_height": null,
            "max_width": null,
            "min_height": null,
            "min_width": null,
            "object_fit": null,
            "object_position": null,
            "order": null,
            "overflow": null,
            "overflow_x": null,
            "overflow_y": null,
            "padding": null,
            "right": null,
            "top": null,
            "visibility": null,
            "width": null
          }
        },
        "9114b037e9584ef4b396c43498176f34": {
          "model_module": "@jupyter-widgets/controls",
          "model_name": "DescriptionStyleModel",
          "model_module_version": "1.5.0",
          "state": {
            "_model_module": "@jupyter-widgets/controls",
            "_model_module_version": "1.5.0",
            "_model_name": "DescriptionStyleModel",
            "_view_count": null,
            "_view_module": "@jupyter-widgets/base",
            "_view_module_version": "1.2.0",
            "_view_name": "StyleView",
            "description_width": ""
          }
        },
        "ba613836b4644f5c9de88e6879610211": {
          "model_module": "@jupyter-widgets/base",
          "model_name": "LayoutModel",
          "model_module_version": "1.2.0",
          "state": {
            "_model_module": "@jupyter-widgets/base",
            "_model_module_version": "1.2.0",
            "_model_name": "LayoutModel",
            "_view_count": null,
            "_view_module": "@jupyter-widgets/base",
            "_view_module_version": "1.2.0",
            "_view_name": "LayoutView",
            "align_content": null,
            "align_items": null,
            "align_self": null,
            "border": null,
            "bottom": null,
            "display": null,
            "flex": null,
            "flex_flow": null,
            "grid_area": null,
            "grid_auto_columns": null,
            "grid_auto_flow": null,
            "grid_auto_rows": null,
            "grid_column": null,
            "grid_gap": null,
            "grid_row": null,
            "grid_template_areas": null,
            "grid_template_columns": null,
            "grid_template_rows": null,
            "height": null,
            "justify_content": null,
            "justify_items": null,
            "left": null,
            "margin": null,
            "max_height": null,
            "max_width": null,
            "min_height": null,
            "min_width": null,
            "object_fit": null,
            "object_position": null,
            "order": null,
            "overflow": null,
            "overflow_x": null,
            "overflow_y": null,
            "padding": null,
            "right": null,
            "top": null,
            "visibility": null,
            "width": null
          }
        },
        "09dcffdbc12249cf9dd6a7f9c9e3ae2c": {
          "model_module": "@jupyter-widgets/controls",
          "model_name": "ProgressStyleModel",
          "model_module_version": "1.5.0",
          "state": {
            "_model_module": "@jupyter-widgets/controls",
            "_model_module_version": "1.5.0",
            "_model_name": "ProgressStyleModel",
            "_view_count": null,
            "_view_module": "@jupyter-widgets/base",
            "_view_module_version": "1.2.0",
            "_view_name": "StyleView",
            "bar_color": null,
            "description_width": ""
          }
        },
        "847d519704a74e038f12496948fc7902": {
          "model_module": "@jupyter-widgets/base",
          "model_name": "LayoutModel",
          "model_module_version": "1.2.0",
          "state": {
            "_model_module": "@jupyter-widgets/base",
            "_model_module_version": "1.2.0",
            "_model_name": "LayoutModel",
            "_view_count": null,
            "_view_module": "@jupyter-widgets/base",
            "_view_module_version": "1.2.0",
            "_view_name": "LayoutView",
            "align_content": null,
            "align_items": null,
            "align_self": null,
            "border": null,
            "bottom": null,
            "display": null,
            "flex": null,
            "flex_flow": null,
            "grid_area": null,
            "grid_auto_columns": null,
            "grid_auto_flow": null,
            "grid_auto_rows": null,
            "grid_column": null,
            "grid_gap": null,
            "grid_row": null,
            "grid_template_areas": null,
            "grid_template_columns": null,
            "grid_template_rows": null,
            "height": null,
            "justify_content": null,
            "justify_items": null,
            "left": null,
            "margin": null,
            "max_height": null,
            "max_width": null,
            "min_height": null,
            "min_width": null,
            "object_fit": null,
            "object_position": null,
            "order": null,
            "overflow": null,
            "overflow_x": null,
            "overflow_y": null,
            "padding": null,
            "right": null,
            "top": null,
            "visibility": null,
            "width": null
          }
        },
        "3bf5823daa9b4a8d8a2c8f0286ae94ff": {
          "model_module": "@jupyter-widgets/controls",
          "model_name": "DescriptionStyleModel",
          "model_module_version": "1.5.0",
          "state": {
            "_model_module": "@jupyter-widgets/controls",
            "_model_module_version": "1.5.0",
            "_model_name": "DescriptionStyleModel",
            "_view_count": null,
            "_view_module": "@jupyter-widgets/base",
            "_view_module_version": "1.2.0",
            "_view_name": "StyleView",
            "description_width": ""
          }
        },
        "2716a4f0c0f5492ea38bb18c6f7edd70": {
          "model_module": "@jupyter-widgets/controls",
          "model_name": "HBoxModel",
          "model_module_version": "1.5.0",
          "state": {
            "_dom_classes": [],
            "_model_module": "@jupyter-widgets/controls",
            "_model_module_version": "1.5.0",
            "_model_name": "HBoxModel",
            "_view_count": null,
            "_view_module": "@jupyter-widgets/controls",
            "_view_module_version": "1.5.0",
            "_view_name": "HBoxView",
            "box_style": "",
            "children": [
              "IPY_MODEL_488d8400f7054659860aeec14dd7c48c",
              "IPY_MODEL_7d471dc7ae8b4226871f57ec2a2df1a3",
              "IPY_MODEL_5532323d124d4ed89037c70f70b1cf9a"
            ],
            "layout": "IPY_MODEL_24939159eb594fbab996e76b4212b37c"
          }
        },
        "488d8400f7054659860aeec14dd7c48c": {
          "model_module": "@jupyter-widgets/controls",
          "model_name": "HTMLModel",
          "model_module_version": "1.5.0",
          "state": {
            "_dom_classes": [],
            "_model_module": "@jupyter-widgets/controls",
            "_model_module_version": "1.5.0",
            "_model_name": "HTMLModel",
            "_view_count": null,
            "_view_module": "@jupyter-widgets/controls",
            "_view_module_version": "1.5.0",
            "_view_name": "HTMLView",
            "description": "",
            "description_tooltip": null,
            "layout": "IPY_MODEL_821c67d4b96a48c1952da110aa020ae8",
            "placeholder": "​",
            "style": "IPY_MODEL_4eaa08c10bc44db1b7408e425bd09828",
            "value": "vocab.txt: "
          }
        },
        "7d471dc7ae8b4226871f57ec2a2df1a3": {
          "model_module": "@jupyter-widgets/controls",
          "model_name": "FloatProgressModel",
          "model_module_version": "1.5.0",
          "state": {
            "_dom_classes": [],
            "_model_module": "@jupyter-widgets/controls",
            "_model_module_version": "1.5.0",
            "_model_name": "FloatProgressModel",
            "_view_count": null,
            "_view_module": "@jupyter-widgets/controls",
            "_view_module_version": "1.5.0",
            "_view_name": "ProgressView",
            "bar_style": "success",
            "description": "",
            "description_tooltip": null,
            "layout": "IPY_MODEL_be0130f06db145508c5d4d384ec988fc",
            "max": 1,
            "min": 0,
            "orientation": "horizontal",
            "style": "IPY_MODEL_9910fe43d97b42a3927aa5f717d327ae",
            "value": 1
          }
        },
        "5532323d124d4ed89037c70f70b1cf9a": {
          "model_module": "@jupyter-widgets/controls",
          "model_name": "HTMLModel",
          "model_module_version": "1.5.0",
          "state": {
            "_dom_classes": [],
            "_model_module": "@jupyter-widgets/controls",
            "_model_module_version": "1.5.0",
            "_model_name": "HTMLModel",
            "_view_count": null,
            "_view_module": "@jupyter-widgets/controls",
            "_view_module_version": "1.5.0",
            "_view_name": "HTMLView",
            "description": "",
            "description_tooltip": null,
            "layout": "IPY_MODEL_af75d3ac48b14beeb7f6075f1561fd1d",
            "placeholder": "​",
            "style": "IPY_MODEL_dff9adacdc9f4355aea8284b27dcb364",
            "value": " 232k/? [00:00&lt;00:00, 6.04MB/s]"
          }
        },
        "24939159eb594fbab996e76b4212b37c": {
          "model_module": "@jupyter-widgets/base",
          "model_name": "LayoutModel",
          "model_module_version": "1.2.0",
          "state": {
            "_model_module": "@jupyter-widgets/base",
            "_model_module_version": "1.2.0",
            "_model_name": "LayoutModel",
            "_view_count": null,
            "_view_module": "@jupyter-widgets/base",
            "_view_module_version": "1.2.0",
            "_view_name": "LayoutView",
            "align_content": null,
            "align_items": null,
            "align_self": null,
            "border": null,
            "bottom": null,
            "display": null,
            "flex": null,
            "flex_flow": null,
            "grid_area": null,
            "grid_auto_columns": null,
            "grid_auto_flow": null,
            "grid_auto_rows": null,
            "grid_column": null,
            "grid_gap": null,
            "grid_row": null,
            "grid_template_areas": null,
            "grid_template_columns": null,
            "grid_template_rows": null,
            "height": null,
            "justify_content": null,
            "justify_items": null,
            "left": null,
            "margin": null,
            "max_height": null,
            "max_width": null,
            "min_height": null,
            "min_width": null,
            "object_fit": null,
            "object_position": null,
            "order": null,
            "overflow": null,
            "overflow_x": null,
            "overflow_y": null,
            "padding": null,
            "right": null,
            "top": null,
            "visibility": null,
            "width": null
          }
        },
        "821c67d4b96a48c1952da110aa020ae8": {
          "model_module": "@jupyter-widgets/base",
          "model_name": "LayoutModel",
          "model_module_version": "1.2.0",
          "state": {
            "_model_module": "@jupyter-widgets/base",
            "_model_module_version": "1.2.0",
            "_model_name": "LayoutModel",
            "_view_count": null,
            "_view_module": "@jupyter-widgets/base",
            "_view_module_version": "1.2.0",
            "_view_name": "LayoutView",
            "align_content": null,
            "align_items": null,
            "align_self": null,
            "border": null,
            "bottom": null,
            "display": null,
            "flex": null,
            "flex_flow": null,
            "grid_area": null,
            "grid_auto_columns": null,
            "grid_auto_flow": null,
            "grid_auto_rows": null,
            "grid_column": null,
            "grid_gap": null,
            "grid_row": null,
            "grid_template_areas": null,
            "grid_template_columns": null,
            "grid_template_rows": null,
            "height": null,
            "justify_content": null,
            "justify_items": null,
            "left": null,
            "margin": null,
            "max_height": null,
            "max_width": null,
            "min_height": null,
            "min_width": null,
            "object_fit": null,
            "object_position": null,
            "order": null,
            "overflow": null,
            "overflow_x": null,
            "overflow_y": null,
            "padding": null,
            "right": null,
            "top": null,
            "visibility": null,
            "width": null
          }
        },
        "4eaa08c10bc44db1b7408e425bd09828": {
          "model_module": "@jupyter-widgets/controls",
          "model_name": "DescriptionStyleModel",
          "model_module_version": "1.5.0",
          "state": {
            "_model_module": "@jupyter-widgets/controls",
            "_model_module_version": "1.5.0",
            "_model_name": "DescriptionStyleModel",
            "_view_count": null,
            "_view_module": "@jupyter-widgets/base",
            "_view_module_version": "1.2.0",
            "_view_name": "StyleView",
            "description_width": ""
          }
        },
        "be0130f06db145508c5d4d384ec988fc": {
          "model_module": "@jupyter-widgets/base",
          "model_name": "LayoutModel",
          "model_module_version": "1.2.0",
          "state": {
            "_model_module": "@jupyter-widgets/base",
            "_model_module_version": "1.2.0",
            "_model_name": "LayoutModel",
            "_view_count": null,
            "_view_module": "@jupyter-widgets/base",
            "_view_module_version": "1.2.0",
            "_view_name": "LayoutView",
            "align_content": null,
            "align_items": null,
            "align_self": null,
            "border": null,
            "bottom": null,
            "display": null,
            "flex": null,
            "flex_flow": null,
            "grid_area": null,
            "grid_auto_columns": null,
            "grid_auto_flow": null,
            "grid_auto_rows": null,
            "grid_column": null,
            "grid_gap": null,
            "grid_row": null,
            "grid_template_areas": null,
            "grid_template_columns": null,
            "grid_template_rows": null,
            "height": null,
            "justify_content": null,
            "justify_items": null,
            "left": null,
            "margin": null,
            "max_height": null,
            "max_width": null,
            "min_height": null,
            "min_width": null,
            "object_fit": null,
            "object_position": null,
            "order": null,
            "overflow": null,
            "overflow_x": null,
            "overflow_y": null,
            "padding": null,
            "right": null,
            "top": null,
            "visibility": null,
            "width": "20px"
          }
        },
        "9910fe43d97b42a3927aa5f717d327ae": {
          "model_module": "@jupyter-widgets/controls",
          "model_name": "ProgressStyleModel",
          "model_module_version": "1.5.0",
          "state": {
            "_model_module": "@jupyter-widgets/controls",
            "_model_module_version": "1.5.0",
            "_model_name": "ProgressStyleModel",
            "_view_count": null,
            "_view_module": "@jupyter-widgets/base",
            "_view_module_version": "1.2.0",
            "_view_name": "StyleView",
            "bar_color": null,
            "description_width": ""
          }
        },
        "af75d3ac48b14beeb7f6075f1561fd1d": {
          "model_module": "@jupyter-widgets/base",
          "model_name": "LayoutModel",
          "model_module_version": "1.2.0",
          "state": {
            "_model_module": "@jupyter-widgets/base",
            "_model_module_version": "1.2.0",
            "_model_name": "LayoutModel",
            "_view_count": null,
            "_view_module": "@jupyter-widgets/base",
            "_view_module_version": "1.2.0",
            "_view_name": "LayoutView",
            "align_content": null,
            "align_items": null,
            "align_self": null,
            "border": null,
            "bottom": null,
            "display": null,
            "flex": null,
            "flex_flow": null,
            "grid_area": null,
            "grid_auto_columns": null,
            "grid_auto_flow": null,
            "grid_auto_rows": null,
            "grid_column": null,
            "grid_gap": null,
            "grid_row": null,
            "grid_template_areas": null,
            "grid_template_columns": null,
            "grid_template_rows": null,
            "height": null,
            "justify_content": null,
            "justify_items": null,
            "left": null,
            "margin": null,
            "max_height": null,
            "max_width": null,
            "min_height": null,
            "min_width": null,
            "object_fit": null,
            "object_position": null,
            "order": null,
            "overflow": null,
            "overflow_x": null,
            "overflow_y": null,
            "padding": null,
            "right": null,
            "top": null,
            "visibility": null,
            "width": null
          }
        },
        "dff9adacdc9f4355aea8284b27dcb364": {
          "model_module": "@jupyter-widgets/controls",
          "model_name": "DescriptionStyleModel",
          "model_module_version": "1.5.0",
          "state": {
            "_model_module": "@jupyter-widgets/controls",
            "_model_module_version": "1.5.0",
            "_model_name": "DescriptionStyleModel",
            "_view_count": null,
            "_view_module": "@jupyter-widgets/base",
            "_view_module_version": "1.2.0",
            "_view_name": "StyleView",
            "description_width": ""
          }
        },
        "aaaa23b87dc34180b0f3d4faeec69a90": {
          "model_module": "@jupyter-widgets/controls",
          "model_name": "HBoxModel",
          "model_module_version": "1.5.0",
          "state": {
            "_dom_classes": [],
            "_model_module": "@jupyter-widgets/controls",
            "_model_module_version": "1.5.0",
            "_model_name": "HBoxModel",
            "_view_count": null,
            "_view_module": "@jupyter-widgets/controls",
            "_view_module_version": "1.5.0",
            "_view_name": "HBoxView",
            "box_style": "",
            "children": [
              "IPY_MODEL_6989fecc5916498cb05f8f7892df44b4",
              "IPY_MODEL_18b25ffc779943d79633d20bbffc1a70",
              "IPY_MODEL_151c3a22282d4370b0c6b62bd254e54c"
            ],
            "layout": "IPY_MODEL_16a098eca83544059a0d43b5c2687032"
          }
        },
        "6989fecc5916498cb05f8f7892df44b4": {
          "model_module": "@jupyter-widgets/controls",
          "model_name": "HTMLModel",
          "model_module_version": "1.5.0",
          "state": {
            "_dom_classes": [],
            "_model_module": "@jupyter-widgets/controls",
            "_model_module_version": "1.5.0",
            "_model_name": "HTMLModel",
            "_view_count": null,
            "_view_module": "@jupyter-widgets/controls",
            "_view_module_version": "1.5.0",
            "_view_name": "HTMLView",
            "description": "",
            "description_tooltip": null,
            "layout": "IPY_MODEL_a3d4a57e4b9342b69c3c363446e9eaaf",
            "placeholder": "​",
            "style": "IPY_MODEL_e43bb2318dda4ddfbc204422f4ff26c8",
            "value": "tokenizer.json: "
          }
        },
        "18b25ffc779943d79633d20bbffc1a70": {
          "model_module": "@jupyter-widgets/controls",
          "model_name": "FloatProgressModel",
          "model_module_version": "1.5.0",
          "state": {
            "_dom_classes": [],
            "_model_module": "@jupyter-widgets/controls",
            "_model_module_version": "1.5.0",
            "_model_name": "FloatProgressModel",
            "_view_count": null,
            "_view_module": "@jupyter-widgets/controls",
            "_view_module_version": "1.5.0",
            "_view_name": "ProgressView",
            "bar_style": "success",
            "description": "",
            "description_tooltip": null,
            "layout": "IPY_MODEL_762bb72564c44e2dbb5d3a51a4d8082e",
            "max": 1,
            "min": 0,
            "orientation": "horizontal",
            "style": "IPY_MODEL_46f1c51fe630417f99aa454f0d40102d",
            "value": 1
          }
        },
        "151c3a22282d4370b0c6b62bd254e54c": {
          "model_module": "@jupyter-widgets/controls",
          "model_name": "HTMLModel",
          "model_module_version": "1.5.0",
          "state": {
            "_dom_classes": [],
            "_model_module": "@jupyter-widgets/controls",
            "_model_module_version": "1.5.0",
            "_model_name": "HTMLModel",
            "_view_count": null,
            "_view_module": "@jupyter-widgets/controls",
            "_view_module_version": "1.5.0",
            "_view_name": "HTMLView",
            "description": "",
            "description_tooltip": null,
            "layout": "IPY_MODEL_2c59c002a2d6433e9164bd2fb24ecf1c",
            "placeholder": "​",
            "style": "IPY_MODEL_cd9136f36653491dbedc1fcb6aa82eb0",
            "value": " 466k/? [00:00&lt;00:00, 19.7MB/s]"
          }
        },
        "16a098eca83544059a0d43b5c2687032": {
          "model_module": "@jupyter-widgets/base",
          "model_name": "LayoutModel",
          "model_module_version": "1.2.0",
          "state": {
            "_model_module": "@jupyter-widgets/base",
            "_model_module_version": "1.2.0",
            "_model_name": "LayoutModel",
            "_view_count": null,
            "_view_module": "@jupyter-widgets/base",
            "_view_module_version": "1.2.0",
            "_view_name": "LayoutView",
            "align_content": null,
            "align_items": null,
            "align_self": null,
            "border": null,
            "bottom": null,
            "display": null,
            "flex": null,
            "flex_flow": null,
            "grid_area": null,
            "grid_auto_columns": null,
            "grid_auto_flow": null,
            "grid_auto_rows": null,
            "grid_column": null,
            "grid_gap": null,
            "grid_row": null,
            "grid_template_areas": null,
            "grid_template_columns": null,
            "grid_template_rows": null,
            "height": null,
            "justify_content": null,
            "justify_items": null,
            "left": null,
            "margin": null,
            "max_height": null,
            "max_width": null,
            "min_height": null,
            "min_width": null,
            "object_fit": null,
            "object_position": null,
            "order": null,
            "overflow": null,
            "overflow_x": null,
            "overflow_y": null,
            "padding": null,
            "right": null,
            "top": null,
            "visibility": null,
            "width": null
          }
        },
        "a3d4a57e4b9342b69c3c363446e9eaaf": {
          "model_module": "@jupyter-widgets/base",
          "model_name": "LayoutModel",
          "model_module_version": "1.2.0",
          "state": {
            "_model_module": "@jupyter-widgets/base",
            "_model_module_version": "1.2.0",
            "_model_name": "LayoutModel",
            "_view_count": null,
            "_view_module": "@jupyter-widgets/base",
            "_view_module_version": "1.2.0",
            "_view_name": "LayoutView",
            "align_content": null,
            "align_items": null,
            "align_self": null,
            "border": null,
            "bottom": null,
            "display": null,
            "flex": null,
            "flex_flow": null,
            "grid_area": null,
            "grid_auto_columns": null,
            "grid_auto_flow": null,
            "grid_auto_rows": null,
            "grid_column": null,
            "grid_gap": null,
            "grid_row": null,
            "grid_template_areas": null,
            "grid_template_columns": null,
            "grid_template_rows": null,
            "height": null,
            "justify_content": null,
            "justify_items": null,
            "left": null,
            "margin": null,
            "max_height": null,
            "max_width": null,
            "min_height": null,
            "min_width": null,
            "object_fit": null,
            "object_position": null,
            "order": null,
            "overflow": null,
            "overflow_x": null,
            "overflow_y": null,
            "padding": null,
            "right": null,
            "top": null,
            "visibility": null,
            "width": null
          }
        },
        "e43bb2318dda4ddfbc204422f4ff26c8": {
          "model_module": "@jupyter-widgets/controls",
          "model_name": "DescriptionStyleModel",
          "model_module_version": "1.5.0",
          "state": {
            "_model_module": "@jupyter-widgets/controls",
            "_model_module_version": "1.5.0",
            "_model_name": "DescriptionStyleModel",
            "_view_count": null,
            "_view_module": "@jupyter-widgets/base",
            "_view_module_version": "1.2.0",
            "_view_name": "StyleView",
            "description_width": ""
          }
        },
        "762bb72564c44e2dbb5d3a51a4d8082e": {
          "model_module": "@jupyter-widgets/base",
          "model_name": "LayoutModel",
          "model_module_version": "1.2.0",
          "state": {
            "_model_module": "@jupyter-widgets/base",
            "_model_module_version": "1.2.0",
            "_model_name": "LayoutModel",
            "_view_count": null,
            "_view_module": "@jupyter-widgets/base",
            "_view_module_version": "1.2.0",
            "_view_name": "LayoutView",
            "align_content": null,
            "align_items": null,
            "align_self": null,
            "border": null,
            "bottom": null,
            "display": null,
            "flex": null,
            "flex_flow": null,
            "grid_area": null,
            "grid_auto_columns": null,
            "grid_auto_flow": null,
            "grid_auto_rows": null,
            "grid_column": null,
            "grid_gap": null,
            "grid_row": null,
            "grid_template_areas": null,
            "grid_template_columns": null,
            "grid_template_rows": null,
            "height": null,
            "justify_content": null,
            "justify_items": null,
            "left": null,
            "margin": null,
            "max_height": null,
            "max_width": null,
            "min_height": null,
            "min_width": null,
            "object_fit": null,
            "object_position": null,
            "order": null,
            "overflow": null,
            "overflow_x": null,
            "overflow_y": null,
            "padding": null,
            "right": null,
            "top": null,
            "visibility": null,
            "width": "20px"
          }
        },
        "46f1c51fe630417f99aa454f0d40102d": {
          "model_module": "@jupyter-widgets/controls",
          "model_name": "ProgressStyleModel",
          "model_module_version": "1.5.0",
          "state": {
            "_model_module": "@jupyter-widgets/controls",
            "_model_module_version": "1.5.0",
            "_model_name": "ProgressStyleModel",
            "_view_count": null,
            "_view_module": "@jupyter-widgets/base",
            "_view_module_version": "1.2.0",
            "_view_name": "StyleView",
            "bar_color": null,
            "description_width": ""
          }
        },
        "2c59c002a2d6433e9164bd2fb24ecf1c": {
          "model_module": "@jupyter-widgets/base",
          "model_name": "LayoutModel",
          "model_module_version": "1.2.0",
          "state": {
            "_model_module": "@jupyter-widgets/base",
            "_model_module_version": "1.2.0",
            "_model_name": "LayoutModel",
            "_view_count": null,
            "_view_module": "@jupyter-widgets/base",
            "_view_module_version": "1.2.0",
            "_view_name": "LayoutView",
            "align_content": null,
            "align_items": null,
            "align_self": null,
            "border": null,
            "bottom": null,
            "display": null,
            "flex": null,
            "flex_flow": null,
            "grid_area": null,
            "grid_auto_columns": null,
            "grid_auto_flow": null,
            "grid_auto_rows": null,
            "grid_column": null,
            "grid_gap": null,
            "grid_row": null,
            "grid_template_areas": null,
            "grid_template_columns": null,
            "grid_template_rows": null,
            "height": null,
            "justify_content": null,
            "justify_items": null,
            "left": null,
            "margin": null,
            "max_height": null,
            "max_width": null,
            "min_height": null,
            "min_width": null,
            "object_fit": null,
            "object_position": null,
            "order": null,
            "overflow": null,
            "overflow_x": null,
            "overflow_y": null,
            "padding": null,
            "right": null,
            "top": null,
            "visibility": null,
            "width": null
          }
        },
        "cd9136f36653491dbedc1fcb6aa82eb0": {
          "model_module": "@jupyter-widgets/controls",
          "model_name": "DescriptionStyleModel",
          "model_module_version": "1.5.0",
          "state": {
            "_model_module": "@jupyter-widgets/controls",
            "_model_module_version": "1.5.0",
            "_model_name": "DescriptionStyleModel",
            "_view_count": null,
            "_view_module": "@jupyter-widgets/base",
            "_view_module_version": "1.2.0",
            "_view_name": "StyleView",
            "description_width": ""
          }
        },
        "6853b29ce0e4490a80f39b418b968a2c": {
          "model_module": "@jupyter-widgets/controls",
          "model_name": "HBoxModel",
          "model_module_version": "1.5.0",
          "state": {
            "_dom_classes": [],
            "_model_module": "@jupyter-widgets/controls",
            "_model_module_version": "1.5.0",
            "_model_name": "HBoxModel",
            "_view_count": null,
            "_view_module": "@jupyter-widgets/controls",
            "_view_module_version": "1.5.0",
            "_view_name": "HBoxView",
            "box_style": "",
            "children": [
              "IPY_MODEL_453a2c1664ab42b7b854ab189148cca7",
              "IPY_MODEL_9031e546dbda46c89de751bb6c696b28",
              "IPY_MODEL_b5971e1d888344fa92f3c54266921264"
            ],
            "layout": "IPY_MODEL_19ae8e7788b34896b337995f372af433"
          }
        },
        "453a2c1664ab42b7b854ab189148cca7": {
          "model_module": "@jupyter-widgets/controls",
          "model_name": "HTMLModel",
          "model_module_version": "1.5.0",
          "state": {
            "_dom_classes": [],
            "_model_module": "@jupyter-widgets/controls",
            "_model_module_version": "1.5.0",
            "_model_name": "HTMLModel",
            "_view_count": null,
            "_view_module": "@jupyter-widgets/controls",
            "_view_module_version": "1.5.0",
            "_view_name": "HTMLView",
            "description": "",
            "description_tooltip": null,
            "layout": "IPY_MODEL_539a70009c6f4c52ae4717324954e32c",
            "placeholder": "​",
            "style": "IPY_MODEL_af33aa4c4ff649ff989f21d35d4ad99d",
            "value": "special_tokens_map.json: 100%"
          }
        },
        "9031e546dbda46c89de751bb6c696b28": {
          "model_module": "@jupyter-widgets/controls",
          "model_name": "FloatProgressModel",
          "model_module_version": "1.5.0",
          "state": {
            "_dom_classes": [],
            "_model_module": "@jupyter-widgets/controls",
            "_model_module_version": "1.5.0",
            "_model_name": "FloatProgressModel",
            "_view_count": null,
            "_view_module": "@jupyter-widgets/controls",
            "_view_module_version": "1.5.0",
            "_view_name": "ProgressView",
            "bar_style": "success",
            "description": "",
            "description_tooltip": null,
            "layout": "IPY_MODEL_2d2af0dac3214a8ba6bc29a5fc77ee56",
            "max": 112,
            "min": 0,
            "orientation": "horizontal",
            "style": "IPY_MODEL_0e9fe1dfbd0d4cac8fb4c0544cfb3f05",
            "value": 112
          }
        },
        "b5971e1d888344fa92f3c54266921264": {
          "model_module": "@jupyter-widgets/controls",
          "model_name": "HTMLModel",
          "model_module_version": "1.5.0",
          "state": {
            "_dom_classes": [],
            "_model_module": "@jupyter-widgets/controls",
            "_model_module_version": "1.5.0",
            "_model_name": "HTMLModel",
            "_view_count": null,
            "_view_module": "@jupyter-widgets/controls",
            "_view_module_version": "1.5.0",
            "_view_name": "HTMLView",
            "description": "",
            "description_tooltip": null,
            "layout": "IPY_MODEL_e813bfe82be8463f9624811da558f208",
            "placeholder": "​",
            "style": "IPY_MODEL_a82122ac39d54a579b2fd1001057b4d7",
            "value": " 112/112 [00:00&lt;00:00, 9.32kB/s]"
          }
        },
        "19ae8e7788b34896b337995f372af433": {
          "model_module": "@jupyter-widgets/base",
          "model_name": "LayoutModel",
          "model_module_version": "1.2.0",
          "state": {
            "_model_module": "@jupyter-widgets/base",
            "_model_module_version": "1.2.0",
            "_model_name": "LayoutModel",
            "_view_count": null,
            "_view_module": "@jupyter-widgets/base",
            "_view_module_version": "1.2.0",
            "_view_name": "LayoutView",
            "align_content": null,
            "align_items": null,
            "align_self": null,
            "border": null,
            "bottom": null,
            "display": null,
            "flex": null,
            "flex_flow": null,
            "grid_area": null,
            "grid_auto_columns": null,
            "grid_auto_flow": null,
            "grid_auto_rows": null,
            "grid_column": null,
            "grid_gap": null,
            "grid_row": null,
            "grid_template_areas": null,
            "grid_template_columns": null,
            "grid_template_rows": null,
            "height": null,
            "justify_content": null,
            "justify_items": null,
            "left": null,
            "margin": null,
            "max_height": null,
            "max_width": null,
            "min_height": null,
            "min_width": null,
            "object_fit": null,
            "object_position": null,
            "order": null,
            "overflow": null,
            "overflow_x": null,
            "overflow_y": null,
            "padding": null,
            "right": null,
            "top": null,
            "visibility": null,
            "width": null
          }
        },
        "539a70009c6f4c52ae4717324954e32c": {
          "model_module": "@jupyter-widgets/base",
          "model_name": "LayoutModel",
          "model_module_version": "1.2.0",
          "state": {
            "_model_module": "@jupyter-widgets/base",
            "_model_module_version": "1.2.0",
            "_model_name": "LayoutModel",
            "_view_count": null,
            "_view_module": "@jupyter-widgets/base",
            "_view_module_version": "1.2.0",
            "_view_name": "LayoutView",
            "align_content": null,
            "align_items": null,
            "align_self": null,
            "border": null,
            "bottom": null,
            "display": null,
            "flex": null,
            "flex_flow": null,
            "grid_area": null,
            "grid_auto_columns": null,
            "grid_auto_flow": null,
            "grid_auto_rows": null,
            "grid_column": null,
            "grid_gap": null,
            "grid_row": null,
            "grid_template_areas": null,
            "grid_template_columns": null,
            "grid_template_rows": null,
            "height": null,
            "justify_content": null,
            "justify_items": null,
            "left": null,
            "margin": null,
            "max_height": null,
            "max_width": null,
            "min_height": null,
            "min_width": null,
            "object_fit": null,
            "object_position": null,
            "order": null,
            "overflow": null,
            "overflow_x": null,
            "overflow_y": null,
            "padding": null,
            "right": null,
            "top": null,
            "visibility": null,
            "width": null
          }
        },
        "af33aa4c4ff649ff989f21d35d4ad99d": {
          "model_module": "@jupyter-widgets/controls",
          "model_name": "DescriptionStyleModel",
          "model_module_version": "1.5.0",
          "state": {
            "_model_module": "@jupyter-widgets/controls",
            "_model_module_version": "1.5.0",
            "_model_name": "DescriptionStyleModel",
            "_view_count": null,
            "_view_module": "@jupyter-widgets/base",
            "_view_module_version": "1.2.0",
            "_view_name": "StyleView",
            "description_width": ""
          }
        },
        "2d2af0dac3214a8ba6bc29a5fc77ee56": {
          "model_module": "@jupyter-widgets/base",
          "model_name": "LayoutModel",
          "model_module_version": "1.2.0",
          "state": {
            "_model_module": "@jupyter-widgets/base",
            "_model_module_version": "1.2.0",
            "_model_name": "LayoutModel",
            "_view_count": null,
            "_view_module": "@jupyter-widgets/base",
            "_view_module_version": "1.2.0",
            "_view_name": "LayoutView",
            "align_content": null,
            "align_items": null,
            "align_self": null,
            "border": null,
            "bottom": null,
            "display": null,
            "flex": null,
            "flex_flow": null,
            "grid_area": null,
            "grid_auto_columns": null,
            "grid_auto_flow": null,
            "grid_auto_rows": null,
            "grid_column": null,
            "grid_gap": null,
            "grid_row": null,
            "grid_template_areas": null,
            "grid_template_columns": null,
            "grid_template_rows": null,
            "height": null,
            "justify_content": null,
            "justify_items": null,
            "left": null,
            "margin": null,
            "max_height": null,
            "max_width": null,
            "min_height": null,
            "min_width": null,
            "object_fit": null,
            "object_position": null,
            "order": null,
            "overflow": null,
            "overflow_x": null,
            "overflow_y": null,
            "padding": null,
            "right": null,
            "top": null,
            "visibility": null,
            "width": null
          }
        },
        "0e9fe1dfbd0d4cac8fb4c0544cfb3f05": {
          "model_module": "@jupyter-widgets/controls",
          "model_name": "ProgressStyleModel",
          "model_module_version": "1.5.0",
          "state": {
            "_model_module": "@jupyter-widgets/controls",
            "_model_module_version": "1.5.0",
            "_model_name": "ProgressStyleModel",
            "_view_count": null,
            "_view_module": "@jupyter-widgets/base",
            "_view_module_version": "1.2.0",
            "_view_name": "StyleView",
            "bar_color": null,
            "description_width": ""
          }
        },
        "e813bfe82be8463f9624811da558f208": {
          "model_module": "@jupyter-widgets/base",
          "model_name": "LayoutModel",
          "model_module_version": "1.2.0",
          "state": {
            "_model_module": "@jupyter-widgets/base",
            "_model_module_version": "1.2.0",
            "_model_name": "LayoutModel",
            "_view_count": null,
            "_view_module": "@jupyter-widgets/base",
            "_view_module_version": "1.2.0",
            "_view_name": "LayoutView",
            "align_content": null,
            "align_items": null,
            "align_self": null,
            "border": null,
            "bottom": null,
            "display": null,
            "flex": null,
            "flex_flow": null,
            "grid_area": null,
            "grid_auto_columns": null,
            "grid_auto_flow": null,
            "grid_auto_rows": null,
            "grid_column": null,
            "grid_gap": null,
            "grid_row": null,
            "grid_template_areas": null,
            "grid_template_columns": null,
            "grid_template_rows": null,
            "height": null,
            "justify_content": null,
            "justify_items": null,
            "left": null,
            "margin": null,
            "max_height": null,
            "max_width": null,
            "min_height": null,
            "min_width": null,
            "object_fit": null,
            "object_position": null,
            "order": null,
            "overflow": null,
            "overflow_x": null,
            "overflow_y": null,
            "padding": null,
            "right": null,
            "top": null,
            "visibility": null,
            "width": null
          }
        },
        "a82122ac39d54a579b2fd1001057b4d7": {
          "model_module": "@jupyter-widgets/controls",
          "model_name": "DescriptionStyleModel",
          "model_module_version": "1.5.0",
          "state": {
            "_model_module": "@jupyter-widgets/controls",
            "_model_module_version": "1.5.0",
            "_model_name": "DescriptionStyleModel",
            "_view_count": null,
            "_view_module": "@jupyter-widgets/base",
            "_view_module_version": "1.2.0",
            "_view_name": "StyleView",
            "description_width": ""
          }
        },
        "faf0c9300988480e9fd2c8515328151b": {
          "model_module": "@jupyter-widgets/controls",
          "model_name": "HBoxModel",
          "model_module_version": "1.5.0",
          "state": {
            "_dom_classes": [],
            "_model_module": "@jupyter-widgets/controls",
            "_model_module_version": "1.5.0",
            "_model_name": "HBoxModel",
            "_view_count": null,
            "_view_module": "@jupyter-widgets/controls",
            "_view_module_version": "1.5.0",
            "_view_name": "HBoxView",
            "box_style": "",
            "children": [
              "IPY_MODEL_0459f3a2821d4e80a7bf13a20a0a2ca1",
              "IPY_MODEL_7ad2169158ee4b5f8ab5d763095e8179",
              "IPY_MODEL_93c0ee1849144c229affd51b743be149"
            ],
            "layout": "IPY_MODEL_be0a00600f164a48a7e97c604099f248"
          }
        },
        "0459f3a2821d4e80a7bf13a20a0a2ca1": {
          "model_module": "@jupyter-widgets/controls",
          "model_name": "HTMLModel",
          "model_module_version": "1.5.0",
          "state": {
            "_dom_classes": [],
            "_model_module": "@jupyter-widgets/controls",
            "_model_module_version": "1.5.0",
            "_model_name": "HTMLModel",
            "_view_count": null,
            "_view_module": "@jupyter-widgets/controls",
            "_view_module_version": "1.5.0",
            "_view_name": "HTMLView",
            "description": "",
            "description_tooltip": null,
            "layout": "IPY_MODEL_98ff3aca72ec4f8f855f7c20810340e1",
            "placeholder": "​",
            "style": "IPY_MODEL_ac30b457a1d44deb94899842f8857afa",
            "value": "config.json: 100%"
          }
        },
        "7ad2169158ee4b5f8ab5d763095e8179": {
          "model_module": "@jupyter-widgets/controls",
          "model_name": "FloatProgressModel",
          "model_module_version": "1.5.0",
          "state": {
            "_dom_classes": [],
            "_model_module": "@jupyter-widgets/controls",
            "_model_module_version": "1.5.0",
            "_model_name": "FloatProgressModel",
            "_view_count": null,
            "_view_module": "@jupyter-widgets/controls",
            "_view_module_version": "1.5.0",
            "_view_name": "ProgressView",
            "bar_style": "success",
            "description": "",
            "description_tooltip": null,
            "layout": "IPY_MODEL_a158d0bf06af4d1cb0665d22503fa05c",
            "max": 190,
            "min": 0,
            "orientation": "horizontal",
            "style": "IPY_MODEL_a08696911878488f8ff0063b6cc27161",
            "value": 190
          }
        },
        "93c0ee1849144c229affd51b743be149": {
          "model_module": "@jupyter-widgets/controls",
          "model_name": "HTMLModel",
          "model_module_version": "1.5.0",
          "state": {
            "_dom_classes": [],
            "_model_module": "@jupyter-widgets/controls",
            "_model_module_version": "1.5.0",
            "_model_name": "HTMLModel",
            "_view_count": null,
            "_view_module": "@jupyter-widgets/controls",
            "_view_module_version": "1.5.0",
            "_view_name": "HTMLView",
            "description": "",
            "description_tooltip": null,
            "layout": "IPY_MODEL_92723a0af9464ae59877a0b18eab7e05",
            "placeholder": "​",
            "style": "IPY_MODEL_b2dac1ec0a994353aea101495c38e66c",
            "value": " 190/190 [00:00&lt;00:00, 13.1kB/s]"
          }
        },
        "be0a00600f164a48a7e97c604099f248": {
          "model_module": "@jupyter-widgets/base",
          "model_name": "LayoutModel",
          "model_module_version": "1.2.0",
          "state": {
            "_model_module": "@jupyter-widgets/base",
            "_model_module_version": "1.2.0",
            "_model_name": "LayoutModel",
            "_view_count": null,
            "_view_module": "@jupyter-widgets/base",
            "_view_module_version": "1.2.0",
            "_view_name": "LayoutView",
            "align_content": null,
            "align_items": null,
            "align_self": null,
            "border": null,
            "bottom": null,
            "display": null,
            "flex": null,
            "flex_flow": null,
            "grid_area": null,
            "grid_auto_columns": null,
            "grid_auto_flow": null,
            "grid_auto_rows": null,
            "grid_column": null,
            "grid_gap": null,
            "grid_row": null,
            "grid_template_areas": null,
            "grid_template_columns": null,
            "grid_template_rows": null,
            "height": null,
            "justify_content": null,
            "justify_items": null,
            "left": null,
            "margin": null,
            "max_height": null,
            "max_width": null,
            "min_height": null,
            "min_width": null,
            "object_fit": null,
            "object_position": null,
            "order": null,
            "overflow": null,
            "overflow_x": null,
            "overflow_y": null,
            "padding": null,
            "right": null,
            "top": null,
            "visibility": null,
            "width": null
          }
        },
        "98ff3aca72ec4f8f855f7c20810340e1": {
          "model_module": "@jupyter-widgets/base",
          "model_name": "LayoutModel",
          "model_module_version": "1.2.0",
          "state": {
            "_model_module": "@jupyter-widgets/base",
            "_model_module_version": "1.2.0",
            "_model_name": "LayoutModel",
            "_view_count": null,
            "_view_module": "@jupyter-widgets/base",
            "_view_module_version": "1.2.0",
            "_view_name": "LayoutView",
            "align_content": null,
            "align_items": null,
            "align_self": null,
            "border": null,
            "bottom": null,
            "display": null,
            "flex": null,
            "flex_flow": null,
            "grid_area": null,
            "grid_auto_columns": null,
            "grid_auto_flow": null,
            "grid_auto_rows": null,
            "grid_column": null,
            "grid_gap": null,
            "grid_row": null,
            "grid_template_areas": null,
            "grid_template_columns": null,
            "grid_template_rows": null,
            "height": null,
            "justify_content": null,
            "justify_items": null,
            "left": null,
            "margin": null,
            "max_height": null,
            "max_width": null,
            "min_height": null,
            "min_width": null,
            "object_fit": null,
            "object_position": null,
            "order": null,
            "overflow": null,
            "overflow_x": null,
            "overflow_y": null,
            "padding": null,
            "right": null,
            "top": null,
            "visibility": null,
            "width": null
          }
        },
        "ac30b457a1d44deb94899842f8857afa": {
          "model_module": "@jupyter-widgets/controls",
          "model_name": "DescriptionStyleModel",
          "model_module_version": "1.5.0",
          "state": {
            "_model_module": "@jupyter-widgets/controls",
            "_model_module_version": "1.5.0",
            "_model_name": "DescriptionStyleModel",
            "_view_count": null,
            "_view_module": "@jupyter-widgets/base",
            "_view_module_version": "1.2.0",
            "_view_name": "StyleView",
            "description_width": ""
          }
        },
        "a158d0bf06af4d1cb0665d22503fa05c": {
          "model_module": "@jupyter-widgets/base",
          "model_name": "LayoutModel",
          "model_module_version": "1.2.0",
          "state": {
            "_model_module": "@jupyter-widgets/base",
            "_model_module_version": "1.2.0",
            "_model_name": "LayoutModel",
            "_view_count": null,
            "_view_module": "@jupyter-widgets/base",
            "_view_module_version": "1.2.0",
            "_view_name": "LayoutView",
            "align_content": null,
            "align_items": null,
            "align_self": null,
            "border": null,
            "bottom": null,
            "display": null,
            "flex": null,
            "flex_flow": null,
            "grid_area": null,
            "grid_auto_columns": null,
            "grid_auto_flow": null,
            "grid_auto_rows": null,
            "grid_column": null,
            "grid_gap": null,
            "grid_row": null,
            "grid_template_areas": null,
            "grid_template_columns": null,
            "grid_template_rows": null,
            "height": null,
            "justify_content": null,
            "justify_items": null,
            "left": null,
            "margin": null,
            "max_height": null,
            "max_width": null,
            "min_height": null,
            "min_width": null,
            "object_fit": null,
            "object_position": null,
            "order": null,
            "overflow": null,
            "overflow_x": null,
            "overflow_y": null,
            "padding": null,
            "right": null,
            "top": null,
            "visibility": null,
            "width": null
          }
        },
        "a08696911878488f8ff0063b6cc27161": {
          "model_module": "@jupyter-widgets/controls",
          "model_name": "ProgressStyleModel",
          "model_module_version": "1.5.0",
          "state": {
            "_model_module": "@jupyter-widgets/controls",
            "_model_module_version": "1.5.0",
            "_model_name": "ProgressStyleModel",
            "_view_count": null,
            "_view_module": "@jupyter-widgets/base",
            "_view_module_version": "1.2.0",
            "_view_name": "StyleView",
            "bar_color": null,
            "description_width": ""
          }
        },
        "92723a0af9464ae59877a0b18eab7e05": {
          "model_module": "@jupyter-widgets/base",
          "model_name": "LayoutModel",
          "model_module_version": "1.2.0",
          "state": {
            "_model_module": "@jupyter-widgets/base",
            "_model_module_version": "1.2.0",
            "_model_name": "LayoutModel",
            "_view_count": null,
            "_view_module": "@jupyter-widgets/base",
            "_view_module_version": "1.2.0",
            "_view_name": "LayoutView",
            "align_content": null,
            "align_items": null,
            "align_self": null,
            "border": null,
            "bottom": null,
            "display": null,
            "flex": null,
            "flex_flow": null,
            "grid_area": null,
            "grid_auto_columns": null,
            "grid_auto_flow": null,
            "grid_auto_rows": null,
            "grid_column": null,
            "grid_gap": null,
            "grid_row": null,
            "grid_template_areas": null,
            "grid_template_columns": null,
            "grid_template_rows": null,
            "height": null,
            "justify_content": null,
            "justify_items": null,
            "left": null,
            "margin": null,
            "max_height": null,
            "max_width": null,
            "min_height": null,
            "min_width": null,
            "object_fit": null,
            "object_position": null,
            "order": null,
            "overflow": null,
            "overflow_x": null,
            "overflow_y": null,
            "padding": null,
            "right": null,
            "top": null,
            "visibility": null,
            "width": null
          }
        },
        "b2dac1ec0a994353aea101495c38e66c": {
          "model_module": "@jupyter-widgets/controls",
          "model_name": "DescriptionStyleModel",
          "model_module_version": "1.5.0",
          "state": {
            "_model_module": "@jupyter-widgets/controls",
            "_model_module_version": "1.5.0",
            "_model_name": "DescriptionStyleModel",
            "_view_count": null,
            "_view_module": "@jupyter-widgets/base",
            "_view_module_version": "1.2.0",
            "_view_name": "StyleView",
            "description_width": ""
          }
        },
        "093e46474fb0487992dc61e147d479be": {
          "model_module": "@jupyter-widgets/controls",
          "model_name": "HBoxModel",
          "model_module_version": "1.5.0",
          "state": {
            "_dom_classes": [],
            "_model_module": "@jupyter-widgets/controls",
            "_model_module_version": "1.5.0",
            "_model_name": "HBoxModel",
            "_view_count": null,
            "_view_module": "@jupyter-widgets/controls",
            "_view_module_version": "1.5.0",
            "_view_name": "HBoxView",
            "box_style": "",
            "children": [
              "IPY_MODEL_cd88db0409af440699fcbdfa4e39f378",
              "IPY_MODEL_97834052aee240349c2978cf2feed496",
              "IPY_MODEL_574cfed48dc444cebf68cb8ef8395d0e"
            ],
            "layout": "IPY_MODEL_be4e5ec95ae04878905a5d26ffc9aa4c"
          }
        },
        "cd88db0409af440699fcbdfa4e39f378": {
          "model_module": "@jupyter-widgets/controls",
          "model_name": "HTMLModel",
          "model_module_version": "1.5.0",
          "state": {
            "_dom_classes": [],
            "_model_module": "@jupyter-widgets/controls",
            "_model_module_version": "1.5.0",
            "_model_name": "HTMLModel",
            "_view_count": null,
            "_view_module": "@jupyter-widgets/controls",
            "_view_module_version": "1.5.0",
            "_view_name": "HTMLView",
            "description": "",
            "description_tooltip": null,
            "layout": "IPY_MODEL_d72aa2b136e441fa887c5f328ec58976",
            "placeholder": "​",
            "style": "IPY_MODEL_ee43bc31344243cd94fce7ac3d649659",
            "value": "qwen1_5-7b-chat-q4_k_m.gguf: 100%"
          }
        },
        "97834052aee240349c2978cf2feed496": {
          "model_module": "@jupyter-widgets/controls",
          "model_name": "FloatProgressModel",
          "model_module_version": "1.5.0",
          "state": {
            "_dom_classes": [],
            "_model_module": "@jupyter-widgets/controls",
            "_model_module_version": "1.5.0",
            "_model_name": "FloatProgressModel",
            "_view_count": null,
            "_view_module": "@jupyter-widgets/controls",
            "_view_module_version": "1.5.0",
            "_view_name": "ProgressView",
            "bar_style": "success",
            "description": "",
            "description_tooltip": null,
            "layout": "IPY_MODEL_7caa3843666342799265ab8cc6f83018",
            "max": 4767104224,
            "min": 0,
            "orientation": "horizontal",
            "style": "IPY_MODEL_fc05dcb1fa3543a6836c142fca763452",
            "value": 4767104224
          }
        },
        "574cfed48dc444cebf68cb8ef8395d0e": {
          "model_module": "@jupyter-widgets/controls",
          "model_name": "HTMLModel",
          "model_module_version": "1.5.0",
          "state": {
            "_dom_classes": [],
            "_model_module": "@jupyter-widgets/controls",
            "_model_module_version": "1.5.0",
            "_model_name": "HTMLModel",
            "_view_count": null,
            "_view_module": "@jupyter-widgets/controls",
            "_view_module_version": "1.5.0",
            "_view_name": "HTMLView",
            "description": "",
            "description_tooltip": null,
            "layout": "IPY_MODEL_2ff0c02bcf6e4c909b5fbcb13e77fed3",
            "placeholder": "​",
            "style": "IPY_MODEL_6dd6bb919daa4fff947135016814fe67",
            "value": " 4.77G/4.77G [15:19&lt;00:00, 11.8MB/s]"
          }
        },
        "be4e5ec95ae04878905a5d26ffc9aa4c": {
          "model_module": "@jupyter-widgets/base",
          "model_name": "LayoutModel",
          "model_module_version": "1.2.0",
          "state": {
            "_model_module": "@jupyter-widgets/base",
            "_model_module_version": "1.2.0",
            "_model_name": "LayoutModel",
            "_view_count": null,
            "_view_module": "@jupyter-widgets/base",
            "_view_module_version": "1.2.0",
            "_view_name": "LayoutView",
            "align_content": null,
            "align_items": null,
            "align_self": null,
            "border": null,
            "bottom": null,
            "display": null,
            "flex": null,
            "flex_flow": null,
            "grid_area": null,
            "grid_auto_columns": null,
            "grid_auto_flow": null,
            "grid_auto_rows": null,
            "grid_column": null,
            "grid_gap": null,
            "grid_row": null,
            "grid_template_areas": null,
            "grid_template_columns": null,
            "grid_template_rows": null,
            "height": null,
            "justify_content": null,
            "justify_items": null,
            "left": null,
            "margin": null,
            "max_height": null,
            "max_width": null,
            "min_height": null,
            "min_width": null,
            "object_fit": null,
            "object_position": null,
            "order": null,
            "overflow": null,
            "overflow_x": null,
            "overflow_y": null,
            "padding": null,
            "right": null,
            "top": null,
            "visibility": null,
            "width": null
          }
        },
        "d72aa2b136e441fa887c5f328ec58976": {
          "model_module": "@jupyter-widgets/base",
          "model_name": "LayoutModel",
          "model_module_version": "1.2.0",
          "state": {
            "_model_module": "@jupyter-widgets/base",
            "_model_module_version": "1.2.0",
            "_model_name": "LayoutModel",
            "_view_count": null,
            "_view_module": "@jupyter-widgets/base",
            "_view_module_version": "1.2.0",
            "_view_name": "LayoutView",
            "align_content": null,
            "align_items": null,
            "align_self": null,
            "border": null,
            "bottom": null,
            "display": null,
            "flex": null,
            "flex_flow": null,
            "grid_area": null,
            "grid_auto_columns": null,
            "grid_auto_flow": null,
            "grid_auto_rows": null,
            "grid_column": null,
            "grid_gap": null,
            "grid_row": null,
            "grid_template_areas": null,
            "grid_template_columns": null,
            "grid_template_rows": null,
            "height": null,
            "justify_content": null,
            "justify_items": null,
            "left": null,
            "margin": null,
            "max_height": null,
            "max_width": null,
            "min_height": null,
            "min_width": null,
            "object_fit": null,
            "object_position": null,
            "order": null,
            "overflow": null,
            "overflow_x": null,
            "overflow_y": null,
            "padding": null,
            "right": null,
            "top": null,
            "visibility": null,
            "width": null
          }
        },
        "ee43bc31344243cd94fce7ac3d649659": {
          "model_module": "@jupyter-widgets/controls",
          "model_name": "DescriptionStyleModel",
          "model_module_version": "1.5.0",
          "state": {
            "_model_module": "@jupyter-widgets/controls",
            "_model_module_version": "1.5.0",
            "_model_name": "DescriptionStyleModel",
            "_view_count": null,
            "_view_module": "@jupyter-widgets/base",
            "_view_module_version": "1.2.0",
            "_view_name": "StyleView",
            "description_width": ""
          }
        },
        "7caa3843666342799265ab8cc6f83018": {
          "model_module": "@jupyter-widgets/base",
          "model_name": "LayoutModel",
          "model_module_version": "1.2.0",
          "state": {
            "_model_module": "@jupyter-widgets/base",
            "_model_module_version": "1.2.0",
            "_model_name": "LayoutModel",
            "_view_count": null,
            "_view_module": "@jupyter-widgets/base",
            "_view_module_version": "1.2.0",
            "_view_name": "LayoutView",
            "align_content": null,
            "align_items": null,
            "align_self": null,
            "border": null,
            "bottom": null,
            "display": null,
            "flex": null,
            "flex_flow": null,
            "grid_area": null,
            "grid_auto_columns": null,
            "grid_auto_flow": null,
            "grid_auto_rows": null,
            "grid_column": null,
            "grid_gap": null,
            "grid_row": null,
            "grid_template_areas": null,
            "grid_template_columns": null,
            "grid_template_rows": null,
            "height": null,
            "justify_content": null,
            "justify_items": null,
            "left": null,
            "margin": null,
            "max_height": null,
            "max_width": null,
            "min_height": null,
            "min_width": null,
            "object_fit": null,
            "object_position": null,
            "order": null,
            "overflow": null,
            "overflow_x": null,
            "overflow_y": null,
            "padding": null,
            "right": null,
            "top": null,
            "visibility": null,
            "width": null
          }
        },
        "fc05dcb1fa3543a6836c142fca763452": {
          "model_module": "@jupyter-widgets/controls",
          "model_name": "ProgressStyleModel",
          "model_module_version": "1.5.0",
          "state": {
            "_model_module": "@jupyter-widgets/controls",
            "_model_module_version": "1.5.0",
            "_model_name": "ProgressStyleModel",
            "_view_count": null,
            "_view_module": "@jupyter-widgets/base",
            "_view_module_version": "1.2.0",
            "_view_name": "StyleView",
            "bar_color": null,
            "description_width": ""
          }
        },
        "2ff0c02bcf6e4c909b5fbcb13e77fed3": {
          "model_module": "@jupyter-widgets/base",
          "model_name": "LayoutModel",
          "model_module_version": "1.2.0",
          "state": {
            "_model_module": "@jupyter-widgets/base",
            "_model_module_version": "1.2.0",
            "_model_name": "LayoutModel",
            "_view_count": null,
            "_view_module": "@jupyter-widgets/base",
            "_view_module_version": "1.2.0",
            "_view_name": "LayoutView",
            "align_content": null,
            "align_items": null,
            "align_self": null,
            "border": null,
            "bottom": null,
            "display": null,
            "flex": null,
            "flex_flow": null,
            "grid_area": null,
            "grid_auto_columns": null,
            "grid_auto_flow": null,
            "grid_auto_rows": null,
            "grid_column": null,
            "grid_gap": null,
            "grid_row": null,
            "grid_template_areas": null,
            "grid_template_columns": null,
            "grid_template_rows": null,
            "height": null,
            "justify_content": null,
            "justify_items": null,
            "left": null,
            "margin": null,
            "max_height": null,
            "max_width": null,
            "min_height": null,
            "min_width": null,
            "object_fit": null,
            "object_position": null,
            "order": null,
            "overflow": null,
            "overflow_x": null,
            "overflow_y": null,
            "padding": null,
            "right": null,
            "top": null,
            "visibility": null,
            "width": null
          }
        },
        "6dd6bb919daa4fff947135016814fe67": {
          "model_module": "@jupyter-widgets/controls",
          "model_name": "DescriptionStyleModel",
          "model_module_version": "1.5.0",
          "state": {
            "_model_module": "@jupyter-widgets/controls",
            "_model_module_version": "1.5.0",
            "_model_name": "DescriptionStyleModel",
            "_view_count": null,
            "_view_module": "@jupyter-widgets/base",
            "_view_module_version": "1.2.0",
            "_view_name": "StyleView",
            "description_width": ""
          }
        }
      }
    }
  },
  "cells": [
    {
      "cell_type": "code",
      "source": [
        "from google.colab import drive\n",
        "drive.mount('/content/drive')"
      ],
      "metadata": {
        "colab": {
          "base_uri": "https://localhost:8080/"
        },
        "id": "7_TYriWq6YHd",
        "outputId": "7118c473-6a33-4b07-8804-96d9dcc15989"
      },
      "execution_count": null,
      "outputs": [
        {
          "output_type": "stream",
          "name": "stdout",
          "text": [
            "Drive already mounted at /content/drive; to attempt to forcibly remount, call drive.mount(\"/content/drive\", force_remount=True).\n"
          ]
        }
      ]
    },
    {
      "cell_type": "code",
      "source": [
        "%cd /content/drive/MyDrive"
      ],
      "metadata": {
        "colab": {
          "base_uri": "https://localhost:8080/"
        },
        "id": "5p_uYjLl8gTk",
        "outputId": "e6e34773-749a-4801-efc3-9fd32c582d0a"
      },
      "execution_count": null,
      "outputs": [
        {
          "output_type": "stream",
          "name": "stdout",
          "text": [
            "/content/drive/MyDrive\n"
          ]
        }
      ]
    },
    {
      "cell_type": "markdown",
      "source": [
        "# **Exploratory Data Analysis**"
      ],
      "metadata": {
        "id": "rGDRIAXcc2cW"
      }
    },
    {
      "cell_type": "code",
      "source": [
        "from collections import Counter\n",
        "import pandas as pd\n",
        "import numpy as np\n",
        "\n",
        "\n",
        "# Loaded the Yelp businesses dataset\n",
        "df_yelp = pd.read_json('/content/drive/My Drive/yelp_business.json', lines=True)\n",
        "\n",
        "# Filtered the DataFrame to keep only rows where the state is FL, CA, or TX\n",
        "states_to_keep = ['FL', 'CA', 'TX']\n",
        "filtered_df = df_yelp[df_yelp['state'].isin(states_to_keep)]\n",
        "\n",
        "all_categories = [\n",
        "    item.strip()\n",
        "    for sublist in filtered_df['categories'].dropna().str.split(',')\n",
        "    for item in sublist\n",
        "]\n",
        "\n",
        "\n",
        "category_counts = Counter(all_categories)\n",
        "\n",
        "# Get the top 30 most common categories\n",
        "top_30_categories = category_counts.most_common(30)\n",
        "\n",
        "# Our data is narrowed down to reviews for the Food and Beverages industry in Florida, California and Texas\n",
        "# We are analysing Food and Beverages related categories from the top 30 categories\n",
        "\n",
        "print(f\"Number of rows after filtering for FL, CA, and TX: {filtered_df.shape[0]}\")\n",
        "print(\"\\nTop 30 most common categories from the filtered data:\")\n",
        "for category, count in top_30_categories:\n",
        "    print(f\"{category}: {count}\")"
      ],
      "metadata": {
        "colab": {
          "base_uri": "https://localhost:8080/"
        },
        "id": "6Yfqww2Mefgm",
        "outputId": "238d249b-8f7d-4263-ddc3-201b671b2828"
      },
      "execution_count": null,
      "outputs": [
        {
          "output_type": "stream",
          "name": "stdout",
          "text": [
            "Number of rows after filtering for FL, CA, and TX: 31537\n",
            "\n",
            "Top 30 most common categories from the filtered data:\n",
            "Restaurants: 9892\n",
            "Food: 5619\n",
            "Shopping: 4960\n",
            "Home Services: 3486\n",
            "Beauty & Spas: 3192\n",
            "Health & Medical: 2961\n",
            "Nightlife: 2514\n",
            "Local Services: 2490\n",
            "Bars: 2320\n",
            "Automotive: 2296\n",
            "Event Planning & Services: 2090\n",
            "Active Life: 2007\n",
            "American (Traditional): 1643\n",
            "Sandwiches: 1629\n",
            "Hotels & Travel: 1387\n",
            "Coffee & Tea: 1290\n",
            "Breakfast & Brunch: 1265\n",
            "American (New): 1213\n",
            "Home & Garden: 1194\n",
            "Pizza: 1184\n",
            "Fast Food: 1159\n",
            "Hair Salons: 1084\n",
            "Auto Repair: 1070\n",
            "Fashion: 1069\n",
            "Arts & Entertainment: 1055\n",
            "Doctors: 1044\n",
            "Burgers: 1003\n",
            "Nail Salons: 959\n",
            "Seafood: 942\n",
            "Mexican: 876\n"
          ]
        }
      ]
    },
    {
      "cell_type": "markdown",
      "source": [
        "# **Data Preprocessing and Cleaning**"
      ],
      "metadata": {
        "id": "5peGV8QDkYXC"
      }
    },
    {
      "cell_type": "code",
      "source": [
        "# This filtered dataframe, taken from the Yelp Businesses dataset has F&B businesses from California, Texas and Florida\n",
        "df_yelp = pd.read_json('/content/drive/My Drive/yelp_business.json', lines=True)\n",
        "\n",
        "\n",
        "columns_to_drop = ['hours', 'address', 'postal_code', 'latitude', 'longitude','is_open']\n",
        "\n",
        "\n",
        "df_yelp.drop(columns=columns_to_drop, inplace=True)\n",
        "\n",
        "# Define your list for filtering\n",
        "states_to_keep = ['FL', 'CA', 'TX']\n",
        "categories_to_keep = 'Restaurants|Food|Bars|Sandwiches|Coffee & Tea|Breakfast & Brunch|Pizza|Fast Food|Burgers|Seafood'\n",
        "\n",
        "\n",
        "filtered_df = df_yelp[\n",
        "    (df_yelp['state'].isin(states_to_keep)) &\n",
        "    (df_yelp['categories'].str.contains(categories_to_keep, case=False, na=False))\n",
        "]\n",
        "\n",
        "print(\"Filtered DataFrame:\")\n",
        "print(filtered_df.head())\n",
        "print(f\"\\nTotal rows after filtering: {len(filtered_df)}\")\n"
      ],
      "metadata": {
        "colab": {
          "base_uri": "https://localhost:8080/"
        },
        "id": "N-hmRa5tW8if",
        "outputId": "0a04d953-8179-4338-8fe6-b4760be325ba"
      },
      "execution_count": null,
      "outputs": [
        {
          "output_type": "stream",
          "name": "stdout",
          "text": [
            "Filtered DataFrame:\n",
            "               business_id                   name       city state  stars  \\\n",
            "11  eEOYSgkmpB90uNA7lDOMRA  Vietnamese Food Truck  Tampa Bay    FL    4.0   \n",
            "14  0bPLkL0QhhPO5kt1_EXmNQ   Zio's Italian Market      Largo    FL    4.5   \n",
            "54  0qNpTGTcqPwOLi2hADx4Xw       Charlie's Market      Tampa    FL    3.0   \n",
            "58  uI9XODGY_2_ieTE6xJ0myw            Roman Forum      Tampa    FL    4.0   \n",
            "59  JgpnXv_0XhV3SfbfB50nxw            Joe's Pizza      Tampa    FL    4.0   \n",
            "\n",
            "    review_count                                         attributes  \\\n",
            "11            10  {'Alcohol': ''none'', 'OutdoorSeating': 'None'...   \n",
            "14           100  {'OutdoorSeating': 'False', 'RestaurantsGoodFo...   \n",
            "54             9  {'BusinessParking': '{'garage': False, 'street...   \n",
            "58            23  {'BusinessParking': '{'garage': False, 'street...   \n",
            "59            35  {'BusinessParking': '{'garage': False, 'street...   \n",
            "\n",
            "                                     categories  \n",
            "11   Vietnamese, Food, Restaurants, Food Trucks  \n",
            "14  Food, Delis, Italian, Bakeries, Restaurants  \n",
            "54            Food, Grocery, Convenience Stores  \n",
            "58         Restaurants, American (New), Italian  \n",
            "59                           Restaurants, Pizza  \n",
            "\n",
            "Total rows after filtering: 12911\n"
          ]
        }
      ]
    },
    {
      "cell_type": "code",
      "source": [
        "# Here we merge the businesses and users dataset from Yelp\n",
        "import pandas as pd\n",
        "import duckdb\n",
        "\n",
        "# Established a DuckDB connection\n",
        "con = duckdb.connect(database=':memory:', read_only=False)\n",
        "\n",
        "# Registered JSON files as virtual tables with 'union_by_name'\n",
        "con.execute(\"CREATE OR REPLACE VIEW yelp_merged_data AS SELECT * FROM read_json_auto('/content/drive/My Drive/yelp_merged_data.json', union_by_name=True)\")\n",
        "con.execute(\"CREATE OR REPLACE VIEW yelp_user_data AS SELECT * FROM read_json_auto('/content/drive/My Drive/yelp_academic_dataset_user.json', union_by_name=True)\")\n",
        "\n",
        "# Used SQL to perform the join and select required columns\n",
        "final_df = con.execute(\"\"\"\n",
        "    SELECT\n",
        "        y.*,\n",
        "        u.average_stars,\n",
        "        u.review_count,\n",
        "        u.name\n",
        "    FROM\n",
        "        yelp_merged_data AS y\n",
        "    INNER JOIN\n",
        "        yelp_user_data AS u\n",
        "    ON\n",
        "        y.user_id = u.user_id\n",
        "\"\"\").fetchdf()\n",
        "\n",
        "con.close()\n",
        "\n",
        "print(\"Final DataFrame with user information:\")\n",
        "print(final_df.head())\n",
        "print(f\"\\nTotal rows in the final DataFrame: {len(final_df)}\")"
      ],
      "metadata": {
        "colab": {
          "base_uri": "https://localhost:8080/",
          "height": 710,
          "referenced_widgets": [
            "a98c71f42167475f9c4718b4969f006f",
            "5df9ce9950b4423498791b278956804d",
            "c3b3b09a0ddd489582acab3f3cd8afb3"
          ]
        },
        "id": "yQyQ2IBp2dKK",
        "outputId": "358da5e0-1787-4921-e9a4-9074dcda79a0"
      },
      "execution_count": null,
      "outputs": [
        {
          "output_type": "display_data",
          "data": {
            "text/plain": [
              "FloatProgress(value=0.0, layout=Layout(width='auto'), style=ProgressStyle(bar_color='black'))"
            ],
            "application/vnd.jupyter.widget-view+json": {
              "version_major": 2,
              "version_minor": 0,
              "model_id": "a98c71f42167475f9c4718b4969f006f"
            }
          },
          "metadata": {}
        },
        {
          "output_type": "stream",
          "name": "stdout",
          "text": [
            "Final DataFrame with user information:\n",
            "              business_id                    name           city state  \\\n",
            "0  9ouyziwYpSvJzlLFpukSgA  Chipotle Mexican Grill  Pinellas Park    FL   \n",
            "1  9ouyziwYpSvJzlLFpukSgA  Chipotle Mexican Grill  Pinellas Park    FL   \n",
            "2  9ouyziwYpSvJzlLFpukSgA  Chipotle Mexican Grill  Pinellas Park    FL   \n",
            "3  9ouyziwYpSvJzlLFpukSgA  Chipotle Mexican Grill  Pinellas Park    FL   \n",
            "4  9ouyziwYpSvJzlLFpukSgA  Chipotle Mexican Grill  Pinellas Park    FL   \n",
            "\n",
            "   stars_x  review_count                                         attributes  \\\n",
            "0      3.0            88  {'OutdoorSeating': 'True', 'RestaurantsGoodFor...   \n",
            "1      3.0            88  {'OutdoorSeating': 'True', 'RestaurantsGoodFor...   \n",
            "2      3.0            88  {'OutdoorSeating': 'True', 'RestaurantsGoodFor...   \n",
            "3      3.0            88  {'OutdoorSeating': 'True', 'RestaurantsGoodFor...   \n",
            "4      3.0            88  {'OutdoorSeating': 'True', 'RestaurantsGoodFor...   \n",
            "\n",
            "                        categories                 user_id  stars_y  \\\n",
            "0  Mexican, Fast Food, Restaurants  PTw3rESL0MwGOevG8JTs3g        5   \n",
            "1  Mexican, Fast Food, Restaurants  Djs4ZDkdaPdBYbe2KHG2KQ        1   \n",
            "2  Mexican, Fast Food, Restaurants  wiIrT3H8hVxH1QdJD6jbqQ        5   \n",
            "3  Mexican, Fast Food, Restaurants  t9rCx0ni7oabGhx2Bw-kZw        5   \n",
            "4  Mexican, Fast Food, Restaurants  Vc0YQi0S3LDgYaFTPZ_QoQ        4   \n",
            "\n",
            "                                                text  average_stars  \\\n",
            "0  This location is the best. The management is f...           3.65   \n",
            "1  Completely inefficient, ran out of black beans...           3.67   \n",
            "2  Love their rice. I tried at home but didn't co...           3.67   \n",
            "3  They always serve with a smile and even on the...           4.36   \n",
            "4  The food is always great. I've never had a bad...           3.87   \n",
            "\n",
            "   review_count_1     name_1  \n",
            "0             143    Kaitlyn  \n",
            "1               6    Michael  \n",
            "2              87      World  \n",
            "3             109  Michaelle  \n",
            "4             100         Ed  \n",
            "\n",
            "Total rows in the final DataFrame: 1110843\n"
          ]
        }
      ]
    },
    {
      "cell_type": "code",
      "source": [
        "# Defined the new column names in a dictionary\n",
        "new_column_names = {\n",
        "    'name': 'business_name',\n",
        "    'review_count': 'business_reviews_count',\n",
        "    'name_1': 'reviewer_name',\n",
        "    'user_id': 'reviewer_id',\n",
        "    'stars_y': 'business_rating_given',\n",
        "    'text': 'review',\n",
        "    'average_stars': 'reviewer_average_rating',\n",
        "    'review_count_1': 'reviewer_reviews_count',\n",
        "}\n",
        "\n",
        "# Renamed the columns\n",
        "final_df = final_df.rename(columns=new_column_names)\n",
        "final_df.drop(columns=['stars_x'], inplace=True)"
      ],
      "metadata": {
        "id": "Eme3mx9o3zZ6"
      },
      "execution_count": null,
      "outputs": []
    },
    {
      "cell_type": "code",
      "source": [
        "# Created a list with the desired column order\n",
        "desired_order = [\n",
        "    'business_id',\n",
        "    'business_name',\n",
        "    'city',\n",
        "    'state',\n",
        "    'business_reviews_count',\n",
        "    'attributes',\n",
        "    'categories',\n",
        "    'reviewer_id',\n",
        "    'reviewer_name',\n",
        "    'reviewer_average_rating',\n",
        "    'reviewer_reviews_count',\n",
        "    'business_rating_given',\n",
        "    'review'\n",
        "]\n",
        "\n",
        "# Reindex the DataFrame using the new column order\n",
        "final_df = final_df[desired_order]\n",
        "\n",
        "\n",
        "final_df.head()"
      ],
      "metadata": {
        "colab": {
          "base_uri": "https://localhost:8080/",
          "height": 556
        },
        "id": "prDT4foyO6hI",
        "outputId": "3c50ad7a-aa8e-4e1e-abd0-8dd75e7c7ccd"
      },
      "execution_count": null,
      "outputs": [
        {
          "output_type": "execute_result",
          "data": {
            "text/plain": [
              "              business_id           business_name           city state  \\\n",
              "0  9ouyziwYpSvJzlLFpukSgA  Chipotle Mexican Grill  Pinellas Park    FL   \n",
              "1  9ouyziwYpSvJzlLFpukSgA  Chipotle Mexican Grill  Pinellas Park    FL   \n",
              "2  9ouyziwYpSvJzlLFpukSgA  Chipotle Mexican Grill  Pinellas Park    FL   \n",
              "3  9ouyziwYpSvJzlLFpukSgA  Chipotle Mexican Grill  Pinellas Park    FL   \n",
              "4  9ouyziwYpSvJzlLFpukSgA  Chipotle Mexican Grill  Pinellas Park    FL   \n",
              "\n",
              "   business_reviews_count                                         attributes  \\\n",
              "0                      88  {'OutdoorSeating': 'True', 'RestaurantsGoodFor...   \n",
              "1                      88  {'OutdoorSeating': 'True', 'RestaurantsGoodFor...   \n",
              "2                      88  {'OutdoorSeating': 'True', 'RestaurantsGoodFor...   \n",
              "3                      88  {'OutdoorSeating': 'True', 'RestaurantsGoodFor...   \n",
              "4                      88  {'OutdoorSeating': 'True', 'RestaurantsGoodFor...   \n",
              "\n",
              "                        categories             reviewer_id reviewer_name  \\\n",
              "0  Mexican, Fast Food, Restaurants  PTw3rESL0MwGOevG8JTs3g       Kaitlyn   \n",
              "1  Mexican, Fast Food, Restaurants  Djs4ZDkdaPdBYbe2KHG2KQ       Michael   \n",
              "2  Mexican, Fast Food, Restaurants  wiIrT3H8hVxH1QdJD6jbqQ         World   \n",
              "3  Mexican, Fast Food, Restaurants  t9rCx0ni7oabGhx2Bw-kZw     Michaelle   \n",
              "4  Mexican, Fast Food, Restaurants  Vc0YQi0S3LDgYaFTPZ_QoQ            Ed   \n",
              "\n",
              "   reviewer_average_rating  reviewer_reviews_count  business_rating_given  \\\n",
              "0                     3.65                     143                      5   \n",
              "1                     3.67                       6                      1   \n",
              "2                     3.67                      87                      5   \n",
              "3                     4.36                     109                      5   \n",
              "4                     3.87                     100                      4   \n",
              "\n",
              "                                              review  \n",
              "0  This location is the best. The management is f...  \n",
              "1  Completely inefficient, ran out of black beans...  \n",
              "2  Love their rice. I tried at home but didn't co...  \n",
              "3  They always serve with a smile and even on the...  \n",
              "4  The food is always great. I've never had a bad...  "
            ],
            "text/html": [
              "\n",
              "  <div id=\"df-09161c78-e493-459c-8da0-23f2d39549d6\" class=\"colab-df-container\">\n",
              "    <div>\n",
              "<style scoped>\n",
              "    .dataframe tbody tr th:only-of-type {\n",
              "        vertical-align: middle;\n",
              "    }\n",
              "\n",
              "    .dataframe tbody tr th {\n",
              "        vertical-align: top;\n",
              "    }\n",
              "\n",
              "    .dataframe thead th {\n",
              "        text-align: right;\n",
              "    }\n",
              "</style>\n",
              "<table border=\"1\" class=\"dataframe\">\n",
              "  <thead>\n",
              "    <tr style=\"text-align: right;\">\n",
              "      <th></th>\n",
              "      <th>business_id</th>\n",
              "      <th>business_name</th>\n",
              "      <th>city</th>\n",
              "      <th>state</th>\n",
              "      <th>business_reviews_count</th>\n",
              "      <th>attributes</th>\n",
              "      <th>categories</th>\n",
              "      <th>reviewer_id</th>\n",
              "      <th>reviewer_name</th>\n",
              "      <th>reviewer_average_rating</th>\n",
              "      <th>reviewer_reviews_count</th>\n",
              "      <th>business_rating_given</th>\n",
              "      <th>review</th>\n",
              "    </tr>\n",
              "  </thead>\n",
              "  <tbody>\n",
              "    <tr>\n",
              "      <th>0</th>\n",
              "      <td>9ouyziwYpSvJzlLFpukSgA</td>\n",
              "      <td>Chipotle Mexican Grill</td>\n",
              "      <td>Pinellas Park</td>\n",
              "      <td>FL</td>\n",
              "      <td>88</td>\n",
              "      <td>{'OutdoorSeating': 'True', 'RestaurantsGoodFor...</td>\n",
              "      <td>Mexican, Fast Food, Restaurants</td>\n",
              "      <td>PTw3rESL0MwGOevG8JTs3g</td>\n",
              "      <td>Kaitlyn</td>\n",
              "      <td>3.65</td>\n",
              "      <td>143</td>\n",
              "      <td>5</td>\n",
              "      <td>This location is the best. The management is f...</td>\n",
              "    </tr>\n",
              "    <tr>\n",
              "      <th>1</th>\n",
              "      <td>9ouyziwYpSvJzlLFpukSgA</td>\n",
              "      <td>Chipotle Mexican Grill</td>\n",
              "      <td>Pinellas Park</td>\n",
              "      <td>FL</td>\n",
              "      <td>88</td>\n",
              "      <td>{'OutdoorSeating': 'True', 'RestaurantsGoodFor...</td>\n",
              "      <td>Mexican, Fast Food, Restaurants</td>\n",
              "      <td>Djs4ZDkdaPdBYbe2KHG2KQ</td>\n",
              "      <td>Michael</td>\n",
              "      <td>3.67</td>\n",
              "      <td>6</td>\n",
              "      <td>1</td>\n",
              "      <td>Completely inefficient, ran out of black beans...</td>\n",
              "    </tr>\n",
              "    <tr>\n",
              "      <th>2</th>\n",
              "      <td>9ouyziwYpSvJzlLFpukSgA</td>\n",
              "      <td>Chipotle Mexican Grill</td>\n",
              "      <td>Pinellas Park</td>\n",
              "      <td>FL</td>\n",
              "      <td>88</td>\n",
              "      <td>{'OutdoorSeating': 'True', 'RestaurantsGoodFor...</td>\n",
              "      <td>Mexican, Fast Food, Restaurants</td>\n",
              "      <td>wiIrT3H8hVxH1QdJD6jbqQ</td>\n",
              "      <td>World</td>\n",
              "      <td>3.67</td>\n",
              "      <td>87</td>\n",
              "      <td>5</td>\n",
              "      <td>Love their rice. I tried at home but didn't co...</td>\n",
              "    </tr>\n",
              "    <tr>\n",
              "      <th>3</th>\n",
              "      <td>9ouyziwYpSvJzlLFpukSgA</td>\n",
              "      <td>Chipotle Mexican Grill</td>\n",
              "      <td>Pinellas Park</td>\n",
              "      <td>FL</td>\n",
              "      <td>88</td>\n",
              "      <td>{'OutdoorSeating': 'True', 'RestaurantsGoodFor...</td>\n",
              "      <td>Mexican, Fast Food, Restaurants</td>\n",
              "      <td>t9rCx0ni7oabGhx2Bw-kZw</td>\n",
              "      <td>Michaelle</td>\n",
              "      <td>4.36</td>\n",
              "      <td>109</td>\n",
              "      <td>5</td>\n",
              "      <td>They always serve with a smile and even on the...</td>\n",
              "    </tr>\n",
              "    <tr>\n",
              "      <th>4</th>\n",
              "      <td>9ouyziwYpSvJzlLFpukSgA</td>\n",
              "      <td>Chipotle Mexican Grill</td>\n",
              "      <td>Pinellas Park</td>\n",
              "      <td>FL</td>\n",
              "      <td>88</td>\n",
              "      <td>{'OutdoorSeating': 'True', 'RestaurantsGoodFor...</td>\n",
              "      <td>Mexican, Fast Food, Restaurants</td>\n",
              "      <td>Vc0YQi0S3LDgYaFTPZ_QoQ</td>\n",
              "      <td>Ed</td>\n",
              "      <td>3.87</td>\n",
              "      <td>100</td>\n",
              "      <td>4</td>\n",
              "      <td>The food is always great. I've never had a bad...</td>\n",
              "    </tr>\n",
              "  </tbody>\n",
              "</table>\n",
              "</div>\n",
              "    <div class=\"colab-df-buttons\">\n",
              "\n",
              "  <div class=\"colab-df-container\">\n",
              "    <button class=\"colab-df-convert\" onclick=\"convertToInteractive('df-09161c78-e493-459c-8da0-23f2d39549d6')\"\n",
              "            title=\"Convert this dataframe to an interactive table.\"\n",
              "            style=\"display:none;\">\n",
              "\n",
              "  <svg xmlns=\"http://www.w3.org/2000/svg\" height=\"24px\" viewBox=\"0 -960 960 960\">\n",
              "    <path d=\"M120-120v-720h720v720H120Zm60-500h600v-160H180v160Zm220 220h160v-160H400v160Zm0 220h160v-160H400v160ZM180-400h160v-160H180v160Zm440 0h160v-160H620v160ZM180-180h160v-160H180v160Zm440 0h160v-160H620v160Z\"/>\n",
              "  </svg>\n",
              "    </button>\n",
              "\n",
              "  <style>\n",
              "    .colab-df-container {\n",
              "      display:flex;\n",
              "      gap: 12px;\n",
              "    }\n",
              "\n",
              "    .colab-df-convert {\n",
              "      background-color: #E8F0FE;\n",
              "      border: none;\n",
              "      border-radius: 50%;\n",
              "      cursor: pointer;\n",
              "      display: none;\n",
              "      fill: #1967D2;\n",
              "      height: 32px;\n",
              "      padding: 0 0 0 0;\n",
              "      width: 32px;\n",
              "    }\n",
              "\n",
              "    .colab-df-convert:hover {\n",
              "      background-color: #E2EBFA;\n",
              "      box-shadow: 0px 1px 2px rgba(60, 64, 67, 0.3), 0px 1px 3px 1px rgba(60, 64, 67, 0.15);\n",
              "      fill: #174EA6;\n",
              "    }\n",
              "\n",
              "    .colab-df-buttons div {\n",
              "      margin-bottom: 4px;\n",
              "    }\n",
              "\n",
              "    [theme=dark] .colab-df-convert {\n",
              "      background-color: #3B4455;\n",
              "      fill: #D2E3FC;\n",
              "    }\n",
              "\n",
              "    [theme=dark] .colab-df-convert:hover {\n",
              "      background-color: #434B5C;\n",
              "      box-shadow: 0px 1px 3px 1px rgba(0, 0, 0, 0.15);\n",
              "      filter: drop-shadow(0px 1px 2px rgba(0, 0, 0, 0.3));\n",
              "      fill: #FFFFFF;\n",
              "    }\n",
              "  </style>\n",
              "\n",
              "    <script>\n",
              "      const buttonEl =\n",
              "        document.querySelector('#df-09161c78-e493-459c-8da0-23f2d39549d6 button.colab-df-convert');\n",
              "      buttonEl.style.display =\n",
              "        google.colab.kernel.accessAllowed ? 'block' : 'none';\n",
              "\n",
              "      async function convertToInteractive(key) {\n",
              "        const element = document.querySelector('#df-09161c78-e493-459c-8da0-23f2d39549d6');\n",
              "        const dataTable =\n",
              "          await google.colab.kernel.invokeFunction('convertToInteractive',\n",
              "                                                    [key], {});\n",
              "        if (!dataTable) return;\n",
              "\n",
              "        const docLinkHtml = 'Like what you see? Visit the ' +\n",
              "          '<a target=\"_blank\" href=https://colab.research.google.com/notebooks/data_table.ipynb>data table notebook</a>'\n",
              "          + ' to learn more about interactive tables.';\n",
              "        element.innerHTML = '';\n",
              "        dataTable['output_type'] = 'display_data';\n",
              "        await google.colab.output.renderOutput(dataTable, element);\n",
              "        const docLink = document.createElement('div');\n",
              "        docLink.innerHTML = docLinkHtml;\n",
              "        element.appendChild(docLink);\n",
              "      }\n",
              "    </script>\n",
              "  </div>\n",
              "\n",
              "\n",
              "    <div id=\"df-58bb80ab-79c1-44c6-9525-b8534e58b13b\">\n",
              "      <button class=\"colab-df-quickchart\" onclick=\"quickchart('df-58bb80ab-79c1-44c6-9525-b8534e58b13b')\"\n",
              "                title=\"Suggest charts\"\n",
              "                style=\"display:none;\">\n",
              "\n",
              "<svg xmlns=\"http://www.w3.org/2000/svg\" height=\"24px\"viewBox=\"0 0 24 24\"\n",
              "     width=\"24px\">\n",
              "    <g>\n",
              "        <path d=\"M19 3H5c-1.1 0-2 .9-2 2v14c0 1.1.9 2 2 2h14c1.1 0 2-.9 2-2V5c0-1.1-.9-2-2-2zM9 17H7v-7h2v7zm4 0h-2V7h2v10zm4 0h-2v-4h2v4z\"/>\n",
              "    </g>\n",
              "</svg>\n",
              "      </button>\n",
              "\n",
              "<style>\n",
              "  .colab-df-quickchart {\n",
              "      --bg-color: #E8F0FE;\n",
              "      --fill-color: #1967D2;\n",
              "      --hover-bg-color: #E2EBFA;\n",
              "      --hover-fill-color: #174EA6;\n",
              "      --disabled-fill-color: #AAA;\n",
              "      --disabled-bg-color: #DDD;\n",
              "  }\n",
              "\n",
              "  [theme=dark] .colab-df-quickchart {\n",
              "      --bg-color: #3B4455;\n",
              "      --fill-color: #D2E3FC;\n",
              "      --hover-bg-color: #434B5C;\n",
              "      --hover-fill-color: #FFFFFF;\n",
              "      --disabled-bg-color: #3B4455;\n",
              "      --disabled-fill-color: #666;\n",
              "  }\n",
              "\n",
              "  .colab-df-quickchart {\n",
              "    background-color: var(--bg-color);\n",
              "    border: none;\n",
              "    border-radius: 50%;\n",
              "    cursor: pointer;\n",
              "    display: none;\n",
              "    fill: var(--fill-color);\n",
              "    height: 32px;\n",
              "    padding: 0;\n",
              "    width: 32px;\n",
              "  }\n",
              "\n",
              "  .colab-df-quickchart:hover {\n",
              "    background-color: var(--hover-bg-color);\n",
              "    box-shadow: 0 1px 2px rgba(60, 64, 67, 0.3), 0 1px 3px 1px rgba(60, 64, 67, 0.15);\n",
              "    fill: var(--button-hover-fill-color);\n",
              "  }\n",
              "\n",
              "  .colab-df-quickchart-complete:disabled,\n",
              "  .colab-df-quickchart-complete:disabled:hover {\n",
              "    background-color: var(--disabled-bg-color);\n",
              "    fill: var(--disabled-fill-color);\n",
              "    box-shadow: none;\n",
              "  }\n",
              "\n",
              "  .colab-df-spinner {\n",
              "    border: 2px solid var(--fill-color);\n",
              "    border-color: transparent;\n",
              "    border-bottom-color: var(--fill-color);\n",
              "    animation:\n",
              "      spin 1s steps(1) infinite;\n",
              "  }\n",
              "\n",
              "  @keyframes spin {\n",
              "    0% {\n",
              "      border-color: transparent;\n",
              "      border-bottom-color: var(--fill-color);\n",
              "      border-left-color: var(--fill-color);\n",
              "    }\n",
              "    20% {\n",
              "      border-color: transparent;\n",
              "      border-left-color: var(--fill-color);\n",
              "      border-top-color: var(--fill-color);\n",
              "    }\n",
              "    30% {\n",
              "      border-color: transparent;\n",
              "      border-left-color: var(--fill-color);\n",
              "      border-top-color: var(--fill-color);\n",
              "      border-right-color: var(--fill-color);\n",
              "    }\n",
              "    40% {\n",
              "      border-color: transparent;\n",
              "      border-right-color: var(--fill-color);\n",
              "      border-top-color: var(--fill-color);\n",
              "    }\n",
              "    60% {\n",
              "      border-color: transparent;\n",
              "      border-right-color: var(--fill-color);\n",
              "    }\n",
              "    80% {\n",
              "      border-color: transparent;\n",
              "      border-right-color: var(--fill-color);\n",
              "      border-bottom-color: var(--fill-color);\n",
              "    }\n",
              "    90% {\n",
              "      border-color: transparent;\n",
              "      border-bottom-color: var(--fill-color);\n",
              "    }\n",
              "  }\n",
              "</style>\n",
              "\n",
              "      <script>\n",
              "        async function quickchart(key) {\n",
              "          const quickchartButtonEl =\n",
              "            document.querySelector('#' + key + ' button');\n",
              "          quickchartButtonEl.disabled = true;  // To prevent multiple clicks.\n",
              "          quickchartButtonEl.classList.add('colab-df-spinner');\n",
              "          try {\n",
              "            const charts = await google.colab.kernel.invokeFunction(\n",
              "                'suggestCharts', [key], {});\n",
              "          } catch (error) {\n",
              "            console.error('Error during call to suggestCharts:', error);\n",
              "          }\n",
              "          quickchartButtonEl.classList.remove('colab-df-spinner');\n",
              "          quickchartButtonEl.classList.add('colab-df-quickchart-complete');\n",
              "        }\n",
              "        (() => {\n",
              "          let quickchartButtonEl =\n",
              "            document.querySelector('#df-58bb80ab-79c1-44c6-9525-b8534e58b13b button');\n",
              "          quickchartButtonEl.style.display =\n",
              "            google.colab.kernel.accessAllowed ? 'block' : 'none';\n",
              "        })();\n",
              "      </script>\n",
              "    </div>\n",
              "\n",
              "    </div>\n",
              "  </div>\n"
            ],
            "application/vnd.google.colaboratory.intrinsic+json": {
              "type": "dataframe",
              "variable_name": "final_df"
            }
          },
          "metadata": {},
          "execution_count": 6
        }
      ]
    },
    {
      "cell_type": "code",
      "source": [
        "final_df.isnull().sum()\n",
        "final_df.info()\n",
        "cleaned_df = final_df.dropna()\n",
        "print(f\"\\nTotal rows in the cleaned DataFrame: {len(cleaned_df)}\")"
      ],
      "metadata": {
        "colab": {
          "base_uri": "https://localhost:8080/"
        },
        "id": "zDOpb0DPPzPd",
        "outputId": "8797d42d-fad3-4680-b208-30cb5982badb"
      },
      "execution_count": null,
      "outputs": [
        {
          "output_type": "stream",
          "name": "stdout",
          "text": [
            "<class 'pandas.core.frame.DataFrame'>\n",
            "RangeIndex: 1110843 entries, 0 to 1110842\n",
            "Data columns (total 13 columns):\n",
            " #   Column                   Non-Null Count    Dtype  \n",
            "---  ------                   --------------    -----  \n",
            " 0   business_id              1110843 non-null  object \n",
            " 1   business_name            1110843 non-null  object \n",
            " 2   city                     1110843 non-null  object \n",
            " 3   state                    1110843 non-null  object \n",
            " 4   business_reviews_count   1110843 non-null  int64  \n",
            " 5   attributes               1109292 non-null  object \n",
            " 6   categories               1110843 non-null  object \n",
            " 7   reviewer_id              1110843 non-null  object \n",
            " 8   reviewer_name            1110843 non-null  object \n",
            " 9   reviewer_average_rating  1110843 non-null  float64\n",
            " 10  reviewer_reviews_count   1110843 non-null  int64  \n",
            " 11  business_rating_given    1110843 non-null  int64  \n",
            " 12  review                   1110843 non-null  object \n",
            "dtypes: float64(1), int64(3), object(9)\n",
            "memory usage: 110.2+ MB\n",
            "\n",
            "Total rows in the cleaned DataFrame: 1109292\n"
          ]
        }
      ]
    },
    {
      "cell_type": "markdown",
      "source": [
        "# **Feature Engineering**"
      ],
      "metadata": {
        "id": "lqUOFcRmpf1l"
      }
    },
    {
      "cell_type": "markdown",
      "source": [
        "We created a new feature called repeated_review_count that shows a count of reviews that a user has given for the same business. If the reviewer has only reviewed the business once, it will be NaN."
      ],
      "metadata": {
        "id": "Opla9mdutDR2"
      }
    },
    {
      "cell_type": "code",
      "source": [
        "# Group by business_id and reviewer_id, then count the number of reviews\n",
        "review_counts = cleaned_df.groupby(['business_id', 'reviewer_id']).size().reset_index(name='review_count')\n",
        "\n",
        "# Filter to find only those who reviewed the same place more than once\n",
        "repeated_reviews = review_counts[review_counts['review_count'] > 1]\n",
        "\n",
        "print(\"\\nReviewers who reviewed the same place more than once:\")\n",
        "print(repeated_reviews.head())"
      ],
      "metadata": {
        "colab": {
          "base_uri": "https://localhost:8080/"
        },
        "id": "cR-Pk3NQQ5cc",
        "outputId": "48b02af9-69a8-4178-d5a6-2091886f1928"
      },
      "execution_count": null,
      "outputs": [
        {
          "output_type": "stream",
          "name": "stdout",
          "text": [
            "\n",
            "Reviewers who reviewed the same place more than once:\n",
            "                business_id             reviewer_id  review_count\n",
            "118  -0EdehHjIQc0DtYU8QcAig  tJRsHAQUiewvv420lYnJeg             2\n",
            "138  -0i2KNr7WrCsDF5m0IViJg  K81DSGPsflFdbyXFAytisQ             2\n",
            "181  -1oygVebK81K8JEPI6H6Lw  -OeDOCY60_erQ_NXI7I4lQ             2\n",
            "197  -1oygVebK81K8JEPI6H6Lw  Bofiz9C2LxbGfqtQIMc5vA             2\n",
            "206  -1oygVebK81K8JEPI6H6Lw  JReJc_dnlN-9L_fzpn0Nmw             2\n"
          ]
        }
      ]
    },
    {
      "cell_type": "code",
      "source": [
        "import numpy as np\n",
        "# Create the count DataFrame\n",
        "review_counts = cleaned_df.groupby(['business_id', 'reviewer_id']).size().reset_index(name='review_count')\n",
        "\n",
        "# Left merge the counts back into the original DataFrame\n",
        "final_cleaned_df = pd.merge(cleaned_df, review_counts, on=['business_id', 'reviewer_id'], how='left')\n",
        "\n",
        "# Filter and clean the new column\n",
        "final_cleaned_df = final_cleaned_df.rename(columns={'review_count': 'repeated_review_count'})\n",
        "\n",
        "# Set the count to NaN where the count is 1\n",
        "final_cleaned_df.loc[final_cleaned_df['repeated_review_count'] == 1, 'repeated_review_count'] = np.nan\n",
        "final_cleaned_df = final_cleaned_df.drop(columns=['business_id'])\n",
        "\n",
        "print(\"\\nDataFrame with 'repeated_review_count' column:\")\n",
        "print(final_cleaned_df.head())"
      ],
      "metadata": {
        "colab": {
          "base_uri": "https://localhost:8080/"
        },
        "id": "kd88sq2fR1ki",
        "outputId": "5c5f6ae3-7a5f-444c-88db-7ede93ad2f95"
      },
      "execution_count": null,
      "outputs": [
        {
          "output_type": "stream",
          "name": "stdout",
          "text": [
            "\n",
            "DataFrame with 'repeated_review_count' column:\n",
            "            business_name           city state  business_reviews_count  \\\n",
            "0  Chipotle Mexican Grill  Pinellas Park    FL                      88   \n",
            "1  Chipotle Mexican Grill  Pinellas Park    FL                      88   \n",
            "2  Chipotle Mexican Grill  Pinellas Park    FL                      88   \n",
            "3  Chipotle Mexican Grill  Pinellas Park    FL                      88   \n",
            "4  Chipotle Mexican Grill  Pinellas Park    FL                      88   \n",
            "\n",
            "                                          attributes  \\\n",
            "0  {'OutdoorSeating': 'True', 'RestaurantsGoodFor...   \n",
            "1  {'OutdoorSeating': 'True', 'RestaurantsGoodFor...   \n",
            "2  {'OutdoorSeating': 'True', 'RestaurantsGoodFor...   \n",
            "3  {'OutdoorSeating': 'True', 'RestaurantsGoodFor...   \n",
            "4  {'OutdoorSeating': 'True', 'RestaurantsGoodFor...   \n",
            "\n",
            "                        categories             reviewer_id reviewer_name  \\\n",
            "0  Mexican, Fast Food, Restaurants  PTw3rESL0MwGOevG8JTs3g       Kaitlyn   \n",
            "1  Mexican, Fast Food, Restaurants  Djs4ZDkdaPdBYbe2KHG2KQ       Michael   \n",
            "2  Mexican, Fast Food, Restaurants  wiIrT3H8hVxH1QdJD6jbqQ         World   \n",
            "3  Mexican, Fast Food, Restaurants  t9rCx0ni7oabGhx2Bw-kZw     Michaelle   \n",
            "4  Mexican, Fast Food, Restaurants  Vc0YQi0S3LDgYaFTPZ_QoQ            Ed   \n",
            "\n",
            "   reviewer_average_rating  reviewer_reviews_count  business_rating_given  \\\n",
            "0                     3.65                     143                      5   \n",
            "1                     3.67                       6                      1   \n",
            "2                     3.67                      87                      5   \n",
            "3                     4.36                     109                      5   \n",
            "4                     3.87                     100                      4   \n",
            "\n",
            "                                              review  repeated_review_count  \n",
            "0  This location is the best. The management is f...                    NaN  \n",
            "1  Completely inefficient, ran out of black beans...                    NaN  \n",
            "2  Love their rice. I tried at home but didn't co...                    NaN  \n",
            "3  They always serve with a smile and even on the...                    NaN  \n",
            "4  The food is always great. I've never had a bad...                    NaN  \n"
          ]
        }
      ]
    },
    {
      "cell_type": "code",
      "source": [
        "df_cali = pd.read_csv('/content/drive/My Drive/cali_10_scraped_data.csv')\n",
        "df_texas = pd.read_csv('/content/drive/My Drive/texas_10_scraped_data.csv')\n",
        "df_cali['state'] = 'CA'\n",
        "df_texas['state'] = 'TX'\n",
        "# Combine the two DataFrames into a single DataFrame\n",
        "cali_texas_df = pd.concat([df_cali, df_texas], ignore_index=True)\n",
        "\n",
        "# Remove the 'reviewUrl' column\n",
        "cali_texas_df = cali_texas_df.drop(columns=['reviewUrl'])\n",
        "cali_texas_df = cali_texas_df.drop(columns=['url'])\n",
        "\n",
        "# Remove any rows that have missing (null) values in any column\n",
        "cali_texas_cleaned_df = cali_texas_df.dropna()\n",
        "\n",
        "\n",
        "new_column_names = {\n",
        "    'title': 'business_name',\n",
        "    'name': 'reviewer_name',\n",
        "    'stars': 'business_rating_given',\n",
        "    'text': 'review',\n",
        "}\n",
        "\n",
        "# Rename the columns\n",
        "cali_texas_cleaned_df = cali_texas_cleaned_df.rename(columns=new_column_names)\n",
        "print(cali_texas_cleaned_df.head())\n",
        "\n"
      ],
      "metadata": {
        "colab": {
          "base_uri": "https://localhost:8080/"
        },
        "id": "W3JxVOJjNGEY",
        "outputId": "210da18e-2fac-4588-d425-a68c6a9bc234"
      },
      "execution_count": null,
      "outputs": [
        {
          "output_type": "stream",
          "name": "stdout",
          "text": [
            "  business_name  business_rating_given     reviewer_name  \\\n",
            "0        Holbox                      5     Jeff Niemeyer   \n",
            "1        Holbox                      5        Natasha Lo   \n",
            "2        Holbox                      5   Richard Jimenez   \n",
            "3        Holbox                      5           Danny Y   \n",
            "4        Holbox                      5  Isai Eli Ramirez   \n",
            "\n",
            "                                              review state  \n",
            "0  Arguably one of the best restaurants I’ve ever...    CA  \n",
            "1  If you're looking for an unforgettable dining ...    CA  \n",
            "2  It's definitely priced higher than regular sea...    CA  \n",
            "3  First time visiting.  This place was really di...    CA  \n",
            "4  Holbox is a seafood paradise where every dish ...    CA  \n"
          ]
        }
      ]
    },
    {
      "cell_type": "code",
      "source": [
        "unioned_df = pd.concat([final_cleaned_df, cali_texas_cleaned_df], ignore_index=True)\n",
        "\n",
        "# Print the result to see the combined data with the new column\n",
        "print(unioned_df.head())"
      ],
      "metadata": {
        "id": "hLTmwWxXPx5p",
        "colab": {
          "base_uri": "https://localhost:8080/"
        },
        "outputId": "c6728793-a7e8-489c-baa0-8e95d1a6a64e"
      },
      "execution_count": null,
      "outputs": [
        {
          "output_type": "stream",
          "name": "stdout",
          "text": [
            "            business_name           city state  business_reviews_count  \\\n",
            "0  Chipotle Mexican Grill  Pinellas Park    FL                    88.0   \n",
            "1  Chipotle Mexican Grill  Pinellas Park    FL                    88.0   \n",
            "2  Chipotle Mexican Grill  Pinellas Park    FL                    88.0   \n",
            "3  Chipotle Mexican Grill  Pinellas Park    FL                    88.0   \n",
            "4  Chipotle Mexican Grill  Pinellas Park    FL                    88.0   \n",
            "\n",
            "                                          attributes  \\\n",
            "0  {'OutdoorSeating': 'True', 'RestaurantsGoodFor...   \n",
            "1  {'OutdoorSeating': 'True', 'RestaurantsGoodFor...   \n",
            "2  {'OutdoorSeating': 'True', 'RestaurantsGoodFor...   \n",
            "3  {'OutdoorSeating': 'True', 'RestaurantsGoodFor...   \n",
            "4  {'OutdoorSeating': 'True', 'RestaurantsGoodFor...   \n",
            "\n",
            "                        categories             reviewer_id reviewer_name  \\\n",
            "0  Mexican, Fast Food, Restaurants  PTw3rESL0MwGOevG8JTs3g       Kaitlyn   \n",
            "1  Mexican, Fast Food, Restaurants  Djs4ZDkdaPdBYbe2KHG2KQ       Michael   \n",
            "2  Mexican, Fast Food, Restaurants  wiIrT3H8hVxH1QdJD6jbqQ         World   \n",
            "3  Mexican, Fast Food, Restaurants  t9rCx0ni7oabGhx2Bw-kZw     Michaelle   \n",
            "4  Mexican, Fast Food, Restaurants  Vc0YQi0S3LDgYaFTPZ_QoQ            Ed   \n",
            "\n",
            "   reviewer_average_rating  reviewer_reviews_count  business_rating_given  \\\n",
            "0                     3.65                   143.0                      5   \n",
            "1                     3.67                     6.0                      1   \n",
            "2                     3.67                    87.0                      5   \n",
            "3                     4.36                   109.0                      5   \n",
            "4                     3.87                   100.0                      4   \n",
            "\n",
            "                                              review  repeated_review_count  \n",
            "0  This location is the best. The management is f...                    NaN  \n",
            "1  Completely inefficient, ran out of black beans...                    NaN  \n",
            "2  Love their rice. I tried at home but didn't co...                    NaN  \n",
            "3  They always serve with a smile and even on the...                    NaN  \n",
            "4  The food is always great. I've never had a bad...                    NaN  \n"
          ]
        }
      ]
    },
    {
      "cell_type": "code",
      "source": [
        "unioned_df.to_csv('unioned_df.csv', index=False)\n",
        "from google.colab import files\n",
        "files.download('unioned_df.csv')"
      ],
      "metadata": {
        "colab": {
          "base_uri": "https://localhost:8080/",
          "height": 17
        },
        "id": "h-vToCX-ikRI",
        "outputId": "0c843a85-0821-4df3-f937-ab78bfee6955"
      },
      "execution_count": null,
      "outputs": [
        {
          "output_type": "display_data",
          "data": {
            "text/plain": [
              "<IPython.core.display.Javascript object>"
            ],
            "application/javascript": [
              "\n",
              "    async function download(id, filename, size) {\n",
              "      if (!google.colab.kernel.accessAllowed) {\n",
              "        return;\n",
              "      }\n",
              "      const div = document.createElement('div');\n",
              "      const label = document.createElement('label');\n",
              "      label.textContent = `Downloading \"${filename}\": `;\n",
              "      div.appendChild(label);\n",
              "      const progress = document.createElement('progress');\n",
              "      progress.max = size;\n",
              "      div.appendChild(progress);\n",
              "      document.body.appendChild(div);\n",
              "\n",
              "      const buffers = [];\n",
              "      let downloaded = 0;\n",
              "\n",
              "      const channel = await google.colab.kernel.comms.open(id);\n",
              "      // Send a message to notify the kernel that we're ready.\n",
              "      channel.send({})\n",
              "\n",
              "      for await (const message of channel.messages) {\n",
              "        // Send a message to notify the kernel that we're ready.\n",
              "        channel.send({})\n",
              "        if (message.buffers) {\n",
              "          for (const buffer of message.buffers) {\n",
              "            buffers.push(buffer);\n",
              "            downloaded += buffer.byteLength;\n",
              "            progress.value = downloaded;\n",
              "          }\n",
              "        }\n",
              "      }\n",
              "      const blob = new Blob(buffers, {type: 'application/binary'});\n",
              "      const a = document.createElement('a');\n",
              "      a.href = window.URL.createObjectURL(blob);\n",
              "      a.download = filename;\n",
              "      div.appendChild(a);\n",
              "      a.click();\n",
              "      div.remove();\n",
              "    }\n",
              "  "
            ]
          },
          "metadata": {}
        },
        {
          "output_type": "display_data",
          "data": {
            "text/plain": [
              "<IPython.core.display.Javascript object>"
            ],
            "application/javascript": [
              "download(\"download_25bba2d6-5c53-451b-b8f1-a13eb7b52c11\", \"unioned_df.csv\", 2091134528)"
            ]
          },
          "metadata": {}
        }
      ]
    },
    {
      "cell_type": "markdown",
      "source": [
        "# **Policy enforcement Module**"
      ],
      "metadata": {
        "id": "J4EyHBF3ofra"
      }
    },
    {
      "cell_type": "code",
      "source": [
        "import pandas as pd\n",
        "from sentence_transformers import SentenceTransformer, util\n",
        "from transformers import AutoTokenizer, AutoModelForCausalLM, pipeline\n",
        "import torch"
      ],
      "metadata": {
        "id": "xnNQI5VunsiR"
      },
      "execution_count": null,
      "outputs": []
    },
    {
      "cell_type": "code",
      "source": [
        "# Helper function to get binary label\n",
        "def get_binary_label(category: str) -> int:\n",
        "    return 1 if category == \"Valid Review\" else 0\n",
        "\n",
        "# Load Sentence Transformer model for relevancy scoring\n",
        "model_emb = SentenceTransformer('all-MiniLM-L6-v2')\n",
        "\n",
        "# Function to calculate relevancy score\n",
        "def get_relevancy_score(review, categories, attributes):\n",
        "    target_text = f\"{categories} {attributes}\"\n",
        "    emb_review = model_emb.encode(review, convert_to_tensor=True)\n",
        "    emb_target = model_emb.encode(target_text, convert_to_tensor=True)\n",
        "    score = util.cos_sim(emb_review, emb_target).item()\n",
        "    # scale to 0-10\n",
        "    return round(score * 10, 2)\n",
        "\n",
        "# Function to check for spam based on the existing 'repeated_reviews_count' column\n",
        "def check_spam_rule(df):\n",
        "    df.loc[df['repeated_review_count'] > 5, 'Category'] = 'Spam'\n",
        "    df.loc[df['repeated_review_count'] > 5, 'Binary'] = 0\n",
        "    return df\n"
      ],
      "metadata": {
        "id": "qlmakP7JXFpW",
        "colab": {
          "base_uri": "https://localhost:8080/",
          "height": 496,
          "referenced_widgets": [
            "80a53c6eb39448ae95cba3a3a1a311ff",
            "85862e73c8b44ec49ef1efdc35bdce9b",
            "ed32828a69614b64b9760d4a5ff41fe2",
            "556dd1a60df44291b06b4c9fb89f022f",
            "913a42162ad44d389ba502107eff6fdf",
            "abebea252bfc485baa71ee39384b7611",
            "7060a93144a648619b5c57181fbc033b",
            "8bf3664e284e44e488fbcfca543c6318",
            "fd602131cf1b403bb8957e2ed4b2dd3b",
            "68a2e59bdc684469962bc7a29969c8b1",
            "9bf98ed2512e4a828faf001d8e54eeaf",
            "60d8c7ce40b54c09928b2c1e7c633898",
            "b41e0446f698455db95ea4621562652e",
            "9cc54b1b12714a4fb02609c32050d0a4",
            "933db76f22cf435d93c061bd3fc3b4a0",
            "b0056c8092b74a648d5c1575cb909b82",
            "fd2b104255b34b899970177f653a90fe",
            "0b6099146f0147b3a09c2c23909b0f1e",
            "fa5bcc5fb7d049a785a53164009a7c97",
            "b5e0d23804684f468e72e9755a139bae",
            "b4f191af1a0d42259ed51458d6c35ad1",
            "82dbbe0f5200483c949558bf6f433a87",
            "783d6f98066c4aae89b0663ddf734da3",
            "740434339fb549c3aa12bde8ce7b0646",
            "0649d7c582d3492fbca480df3a0136a4",
            "4d9d2e24fe6b439b9e80e93ccd1c3847",
            "e36ff28f116643ceac90c2a6310f1f61",
            "71b52cb5be3d4bdc8a6bdd1b5871fef6",
            "c5cff0b63e24464185cee293b332f4eb",
            "26bfb538b2cc4329b4bae45f637d98f0",
            "e687fb0820d24a0f9423ffec05a04f5a",
            "6d90fb26e4bc4b3ea75f5989eccba39d",
            "b3f6381699514c5bbe2e1261fce90762",
            "0e7ebf88b3154657901ff51e587014d2",
            "966569c6461647be8e99451276c2bee8",
            "850cb3b7e940403f99c04789659d566d",
            "89a4f49d98ba4ef9a1590f36ea87bc41",
            "8bb5d4e58b4a43d4b57b3cab6a23895a",
            "9e291f5881b54de8a8afaee171ebac85",
            "e673c001ed074a0496a2358aeab04517",
            "d7647b1bcbb8498481cfe5842361826f",
            "e4c44d0cfcfb4d1cbe26e5442c81c531",
            "038e1fea646541f7b93bb45d3e8c2263",
            "f467af3e7ddb4877b5d60ecb3569d62b",
            "a5f25639a8694e6d98d64ed74867b90d",
            "59101a71f2a24651bdb46d4481efbde1",
            "b15716b1609e44428caa41f92f8941e3",
            "f83675a4c6c84a0193338d1925227914",
            "ba6c0222351f40d788e5f7d918bff3c3",
            "f3ce830b9b9741ac869e454e0f9f00d9",
            "2f4ced7758e941eca8d365a44e1b12f8",
            "eb400b76c658483ea24524a0602e6e04",
            "a6e7ea99c3ee494ab18ee758a29c46ac",
            "ecc7af004fa2462fb2bb3f74aaed4ef7",
            "aea5d104ee5c4734b0eb42af2a2c55c4",
            "e6aca431919d45e48cddc5a89a143b5d",
            "0d5fc3f4cced47b3a2f88e95a7e5c800",
            "47bdfea7a87647f083708b50cd963a75",
            "c0f1919e9986499dad7832ceca8f192d",
            "7cde2aedf7e04bcc906560e1d214deac",
            "dc855dae8085451cbc65e8f357b1150e",
            "61ff08cfce7340f79c03ebc2939f3c75",
            "bd3a9708b105412db5ca26cd01a8f996",
            "d69a18e5e55e49958deed713e8d676d1",
            "ea430a2b6ed34f7995ec1e6ed122e06f",
            "629612fa952944aba58a2fb68d8620bf",
            "e8db95b9a40a4050815ec7782e5d807b",
            "e43015e3a1ff4251958a4430df50c487",
            "7bf3d9dabc324fac9d286006c68898b1",
            "35bc5dccace64e51b0d25991bc5b78d0",
            "ad6c8c2dec2446c4ba5f17c9dca7284a",
            "d49b59ca94754e449dc6be50b2d3d689",
            "9114b037e9584ef4b396c43498176f34",
            "ba613836b4644f5c9de88e6879610211",
            "09dcffdbc12249cf9dd6a7f9c9e3ae2c",
            "847d519704a74e038f12496948fc7902",
            "3bf5823daa9b4a8d8a2c8f0286ae94ff",
            "2716a4f0c0f5492ea38bb18c6f7edd70",
            "488d8400f7054659860aeec14dd7c48c",
            "7d471dc7ae8b4226871f57ec2a2df1a3",
            "5532323d124d4ed89037c70f70b1cf9a",
            "24939159eb594fbab996e76b4212b37c",
            "821c67d4b96a48c1952da110aa020ae8",
            "4eaa08c10bc44db1b7408e425bd09828",
            "be0130f06db145508c5d4d384ec988fc",
            "9910fe43d97b42a3927aa5f717d327ae",
            "af75d3ac48b14beeb7f6075f1561fd1d",
            "dff9adacdc9f4355aea8284b27dcb364",
            "aaaa23b87dc34180b0f3d4faeec69a90",
            "6989fecc5916498cb05f8f7892df44b4",
            "18b25ffc779943d79633d20bbffc1a70",
            "151c3a22282d4370b0c6b62bd254e54c",
            "16a098eca83544059a0d43b5c2687032",
            "a3d4a57e4b9342b69c3c363446e9eaaf",
            "e43bb2318dda4ddfbc204422f4ff26c8",
            "762bb72564c44e2dbb5d3a51a4d8082e",
            "46f1c51fe630417f99aa454f0d40102d",
            "2c59c002a2d6433e9164bd2fb24ecf1c",
            "cd9136f36653491dbedc1fcb6aa82eb0",
            "6853b29ce0e4490a80f39b418b968a2c",
            "453a2c1664ab42b7b854ab189148cca7",
            "9031e546dbda46c89de751bb6c696b28",
            "b5971e1d888344fa92f3c54266921264",
            "19ae8e7788b34896b337995f372af433",
            "539a70009c6f4c52ae4717324954e32c",
            "af33aa4c4ff649ff989f21d35d4ad99d",
            "2d2af0dac3214a8ba6bc29a5fc77ee56",
            "0e9fe1dfbd0d4cac8fb4c0544cfb3f05",
            "e813bfe82be8463f9624811da558f208",
            "a82122ac39d54a579b2fd1001057b4d7",
            "faf0c9300988480e9fd2c8515328151b",
            "0459f3a2821d4e80a7bf13a20a0a2ca1",
            "7ad2169158ee4b5f8ab5d763095e8179",
            "93c0ee1849144c229affd51b743be149",
            "be0a00600f164a48a7e97c604099f248",
            "98ff3aca72ec4f8f855f7c20810340e1",
            "ac30b457a1d44deb94899842f8857afa",
            "a158d0bf06af4d1cb0665d22503fa05c",
            "a08696911878488f8ff0063b6cc27161",
            "92723a0af9464ae59877a0b18eab7e05",
            "b2dac1ec0a994353aea101495c38e66c"
          ]
        },
        "outputId": "c579357d-319f-48c9-d5df-85e30c187112"
      },
      "execution_count": null,
      "outputs": [
        {
          "output_type": "stream",
          "name": "stderr",
          "text": [
            "/usr/local/lib/python3.12/dist-packages/huggingface_hub/utils/_auth.py:94: UserWarning: \n",
            "The secret `HF_TOKEN` does not exist in your Colab secrets.\n",
            "To authenticate with the Hugging Face Hub, create a token in your settings tab (https://huggingface.co/settings/tokens), set it as secret in your Google Colab and restart your session.\n",
            "You will be able to reuse this secret in all of your notebooks.\n",
            "Please note that authentication is recommended but still optional to access public models or datasets.\n",
            "  warnings.warn(\n"
          ]
        },
        {
          "output_type": "display_data",
          "data": {
            "text/plain": [
              "modules.json:   0%|          | 0.00/349 [00:00<?, ?B/s]"
            ],
            "application/vnd.jupyter.widget-view+json": {
              "version_major": 2,
              "version_minor": 0,
              "model_id": "80a53c6eb39448ae95cba3a3a1a311ff"
            }
          },
          "metadata": {}
        },
        {
          "output_type": "display_data",
          "data": {
            "text/plain": [
              "config_sentence_transformers.json:   0%|          | 0.00/116 [00:00<?, ?B/s]"
            ],
            "application/vnd.jupyter.widget-view+json": {
              "version_major": 2,
              "version_minor": 0,
              "model_id": "60d8c7ce40b54c09928b2c1e7c633898"
            }
          },
          "metadata": {}
        },
        {
          "output_type": "display_data",
          "data": {
            "text/plain": [
              "README.md: 0.00B [00:00, ?B/s]"
            ],
            "application/vnd.jupyter.widget-view+json": {
              "version_major": 2,
              "version_minor": 0,
              "model_id": "783d6f98066c4aae89b0663ddf734da3"
            }
          },
          "metadata": {}
        },
        {
          "output_type": "display_data",
          "data": {
            "text/plain": [
              "sentence_bert_config.json:   0%|          | 0.00/53.0 [00:00<?, ?B/s]"
            ],
            "application/vnd.jupyter.widget-view+json": {
              "version_major": 2,
              "version_minor": 0,
              "model_id": "0e7ebf88b3154657901ff51e587014d2"
            }
          },
          "metadata": {}
        },
        {
          "output_type": "display_data",
          "data": {
            "text/plain": [
              "config.json:   0%|          | 0.00/612 [00:00<?, ?B/s]"
            ],
            "application/vnd.jupyter.widget-view+json": {
              "version_major": 2,
              "version_minor": 0,
              "model_id": "a5f25639a8694e6d98d64ed74867b90d"
            }
          },
          "metadata": {}
        },
        {
          "output_type": "display_data",
          "data": {
            "text/plain": [
              "model.safetensors:   0%|          | 0.00/90.9M [00:00<?, ?B/s]"
            ],
            "application/vnd.jupyter.widget-view+json": {
              "version_major": 2,
              "version_minor": 0,
              "model_id": "e6aca431919d45e48cddc5a89a143b5d"
            }
          },
          "metadata": {}
        },
        {
          "output_type": "display_data",
          "data": {
            "text/plain": [
              "tokenizer_config.json:   0%|          | 0.00/350 [00:00<?, ?B/s]"
            ],
            "application/vnd.jupyter.widget-view+json": {
              "version_major": 2,
              "version_minor": 0,
              "model_id": "e8db95b9a40a4050815ec7782e5d807b"
            }
          },
          "metadata": {}
        },
        {
          "output_type": "display_data",
          "data": {
            "text/plain": [
              "vocab.txt: 0.00B [00:00, ?B/s]"
            ],
            "application/vnd.jupyter.widget-view+json": {
              "version_major": 2,
              "version_minor": 0,
              "model_id": "2716a4f0c0f5492ea38bb18c6f7edd70"
            }
          },
          "metadata": {}
        },
        {
          "output_type": "display_data",
          "data": {
            "text/plain": [
              "tokenizer.json: 0.00B [00:00, ?B/s]"
            ],
            "application/vnd.jupyter.widget-view+json": {
              "version_major": 2,
              "version_minor": 0,
              "model_id": "aaaa23b87dc34180b0f3d4faeec69a90"
            }
          },
          "metadata": {}
        },
        {
          "output_type": "display_data",
          "data": {
            "text/plain": [
              "special_tokens_map.json:   0%|          | 0.00/112 [00:00<?, ?B/s]"
            ],
            "application/vnd.jupyter.widget-view+json": {
              "version_major": 2,
              "version_minor": 0,
              "model_id": "6853b29ce0e4490a80f39b418b968a2c"
            }
          },
          "metadata": {}
        },
        {
          "output_type": "display_data",
          "data": {
            "text/plain": [
              "config.json:   0%|          | 0.00/190 [00:00<?, ?B/s]"
            ],
            "application/vnd.jupyter.widget-view+json": {
              "version_major": 2,
              "version_minor": 0,
              "model_id": "faf0c9300988480e9fd2c8515328151b"
            }
          },
          "metadata": {}
        }
      ]
    },
    {
      "cell_type": "markdown",
      "source": [
        "# **Model Development**"
      ],
      "metadata": {
        "id": "mQNibOGLosvy"
      }
    },
    {
      "cell_type": "code",
      "source": [
        "!pip install llama-cpp-python"
      ],
      "metadata": {
        "colab": {
          "base_uri": "https://localhost:8080/"
        },
        "id": "segHUSyOF5UX",
        "outputId": "2bbdcc4b-9e35-4961-89bb-1841c71a6ad2",
        "collapsed": true
      },
      "execution_count": null,
      "outputs": [
        {
          "output_type": "stream",
          "name": "stdout",
          "text": [
            "Collecting llama-cpp-python\n",
            "  Downloading llama_cpp_python-0.3.16.tar.gz (50.7 MB)\n",
            "\u001b[2K     \u001b[90m━━━━━━━━━━━━━━━━━━━━━━━━━━━━━━━━━━━━━━━━\u001b[0m \u001b[32m50.7/50.7 MB\u001b[0m \u001b[31m5.6 MB/s\u001b[0m eta \u001b[36m0:00:00\u001b[0m\n",
            "\u001b[?25h  Installing build dependencies ... \u001b[?25l\u001b[?25hdone\n",
            "  Getting requirements to build wheel ... \u001b[?25l\u001b[?25hdone\n",
            "  Installing backend dependencies ... \u001b[?25l\u001b[?25hdone\n",
            "  Preparing metadata (pyproject.toml) ... \u001b[?25l\u001b[?25hdone\n",
            "Requirement already satisfied: typing-extensions>=4.5.0 in /usr/local/lib/python3.12/dist-packages (from llama-cpp-python) (4.15.0)\n",
            "Requirement already satisfied: numpy>=1.20.0 in /usr/local/lib/python3.12/dist-packages (from llama-cpp-python) (2.0.2)\n",
            "Collecting diskcache>=5.6.1 (from llama-cpp-python)\n",
            "  Downloading diskcache-5.6.3-py3-none-any.whl.metadata (20 kB)\n",
            "Requirement already satisfied: jinja2>=2.11.3 in /usr/local/lib/python3.12/dist-packages (from llama-cpp-python) (3.1.6)\n",
            "Requirement already satisfied: MarkupSafe>=2.0 in /usr/local/lib/python3.12/dist-packages (from jinja2>=2.11.3->llama-cpp-python) (3.0.2)\n",
            "Downloading diskcache-5.6.3-py3-none-any.whl (45 kB)\n",
            "\u001b[2K   \u001b[90m━━━━━━━━━━━━━━━━━━━━━━━━━━━━━━━━━━━━━━━━\u001b[0m \u001b[32m45.5/45.5 kB\u001b[0m \u001b[31m3.3 MB/s\u001b[0m eta \u001b[36m0:00:00\u001b[0m\n",
            "\u001b[?25hBuilding wheels for collected packages: llama-cpp-python\n",
            "  Building wheel for llama-cpp-python (pyproject.toml) ... \u001b[?25l\u001b[?25hdone\n",
            "  Created wheel for llama-cpp-python: filename=llama_cpp_python-0.3.16-cp312-cp312-linux_x86_64.whl size=4422319 sha256=e2e1f1c209001892348cf5bda3746afe3186dcd31b3f4c3b3bd862ae0b59e862\n",
            "  Stored in directory: /root/.cache/pip/wheels/90/82/ab/8784ee3fb99ddb07fd36a679ddbe63122cc07718f6c1eb3be8\n",
            "Successfully built llama-cpp-python\n",
            "Installing collected packages: diskcache, llama-cpp-python\n",
            "Successfully installed diskcache-5.6.3 llama-cpp-python-0.3.16\n"
          ]
        }
      ]
    },
    {
      "cell_type": "code",
      "source": [
        "import os\n",
        "from llama_cpp import Llama\n",
        "from huggingface_hub import hf_hub_download\n",
        "\n",
        "\n",
        "repo_id = \"Qwen/Qwen1.5-7B-Chat-GGUF\"\n",
        "filename = \"qwen1_5-7b-chat-q4_k_m.gguf\" # This is a common quantized GGUF file.\n",
        "\n",
        "\n",
        "try:\n",
        "    model_path = hf_hub_download(repo_id=repo_id, filename=filename)\n",
        "    print(f\"Model downloaded successfully to: {model_path}\")\n",
        "\n",
        "    # Used the correct path to load the model with llama-cpp-python\n",
        "    llm = Llama(model_path=model_path, n_gpu_layers=-1)\n",
        "    print(\"Model loaded successfully!\")\n",
        "\n",
        "except Exception as e:\n",
        "    print(f\"An error occurred during download or loading: {e}\")"
      ],
      "metadata": {
        "colab": {
          "base_uri": "https://localhost:8080/",
          "height": 1000,
          "referenced_widgets": [
            "093e46474fb0487992dc61e147d479be",
            "cd88db0409af440699fcbdfa4e39f378",
            "97834052aee240349c2978cf2feed496",
            "574cfed48dc444cebf68cb8ef8395d0e",
            "be4e5ec95ae04878905a5d26ffc9aa4c",
            "d72aa2b136e441fa887c5f328ec58976",
            "ee43bc31344243cd94fce7ac3d649659",
            "7caa3843666342799265ab8cc6f83018",
            "fc05dcb1fa3543a6836c142fca763452",
            "2ff0c02bcf6e4c909b5fbcb13e77fed3",
            "6dd6bb919daa4fff947135016814fe67"
          ]
        },
        "id": "ZtMThFWXGB7M",
        "outputId": "7d0d4491-3147-46ed-fc75-34fe9554af84"
      },
      "execution_count": null,
      "outputs": [
        {
          "output_type": "display_data",
          "data": {
            "text/plain": [
              "qwen1_5-7b-chat-q4_k_m.gguf:   0%|          | 0.00/4.77G [00:00<?, ?B/s]"
            ],
            "application/vnd.jupyter.widget-view+json": {
              "version_major": 2,
              "version_minor": 0,
              "model_id": "093e46474fb0487992dc61e147d479be"
            }
          },
          "metadata": {}
        },
        {
          "output_type": "stream",
          "name": "stderr",
          "text": [
            "llama_model_loader: loaded meta data with 21 key-value pairs and 387 tensors from /root/.cache/huggingface/hub/models--Qwen--Qwen1.5-7B-Chat-GGUF/snapshots/79b781af68a192ee2ec43cded6c3b5448a70df66/qwen1_5-7b-chat-q4_k_m.gguf (version GGUF V3 (latest))\n",
            "llama_model_loader: Dumping metadata keys/values. Note: KV overrides do not apply in this output.\n",
            "llama_model_loader: - kv   0:                       general.architecture str              = qwen2\n",
            "llama_model_loader: - kv   1:                               general.name str              = Qwen1.5-7B-Chat-AWQ-fp16\n",
            "llama_model_loader: - kv   2:                          qwen2.block_count u32              = 32\n",
            "llama_model_loader: - kv   3:                       qwen2.context_length u32              = 32768\n",
            "llama_model_loader: - kv   4:                     qwen2.embedding_length u32              = 4096\n",
            "llama_model_loader: - kv   5:                  qwen2.feed_forward_length u32              = 11008\n",
            "llama_model_loader: - kv   6:                 qwen2.attention.head_count u32              = 32\n",
            "llama_model_loader: - kv   7:              qwen2.attention.head_count_kv u32              = 32\n",
            "llama_model_loader: - kv   8:     qwen2.attention.layer_norm_rms_epsilon f32              = 0.000001\n",
            "llama_model_loader: - kv   9:                       qwen2.rope.freq_base f32              = 1000000.000000\n",
            "llama_model_loader: - kv  10:                qwen2.use_parallel_residual bool             = true\n",
            "llama_model_loader: - kv  11:                       tokenizer.ggml.model str              = gpt2\n",
            "llama_model_loader: - kv  12:                      tokenizer.ggml.tokens arr[str,151936]  = [\"!\", \"\\\"\", \"#\", \"$\", \"%\", \"&\", \"'\", ...\n",
            "llama_model_loader: - kv  13:                  tokenizer.ggml.token_type arr[i32,151936]  = [1, 1, 1, 1, 1, 1, 1, 1, 1, 1, 1, 1, ...\n"
          ]
        },
        {
          "output_type": "stream",
          "name": "stdout",
          "text": [
            "Model downloaded successfully to: /root/.cache/huggingface/hub/models--Qwen--Qwen1.5-7B-Chat-GGUF/snapshots/79b781af68a192ee2ec43cded6c3b5448a70df66/qwen1_5-7b-chat-q4_k_m.gguf\n"
          ]
        },
        {
          "output_type": "stream",
          "name": "stderr",
          "text": [
            "llama_model_loader: - kv  14:                      tokenizer.ggml.merges arr[str,151387]  = [\"Ġ Ġ\", \"ĠĠ ĠĠ\", \"i n\", \"Ġ t\",...\n",
            "llama_model_loader: - kv  15:                tokenizer.ggml.eos_token_id u32              = 151645\n",
            "llama_model_loader: - kv  16:            tokenizer.ggml.padding_token_id u32              = 151643\n",
            "llama_model_loader: - kv  17:                tokenizer.ggml.bos_token_id u32              = 151643\n",
            "llama_model_loader: - kv  18:                    tokenizer.chat_template str              = {% for message in messages %}{{'<|im_...\n",
            "llama_model_loader: - kv  19:               general.quantization_version u32              = 2\n",
            "llama_model_loader: - kv  20:                          general.file_type u32              = 15\n",
            "llama_model_loader: - type  f32:  161 tensors\n",
            "llama_model_loader: - type q4_K:  193 tensors\n",
            "llama_model_loader: - type q6_K:   33 tensors\n",
            "print_info: file format = GGUF V3 (latest)\n",
            "print_info: file type   = Q4_K - Medium\n",
            "print_info: file size   = 4.43 GiB (4.93 BPW) \n",
            "load: missing pre-tokenizer type, using: 'default'\n",
            "load:                                             \n",
            "load: ************************************        \n",
            "load: GENERATION QUALITY WILL BE DEGRADED!        \n",
            "load: CONSIDER REGENERATING THE MODEL             \n",
            "load: ************************************        \n",
            "load:                                             \n",
            "init_tokenizer: initializing tokenizer for type 2\n",
            "load: control token: 151644 '<|im_start|>' is not marked as EOG\n",
            "load: printing all EOG tokens:\n",
            "load:   - 151643 ('<|endoftext|>')\n",
            "load:   - 151645 ('<|im_end|>')\n",
            "load: special tokens cache size = 293\n",
            "load: token to piece cache size = 0.9338 MB\n",
            "print_info: arch             = qwen2\n",
            "print_info: vocab_only       = 0\n",
            "print_info: n_ctx_train      = 32768\n",
            "print_info: n_embd           = 4096\n",
            "print_info: n_layer          = 32\n",
            "print_info: n_head           = 32\n",
            "print_info: n_head_kv        = 32\n",
            "print_info: n_rot            = 128\n",
            "print_info: n_swa            = 0\n",
            "print_info: is_swa_any       = 0\n",
            "print_info: n_embd_head_k    = 128\n",
            "print_info: n_embd_head_v    = 128\n",
            "print_info: n_gqa            = 1\n",
            "print_info: n_embd_k_gqa     = 4096\n",
            "print_info: n_embd_v_gqa     = 4096\n",
            "print_info: f_norm_eps       = 0.0e+00\n",
            "print_info: f_norm_rms_eps   = 1.0e-06\n",
            "print_info: f_clamp_kqv      = 0.0e+00\n",
            "print_info: f_max_alibi_bias = 0.0e+00\n",
            "print_info: f_logit_scale    = 0.0e+00\n",
            "print_info: f_attn_scale     = 0.0e+00\n",
            "print_info: n_ff             = 11008\n",
            "print_info: n_expert         = 0\n",
            "print_info: n_expert_used    = 0\n",
            "print_info: causal attn      = 1\n",
            "print_info: pooling type     = -1\n",
            "print_info: rope type        = 2\n",
            "print_info: rope scaling     = linear\n",
            "print_info: freq_base_train  = 1000000.0\n",
            "print_info: freq_scale_train = 1\n",
            "print_info: n_ctx_orig_yarn  = 32768\n",
            "print_info: rope_finetuned   = unknown\n",
            "print_info: model type       = 7B\n",
            "print_info: model params     = 7.72 B\n",
            "print_info: general.name     = Qwen1.5-7B-Chat-AWQ-fp16\n",
            "print_info: vocab type       = BPE\n",
            "print_info: n_vocab          = 151936\n",
            "print_info: n_merges         = 151387\n",
            "print_info: BOS token        = 151643 '<|endoftext|>'\n",
            "print_info: EOS token        = 151645 '<|im_end|>'\n",
            "print_info: EOT token        = 151645 '<|im_end|>'\n",
            "print_info: PAD token        = 151643 '<|endoftext|>'\n",
            "print_info: LF token         = 198 'Ċ'\n",
            "print_info: EOG token        = 151643 '<|endoftext|>'\n",
            "print_info: EOG token        = 151645 '<|im_end|>'\n",
            "print_info: max token length = 256\n",
            "load_tensors: loading model tensors, this can take a while... (mmap = true)\n",
            "load_tensors: layer   0 assigned to device CPU, is_swa = 0\n",
            "load_tensors: layer   1 assigned to device CPU, is_swa = 0\n",
            "load_tensors: layer   2 assigned to device CPU, is_swa = 0\n",
            "load_tensors: layer   3 assigned to device CPU, is_swa = 0\n",
            "load_tensors: layer   4 assigned to device CPU, is_swa = 0\n",
            "load_tensors: layer   5 assigned to device CPU, is_swa = 0\n",
            "load_tensors: layer   6 assigned to device CPU, is_swa = 0\n",
            "load_tensors: layer   7 assigned to device CPU, is_swa = 0\n",
            "load_tensors: layer   8 assigned to device CPU, is_swa = 0\n",
            "load_tensors: layer   9 assigned to device CPU, is_swa = 0\n",
            "load_tensors: layer  10 assigned to device CPU, is_swa = 0\n",
            "load_tensors: layer  11 assigned to device CPU, is_swa = 0\n",
            "load_tensors: layer  12 assigned to device CPU, is_swa = 0\n",
            "load_tensors: layer  13 assigned to device CPU, is_swa = 0\n",
            "load_tensors: layer  14 assigned to device CPU, is_swa = 0\n",
            "load_tensors: layer  15 assigned to device CPU, is_swa = 0\n",
            "load_tensors: layer  16 assigned to device CPU, is_swa = 0\n",
            "load_tensors: layer  17 assigned to device CPU, is_swa = 0\n",
            "load_tensors: layer  18 assigned to device CPU, is_swa = 0\n",
            "load_tensors: layer  19 assigned to device CPU, is_swa = 0\n",
            "load_tensors: layer  20 assigned to device CPU, is_swa = 0\n",
            "load_tensors: layer  21 assigned to device CPU, is_swa = 0\n",
            "load_tensors: layer  22 assigned to device CPU, is_swa = 0\n",
            "load_tensors: layer  23 assigned to device CPU, is_swa = 0\n",
            "load_tensors: layer  24 assigned to device CPU, is_swa = 0\n",
            "load_tensors: layer  25 assigned to device CPU, is_swa = 0\n",
            "load_tensors: layer  26 assigned to device CPU, is_swa = 0\n",
            "load_tensors: layer  27 assigned to device CPU, is_swa = 0\n",
            "load_tensors: layer  28 assigned to device CPU, is_swa = 0\n",
            "load_tensors: layer  29 assigned to device CPU, is_swa = 0\n",
            "load_tensors: layer  30 assigned to device CPU, is_swa = 0\n",
            "load_tensors: layer  31 assigned to device CPU, is_swa = 0\n",
            "load_tensors: layer  32 assigned to device CPU, is_swa = 0\n",
            "load_tensors: tensor 'token_embd.weight' (q4_K) (and 194 others) cannot be used with preferred buffer type CPU_REPACK, using CPU instead\n",
            "load_tensors:   CPU_REPACK model buffer size =  2943.00 MiB\n",
            "load_tensors:   CPU_Mapped model buffer size =  4540.59 MiB\n",
            "repack: repack tensor blk.0.attn_q.weight with q4_K_8x8\n",
            "repack: repack tensor blk.0.attn_k.weight with q4_K_8x8\n",
            "repack: repack tensor blk.0.attn_output.weight with q4_K_8x8\n",
            "repack: repack tensor blk.0.ffn_gate.weight with q4_K_8x8\n",
            ".repack: repack tensor blk.0.ffn_up.weight with q4_K_8x8\n",
            "repack: repack tensor blk.1.attn_q.weight with q4_K_8x8\n",
            "repack: repack tensor blk.1.attn_k.weight with q4_K_8x8\n",
            ".repack: repack tensor blk.1.attn_output.weight with q4_K_8x8\n",
            "repack: repack tensor blk.1.ffn_gate.weight with q4_K_8x8\n",
            "repack: repack tensor blk.1.ffn_up.weight with q4_K_8x8\n",
            ".repack: repack tensor blk.2.attn_q.weight with q4_K_8x8\n",
            "repack: repack tensor blk.2.attn_k.weight with q4_K_8x8\n",
            "repack: repack tensor blk.2.attn_output.weight with q4_K_8x8\n",
            "repack: repack tensor blk.2.ffn_gate.weight with q4_K_8x8\n",
            ".repack: repack tensor blk.2.ffn_up.weight with q4_K_8x8\n",
            "repack: repack tensor blk.3.attn_q.weight with q4_K_8x8\n",
            ".repack: repack tensor blk.3.attn_k.weight with q4_K_8x8\n",
            "repack: repack tensor blk.3.attn_output.weight with q4_K_8x8\n",
            "repack: repack tensor blk.3.ffn_gate.weight with q4_K_8x8\n",
            ".repack: repack tensor blk.3.ffn_down.weight with q4_K_8x8\n",
            "repack: repack tensor blk.3.ffn_up.weight with q4_K_8x8\n",
            ".repack: repack tensor blk.4.attn_q.weight with q4_K_8x8\n",
            "repack: repack tensor blk.4.attn_k.weight with q4_K_8x8\n",
            "repack: repack tensor blk.4.attn_v.weight with q4_K_8x8\n",
            "repack: repack tensor blk.4.attn_output.weight with q4_K_8x8\n",
            "repack: repack tensor blk.4.ffn_gate.weight with q4_K_8x8\n",
            ".repack: repack tensor blk.4.ffn_up.weight with q4_K_8x8\n",
            ".repack: repack tensor blk.5.attn_q.weight with q4_K_8x8\n",
            "repack: repack tensor blk.5.attn_k.weight with q4_K_8x8\n",
            "repack: repack tensor blk.5.attn_v.weight with q4_K_8x8\n",
            "repack: repack tensor blk.5.attn_output.weight with q4_K_8x8\n",
            "repack: repack tensor blk.5.ffn_gate.weight with q4_K_8x8\n",
            ".repack: repack tensor blk.5.ffn_down.weight with q4_K_8x8\n",
            "repack: repack tensor blk.5.ffn_up.weight with q4_K_8x8\n",
            ".repack: repack tensor blk.6.attn_q.weight with q4_K_8x8\n",
            "repack: repack tensor blk.6.attn_k.weight with q4_K_8x8\n",
            "repack: repack tensor blk.6.attn_output.weight with q4_K_8x8\n",
            ".repack: repack tensor blk.6.ffn_gate.weight with q4_K_8x8\n",
            "repack: repack tensor blk.6.ffn_down.weight with q4_K_8x8\n",
            ".repack: repack tensor blk.6.ffn_up.weight with q4_K_8x8\n",
            "repack: repack tensor blk.7.attn_q.weight with q4_K_8x8\n",
            "repack: repack tensor blk.7.attn_k.weight with q4_K_8x8\n",
            ".repack: repack tensor blk.7.attn_v.weight with q4_K_8x8\n",
            "repack: repack tensor blk.7.attn_output.weight with q4_K_8x8\n",
            "repack: repack tensor blk.7.ffn_gate.weight with q4_K_8x8\n",
            "repack: repack tensor blk.7.ffn_up.weight with q4_K_8x8\n",
            ".repack: repack tensor blk.8.attn_q.weight with q4_K_8x8\n",
            "repack: repack tensor blk.8.attn_k.weight with q4_K_8x8\n",
            "repack: repack tensor blk.8.attn_v.weight with q4_K_8x8\n",
            ".repack: repack tensor blk.8.attn_output.weight with q4_K_8x8\n",
            "repack: repack tensor blk.8.ffn_gate.weight with q4_K_8x8\n",
            "repack: repack tensor blk.8.ffn_down.weight with q4_K_8x8\n",
            ".repack: repack tensor blk.8.ffn_up.weight with q4_K_8x8\n",
            "repack: repack tensor blk.9.attn_q.weight with q4_K_8x8\n",
            ".repack: repack tensor blk.9.attn_k.weight with q4_K_8x8\n",
            "repack: repack tensor blk.9.attn_output.weight with q4_K_8x8\n",
            "repack: repack tensor blk.9.ffn_gate.weight with q4_K_8x8\n",
            "repack: repack tensor blk.9.ffn_down.weight with q4_K_8x8\n",
            ".repack: repack tensor blk.9.ffn_up.weight with q4_K_8x8\n",
            ".repack: repack tensor blk.10.attn_q.weight with q4_K_8x8\n",
            "repack: repack tensor blk.10.attn_k.weight with q4_K_8x8\n",
            "repack: repack tensor blk.10.attn_output.weight with q4_K_8x8\n",
            "repack: repack tensor blk.10.ffn_gate.weight with q4_K_8x8\n",
            ".repack: repack tensor blk.10.ffn_up.weight with q4_K_8x8\n",
            "repack: repack tensor blk.11.attn_q.weight with q4_K_8x8\n",
            "repack: repack tensor blk.11.attn_k.weight with q4_K_8x8\n",
            ".repack: repack tensor blk.11.attn_output.weight with q4_K_8x8\n",
            "repack: repack tensor blk.11.ffn_gate.weight with q4_K_8x8\n",
            "repack: repack tensor blk.11.ffn_up.weight with q4_K_8x8\n",
            ".repack: repack tensor blk.12.attn_q.weight with q4_K_8x8\n",
            "repack: repack tensor blk.12.attn_k.weight with q4_K_8x8\n",
            "repack: repack tensor blk.12.attn_v.weight with q4_K_8x8\n",
            "repack: repack tensor blk.12.attn_output.weight with q4_K_8x8\n",
            ".repack: repack tensor blk.12.ffn_gate.weight with q4_K_8x8\n",
            "repack: repack tensor blk.12.ffn_down.weight with q4_K_8x8\n",
            ".repack: repack tensor blk.12.ffn_up.weight with q4_K_8x8\n",
            "repack: repack tensor blk.13.attn_q.weight with q4_K_8x8\n",
            "repack: repack tensor blk.13.attn_k.weight with q4_K_8x8\n",
            ".repack: repack tensor blk.13.attn_v.weight with q4_K_8x8\n",
            "repack: repack tensor blk.13.attn_output.weight with q4_K_8x8\n",
            "repack: repack tensor blk.13.ffn_gate.weight with q4_K_8x8\n",
            ".repack: repack tensor blk.13.ffn_down.weight with q4_K_8x8\n",
            "repack: repack tensor blk.13.ffn_up.weight with q4_K_8x8\n",
            ".repack: repack tensor blk.14.attn_q.weight with q4_K_8x8\n",
            "repack: repack tensor blk.14.attn_k.weight with q4_K_8x8\n",
            "repack: repack tensor blk.14.attn_output.weight with q4_K_8x8\n",
            "repack: repack tensor blk.14.ffn_gate.weight with q4_K_8x8\n",
            ".repack: repack tensor blk.14.ffn_up.weight with q4_K_8x8\n",
            "repack: repack tensor blk.15.attn_q.weight with q4_K_8x8\n",
            ".repack: repack tensor blk.15.attn_k.weight with q4_K_8x8\n",
            "repack: repack tensor blk.15.attn_v.weight with q4_K_8x8\n",
            "repack: repack tensor blk.15.attn_output.weight with q4_K_8x8\n",
            "repack: repack tensor blk.15.ffn_gate.weight with q4_K_8x8\n",
            ".repack: repack tensor blk.15.ffn_down.weight with q4_K_8x8\n",
            "repack: repack tensor blk.15.ffn_up.weight with q4_K_8x8\n",
            ".repack: repack tensor blk.16.attn_q.weight with q4_K_8x8\n",
            "repack: repack tensor blk.16.attn_k.weight with q4_K_8x8\n",
            "repack: repack tensor blk.16.attn_v.weight with q4_K_8x8\n",
            "repack: repack tensor blk.16.attn_output.weight with q4_K_8x8\n",
            ".repack: repack tensor blk.16.ffn_gate.weight with q4_K_8x8\n",
            "repack: repack tensor blk.16.ffn_down.weight with q4_K_8x8\n",
            ".repack: repack tensor blk.16.ffn_up.weight with q4_K_8x8\n",
            "repack: repack tensor blk.17.attn_q.weight with q4_K_8x8\n",
            "repack: repack tensor blk.17.attn_k.weight with q4_K_8x8\n",
            "repack: repack tensor blk.17.attn_output.weight with q4_K_8x8\n",
            ".repack: repack tensor blk.17.ffn_gate.weight with q4_K_8x8\n",
            "repack: repack tensor blk.17.ffn_up.weight with q4_K_8x8\n",
            ".repack: repack tensor blk.18.attn_q.weight with q4_K_8x8\n",
            "repack: repack tensor blk.18.attn_k.weight with q4_K_8x8\n",
            "repack: repack tensor blk.18.attn_v.weight with q4_K_8x8\n",
            "repack: repack tensor blk.18.attn_output.weight with q4_K_8x8\n",
            ".repack: repack tensor blk.18.ffn_gate.weight with q4_K_8x8\n",
            "repack: repack tensor blk.18.ffn_down.weight with q4_K_8x8\n",
            ".repack: repack tensor blk.18.ffn_up.weight with q4_K_8x8\n",
            "repack: repack tensor blk.19.attn_q.weight with q4_K_8x8\n",
            "repack: repack tensor blk.19.attn_k.weight with q4_K_8x8\n",
            ".repack: repack tensor blk.19.attn_v.weight with q4_K_8x8\n",
            "repack: repack tensor blk.19.attn_output.weight with q4_K_8x8\n",
            "repack: repack tensor blk.19.ffn_gate.weight with q4_K_8x8\n",
            "repack: repack tensor blk.19.ffn_down.weight with q4_K_8x8\n",
            ".repack: repack tensor blk.19.ffn_up.weight with q4_K_8x8\n",
            ".repack: repack tensor blk.20.attn_q.weight with q4_K_8x8\n",
            "repack: repack tensor blk.20.attn_k.weight with q4_K_8x8\n",
            "repack: repack tensor blk.20.attn_v.weight with q4_K_8x8\n",
            "repack: repack tensor blk.20.attn_output.weight with q4_K_8x8\n",
            "repack: repack tensor blk.20.ffn_gate.weight with q4_K_8x8\n",
            ".repack: repack tensor blk.20.ffn_down.weight with q4_K_8x8\n",
            "repack: repack tensor blk.20.ffn_up.weight with q4_K_8x8\n",
            ".repack: repack tensor blk.21.attn_q.weight with q4_K_8x8\n",
            "repack: repack tensor blk.21.attn_k.weight with q4_K_8x8\n",
            "repack: repack tensor blk.21.attn_v.weight with q4_K_8x8\n",
            ".repack: repack tensor blk.21.attn_output.weight with q4_K_8x8\n",
            "repack: repack tensor blk.21.ffn_gate.weight with q4_K_8x8\n",
            "repack: repack tensor blk.21.ffn_up.weight with q4_K_8x8\n",
            ".repack: repack tensor blk.22.attn_q.weight with q4_K_8x8\n",
            "repack: repack tensor blk.22.attn_k.weight with q4_K_8x8\n",
            "repack: repack tensor blk.22.attn_v.weight with q4_K_8x8\n",
            "repack: repack tensor blk.22.attn_output.weight with q4_K_8x8\n",
            ".repack: repack tensor blk.22.ffn_gate.weight with q4_K_8x8\n",
            "repack: repack tensor blk.22.ffn_down.weight with q4_K_8x8\n",
            ".repack: repack tensor blk.22.ffn_up.weight with q4_K_8x8\n",
            "repack: repack tensor blk.23.attn_q.weight with q4_K_8x8\n",
            "repack: repack tensor blk.23.attn_k.weight with q4_K_8x8\n",
            ".repack: repack tensor blk.23.attn_v.weight with q4_K_8x8\n",
            "repack: repack tensor blk.23.attn_output.weight with q4_K_8x8\n",
            "repack: repack tensor blk.23.ffn_gate.weight with q4_K_8x8\n",
            ".repack: repack tensor blk.23.ffn_down.weight with q4_K_8x8\n",
            "repack: repack tensor blk.23.ffn_up.weight with q4_K_8x8\n",
            ".repack: repack tensor blk.24.attn_q.weight with q4_K_8x8\n",
            "repack: repack tensor blk.24.attn_k.weight with q4_K_8x8\n",
            "repack: repack tensor blk.24.attn_output.weight with q4_K_8x8\n",
            "repack: repack tensor blk.24.ffn_gate.weight with q4_K_8x8\n",
            ".repack: repack tensor blk.24.ffn_up.weight with q4_K_8x8\n",
            "repack: repack tensor blk.25.attn_q.weight with q4_K_8x8\n",
            "repack: repack tensor blk.25.attn_k.weight with q4_K_8x8\n",
            ".repack: repack tensor blk.25.attn_v.weight with q4_K_8x8\n",
            "repack: repack tensor blk.25.attn_output.weight with q4_K_8x8\n",
            "repack: repack tensor blk.25.ffn_gate.weight with q4_K_8x8\n",
            ".repack: repack tensor blk.25.ffn_down.weight with q4_K_8x8\n",
            "repack: repack tensor blk.25.ffn_up.weight with q4_K_8x8\n",
            ".repack: repack tensor blk.26.attn_q.weight with q4_K_8x8\n",
            "repack: repack tensor blk.26.attn_k.weight with q4_K_8x8\n",
            "repack: repack tensor blk.26.attn_v.weight with q4_K_8x8\n",
            "repack: repack tensor blk.26.attn_output.weight with q4_K_8x8\n",
            "repack: repack tensor blk.26.ffn_gate.weight with q4_K_8x8\n",
            ".repack: repack tensor blk.26.ffn_down.weight with q4_K_8x8\n",
            "repack: repack tensor blk.26.ffn_up.weight with q4_K_8x8\n",
            ".repack: repack tensor blk.27.attn_q.weight with q4_K_8x8\n",
            "repack: repack tensor blk.27.attn_k.weight with q4_K_8x8\n",
            "repack: repack tensor blk.27.attn_output.weight with q4_K_8x8\n",
            ".repack: repack tensor blk.27.ffn_gate.weight with q4_K_8x8\n",
            "repack: repack tensor blk.27.ffn_up.weight with q4_K_8x8\n",
            ".repack: repack tensor blk.28.attn_q.weight with q4_K_8x8\n",
            "repack: repack tensor blk.28.attn_k.weight with q4_K_8x8\n",
            "repack: repack tensor blk.28.attn_output.weight with q4_K_8x8\n",
            "repack: repack tensor blk.28.ffn_gate.weight with q4_K_8x8\n",
            ".repack: repack tensor blk.28.ffn_up.weight with q4_K_8x8\n",
            "repack: repack tensor blk.29.attn_q.weight with q4_K_8x8\n",
            ".repack: repack tensor blk.29.attn_k.weight with q4_K_8x8\n",
            "repack: repack tensor blk.29.attn_output.weight with q4_K_8x8\n",
            "repack: repack tensor blk.29.ffn_gate.weight with q4_K_8x8\n",
            "repack: repack tensor blk.29.ffn_up.weight with q4_K_8x8\n",
            ".repack: repack tensor blk.30.attn_q.weight with q4_K_8x8\n",
            "repack: repack tensor blk.30.attn_k.weight with q4_K_8x8\n",
            "repack: repack tensor blk.30.attn_output.weight with q4_K_8x8\n",
            ".repack: repack tensor blk.30.ffn_gate.weight with q4_K_8x8\n",
            "repack: repack tensor blk.30.ffn_up.weight with q4_K_8x8\n",
            ".repack: repack tensor blk.31.attn_q.weight with q4_K_8x8\n",
            "repack: repack tensor blk.31.attn_k.weight with q4_K_8x8\n",
            "repack: repack tensor blk.31.attn_output.weight with q4_K_8x8\n",
            "repack: repack tensor blk.31.ffn_gate.weight with q4_K_8x8\n",
            ".repack: repack tensor blk.31.ffn_up.weight with q4_K_8x8\n",
            "....................\n",
            "llama_context: constructing llama_context\n",
            "llama_context: n_seq_max     = 1\n",
            "llama_context: n_ctx         = 512\n",
            "llama_context: n_ctx_per_seq = 512\n",
            "llama_context: n_batch       = 512\n",
            "llama_context: n_ubatch      = 512\n",
            "llama_context: causal_attn   = 1\n",
            "llama_context: flash_attn    = 0\n",
            "llama_context: kv_unified    = false\n",
            "llama_context: freq_base     = 1000000.0\n",
            "llama_context: freq_scale    = 1\n",
            "llama_context: n_ctx_per_seq (512) < n_ctx_train (32768) -- the full capacity of the model will not be utilized\n",
            "set_abort_callback: call\n",
            "llama_context:        CPU  output buffer size =     0.58 MiB\n",
            "create_memory: n_ctx = 512 (padded)\n",
            "llama_kv_cache_unified: layer   0: dev = CPU\n",
            "llama_kv_cache_unified: layer   1: dev = CPU\n",
            "llama_kv_cache_unified: layer   2: dev = CPU\n",
            "llama_kv_cache_unified: layer   3: dev = CPU\n",
            "llama_kv_cache_unified: layer   4: dev = CPU\n",
            "llama_kv_cache_unified: layer   5: dev = CPU\n",
            "llama_kv_cache_unified: layer   6: dev = CPU\n",
            "llama_kv_cache_unified: layer   7: dev = CPU\n",
            "llama_kv_cache_unified: layer   8: dev = CPU\n",
            "llama_kv_cache_unified: layer   9: dev = CPU\n",
            "llama_kv_cache_unified: layer  10: dev = CPU\n",
            "llama_kv_cache_unified: layer  11: dev = CPU\n",
            "llama_kv_cache_unified: layer  12: dev = CPU\n",
            "llama_kv_cache_unified: layer  13: dev = CPU\n",
            "llama_kv_cache_unified: layer  14: dev = CPU\n",
            "llama_kv_cache_unified: layer  15: dev = CPU\n",
            "llama_kv_cache_unified: layer  16: dev = CPU\n",
            "llama_kv_cache_unified: layer  17: dev = CPU\n",
            "llama_kv_cache_unified: layer  18: dev = CPU\n",
            "llama_kv_cache_unified: layer  19: dev = CPU\n",
            "llama_kv_cache_unified: layer  20: dev = CPU\n",
            "llama_kv_cache_unified: layer  21: dev = CPU\n",
            "llama_kv_cache_unified: layer  22: dev = CPU\n",
            "llama_kv_cache_unified: layer  23: dev = CPU\n",
            "llama_kv_cache_unified: layer  24: dev = CPU\n",
            "llama_kv_cache_unified: layer  25: dev = CPU\n",
            "llama_kv_cache_unified: layer  26: dev = CPU\n",
            "llama_kv_cache_unified: layer  27: dev = CPU\n",
            "llama_kv_cache_unified: layer  28: dev = CPU\n",
            "llama_kv_cache_unified: layer  29: dev = CPU\n",
            "llama_kv_cache_unified: layer  30: dev = CPU\n",
            "llama_kv_cache_unified: layer  31: dev = CPU\n",
            "llama_kv_cache_unified:        CPU KV buffer size =   256.00 MiB\n",
            "llama_kv_cache_unified: size =  256.00 MiB (   512 cells,  32 layers,  1/1 seqs), K (f16):  128.00 MiB, V (f16):  128.00 MiB\n",
            "llama_context: enumerating backends\n",
            "llama_context: backend_ptrs.size() = 1\n",
            "llama_context: max_nodes = 3096\n",
            "llama_context: worst-case: n_tokens = 512, n_seqs = 1, n_outputs = 0\n",
            "graph_reserve: reserving a graph for ubatch with n_tokens =  512, n_seqs =  1, n_outputs =  512\n",
            "graph_reserve: reserving a graph for ubatch with n_tokens =    1, n_seqs =  1, n_outputs =    1\n",
            "graph_reserve: reserving a graph for ubatch with n_tokens =  512, n_seqs =  1, n_outputs =  512\n",
            "llama_context:        CPU compute buffer size =   304.75 MiB\n",
            "llama_context: graph nodes  = 1222\n",
            "llama_context: graph splits = 1\n"
          ]
        },
        {
          "output_type": "stream",
          "name": "stdout",
          "text": [
            "Model loaded successfully!\n"
          ]
        },
        {
          "output_type": "stream",
          "name": "stderr",
          "text": [
            "CPU : SSE3 = 1 | SSSE3 = 1 | AVX = 1 | AVX2 = 1 | F16C = 1 | FMA = 1 | BMI2 = 1 | LLAMAFILE = 1 | OPENMP = 1 | REPACK = 1 | \n",
            "Model metadata: {'general.file_type': '15', 'tokenizer.ggml.bos_token_id': '151643', 'general.architecture': 'qwen2', 'general.name': 'Qwen1.5-7B-Chat-AWQ-fp16', 'qwen2.block_count': '32', 'qwen2.context_length': '32768', 'tokenizer.chat_template': \"{% for message in messages %}{{'<|im_start|>' + message['role'] + '\\n' + message['content'] + '<|im_end|>' + '\\n'}}{% endfor %}{% if add_generation_prompt %}{{ '<|im_start|>assistant\\n' }}{% endif %}\", 'qwen2.attention.head_count_kv': '32', 'tokenizer.ggml.padding_token_id': '151643', 'qwen2.embedding_length': '4096', 'qwen2.attention.layer_norm_rms_epsilon': '0.000001', 'qwen2.attention.head_count': '32', 'tokenizer.ggml.eos_token_id': '151645', 'qwen2.rope.freq_base': '1000000.000000', 'qwen2.use_parallel_residual': 'true', 'general.quantization_version': '2', 'qwen2.feed_forward_length': '11008', 'tokenizer.ggml.model': 'gpt2'}\n",
            "Available chat formats from metadata: chat_template.default\n",
            "Guessed chat format: chatml\n"
          ]
        }
      ]
    },
    {
      "cell_type": "code",
      "source": [
        "def create_chat_prompt(review):\n",
        "    return [\n",
        "        {\"role\": \"system\", \"content\": \"You are a review moderation assistant. Your task is to classify Google location reviews into exactly ONE of the following categories: Advertisement, Spam, Not Related to F&B, or Valid Review. Do NOT explain your reasoning. If uncertain, choose the closest matching category. IMPORTANT: If the review's main topic is NOT about food, beverages, service, or atmosphere, classify it as 'Not Related to F&B', even if it mentions a restaurant or cafe.\"},\n",
        "        {\"role\": \"user\", \"content\": \"Review: \\\"The pizza was delicious and the staff were friendly.\\\"\\nOutput: Valid Review\"},\n",
        "        {\"role\": \"user\", \"content\": \"Review: \\\"Great place for a quick lunch. The menu had plenty of options.\\\"\\nOutput: Valid Review\"},\n",
        "        {\"role\": \"user\", \"content\": \"Review: \\\"The service was a bit slow, but the coffee made up for it.\\\"\\nOutput: Valid Review\"},\n",
        "        {\"role\": \"user\", \"content\": \"Review: \\\"None of us could stomach than a few bites. The beef tasted spoiled; the chicken tasteless (although smelled of teriyaki sauce). The cheese dip was not good. I do not understand the draw of this place.\\\"\\nOutput: Valid Review\"},\n",
        "        {\"role\": \"user\", \"content\": \"Review: \\\"50% OFF, visit my blog for more deals!\\\"\\nOutput: Advertisement\"},\n",
        "        {\"role\": \"user\", \"content\": \"Review: \\\"This app is terrible, don’t use it.\\\"\\nOutput: Spam\"},\n",
        "        {\"role\": \"user\", \"content\": \"Review: \\\"The movie theater had a great selection of snacks, but the main feature was terrible.\\\"\\nOutput: Not Related to F&B\"},\n",
        "        {\"role\": \"user\", \"content\": \"Review: \\\"I went rock climbing and it was so fun. It was near this restaurant.\\\"\\nOutput: Not Related to F&B\"},\n",
        "        {\"role\": \"user\", \"content\": \"Review: \\\"The dentist here is very caring and professional.\\\"\\nOutput: Not Related to F&B\"},\n",
        "        {\"role\": \"user\", \"content\": f\"Review: \\\"{review}\\\"\\nOutput:\"}\n",
        "    ]\n",
        "\n",
        "\n",
        "def classify_review(review):\n",
        "    messages = create_chat_prompt(review)\n",
        "    output = llm.create_chat_completion(\n",
        "        messages,\n",
        "        max_tokens=10,\n",
        "        temperature=0.0,\n",
        "        stop=[\"\\n\"]\n",
        "    )\n",
        "    generated_text = output['choices'][0]['message']['content'].strip()\n",
        "    return generated_text"
      ],
      "metadata": {
        "id": "UeWHrrQvTj3Z"
      },
      "execution_count": null,
      "outputs": []
    },
    {
      "cell_type": "code",
      "source": [
        "# Main function to process the entire dataframe\n",
        "def process_reviews(df):\n",
        "    # Apply spam rule first.\n",
        "    df = check_spam_rule(df)\n",
        "\n",
        "    # Use a mask to only classify reviews that are not already categorised as 'Spam'\n",
        "    mask = df['Category'] != 'Spam'\n",
        "    df.loc[mask, 'Category'] = df.loc[mask, 'review'].apply(classify_review)\n",
        "\n",
        "    # Get binary labels based on the final category\n",
        "    df['Binary'] = df['Category'].apply(get_binary_label)\n",
        "\n",
        "    # Calculate relevancy score ONLY for 'Valid Review' entries.\n",
        "    df['Relevancy'] = df.apply(\n",
        "        lambda row: get_relevancy_score(row['review'], row['categories'], row['attributes'])\n",
        "        if row['Category'] == \"Valid Review\" else None, axis=1\n",
        "    )\n",
        "\n",
        "    return df"
      ],
      "metadata": {
        "id": "SCYEU_yqcP9x"
      },
      "execution_count": null,
      "outputs": []
    },
    {
      "cell_type": "code",
      "source": [
        "# Create a random sample of 1 row that will pick a new, random row each time the code is run\n",
        "pd.set_option('display.max_colwidth', None)\n",
        "sample_df = unioned_df.sample(n=1)\n",
        "\n",
        "#Pass the smaller sample DataFrame into processing function\n",
        "processed_sample = process_reviews(sample_df)\n",
        "print(processed_sample.head())\n",
        "\n"
      ],
      "metadata": {
        "colab": {
          "base_uri": "https://localhost:8080/"
        },
        "id": "rfPdDg9eXatW",
        "outputId": "13b2043a-d0e7-48aa-a96b-76de9e6c8ae5"
      },
      "execution_count": null,
      "outputs": [
        {
          "output_type": "stream",
          "name": "stderr",
          "text": [
            "Llama.generate: 393 prefix-match hit, remaining 30 prompt tokens to eval\n",
            "llama_perf_context_print:        load time =  143452.61 ms\n",
            "llama_perf_context_print: prompt eval time =   16936.63 ms /    30 tokens (  564.55 ms per token,     1.77 tokens per second)\n",
            "llama_perf_context_print:        eval time =   14675.47 ms /     2 runs   ( 7337.74 ms per token,     0.14 tokens per second)\n",
            "llama_perf_context_print:       total time =   31626.22 ms /    32 tokens\n",
            "llama_perf_context_print:    graphs reused =          1\n"
          ]
        },
        {
          "output_type": "stream",
          "name": "stdout",
          "text": [
            "       business_name     city state  business_reviews_count  \\\n",
            "609897   Mission BBQ  Brandon    FL                   183.0   \n",
            "\n",
            "                                                                                                                                                                                                                                                                                                                                                                                                                                                                                                                                                                                                                                                                                                                                                                                                                                                                                                                                                                                                                                                                                                                                                                                                                                                     attributes  \\\n",
            "609897  {'OutdoorSeating': 'True', 'RestaurantsGoodForGroups': 'True', 'WiFi': 'u'free'', 'RestaurantsPriceRange2': '2', 'RestaurantsDelivery': 'True', 'RestaurantsAttire': 'u'casual'', 'BusinessAcceptsCreditCards': 'True', 'RestaurantsTakeOut': 'True', 'Caters': 'True', 'NoiseLevel': 'u'average'', 'Ambience': '{'touristy': False, 'hipster': False, 'romantic': False, 'divey': False, 'intimate': False, 'trendy': False, 'upscale': False, 'classy': False, 'casual': True}', 'GoodForKids': 'True', 'BusinessAcceptsBitcoin': None, 'BusinessParking': '{'garage': False, 'street': False, 'validated': False, 'lot': True, 'valet': False}', 'BikeParking': 'False', 'RestaurantsTableService': 'False', 'Alcohol': ''beer_and_wine'', 'RestaurantsReservations': 'False', 'GoodForMeal': '{'dessert': False, 'latenight': False, 'lunch': True, 'dinner': True, 'brunch': None, 'breakfast': False}', 'HasTV': 'True', 'WheelchairAccessible': None, 'BestNights': None, 'ByAppointmentOnly': None, 'GoodForDancing': None, 'HappyHour': None, 'Smoking': None, 'CoatCheck': None, 'Music': None, 'BYOB': None, 'DogsAllowed': 'False', 'DriveThru': None, 'Corkage': None, 'BYOBCorkage': None, 'AcceptsInsurance': None, 'AgesAllowed': None}   \n",
            "\n",
            "                                      categories             reviewer_id  \\\n",
            "609897  Restaurants, Barbeque, Sandwiches, Salad  Q3v_uAs4XdBG1Ly2sICoJg   \n",
            "\n",
            "       reviewer_name  reviewer_average_rating  reviewer_reviews_count  \\\n",
            "609897     Traveling                      4.0                     1.0   \n",
            "\n",
            "        business_rating_given  \\\n",
            "609897                      4   \n",
            "\n",
            "                                                                                                               review  \\\n",
            "609897  Yum, proteins and sauce selection delicious!!! The cornbread was surprisingly moist and great with my brisket   \n",
            "\n",
            "        repeated_review_count      Category  Binary  Relevancy  \n",
            "609897                    NaN  Valid Review       1       1.89  \n"
          ]
        }
      ]
    },
    {
      "cell_type": "markdown",
      "source": [
        "# **Testing**"
      ],
      "metadata": {
        "id": "-N3L_R5Iq9Sg"
      }
    },
    {
      "cell_type": "code",
      "source": [
        "# This code chuck tests an example of a review from the 'Not Related to F&B' Category\n",
        "test_data = {\n",
        "    'review': [\n",
        "        \"I want to go rock climbing today, the place is near this restaurant\"\n",
        "    ],\n",
        "    'repeated_review_count': [1], # This is not spam\n",
        "    'categories': ['Restaurants'],\n",
        "    'attributes': ['Takeout']\n",
        "}\n",
        "test_df = pd.DataFrame(test_data)\n",
        "processed_test_df = process_reviews(test_df)\n",
        "\n",
        "# Check the results\n",
        "print(processed_test_df[['review', 'Category', 'Binary', 'Relevancy']])"
      ],
      "metadata": {
        "colab": {
          "base_uri": "https://localhost:8080/"
        },
        "id": "yQRkYo-CgKTz",
        "outputId": "6f28c9db-7e08-4fbd-cd63-06e892217450"
      },
      "execution_count": null,
      "outputs": [
        {
          "output_type": "stream",
          "name": "stderr",
          "text": [
            "Llama.generate: 393 prefix-match hit, remaining 23 prompt tokens to eval\n",
            "llama_perf_context_print:        load time =  143452.61 ms\n",
            "llama_perf_context_print: prompt eval time =   13965.22 ms /    23 tokens (  607.18 ms per token,     1.65 tokens per second)\n",
            "llama_perf_context_print:        eval time =   42803.35 ms /     6 runs   ( 7133.89 ms per token,     0.14 tokens per second)\n",
            "llama_perf_context_print:       total time =   56799.83 ms /    29 tokens\n",
            "llama_perf_context_print:    graphs reused =          5\n"
          ]
        },
        {
          "output_type": "stream",
          "name": "stdout",
          "text": [
            "                                                                review  \\\n",
            "0  I want to go rock climbing today, the place is near this restaurant   \n",
            "\n",
            "             Category  Binary Relevancy  \n",
            "0  Not Related to F&B       0      None  \n"
          ]
        }
      ]
    },
    {
      "cell_type": "code",
      "source": [
        "# This code chuck tests an example of a review from the 'Advertisement' Category\n",
        "test_data = {\n",
        "    'review': [\n",
        "        \"This is an absolute game-changer! I can't believe I ever lived without the XYZ app.\"\n",
        "        \"It's so user-friendly and the features are incredible. Use my referral code 'XYZ2025' to get 10% off your first purchase!\"\n",
        "        \"Don't wait—this offer won't last forever. #XYZapp #bestappever\"\n",
        "    ],\n",
        "    'repeated_review_count': [1], # This is not spam\n",
        "    'categories': ['Restaurants'],\n",
        "    'attributes': ['Takeout']\n",
        "}\n",
        "test_df = pd.DataFrame(test_data)\n",
        "\n",
        "# Run full processing pipeline on the test DataFrame\n",
        "processed_test_df = process_reviews(test_df)\n",
        "\n",
        "# Check the results\n",
        "print(processed_test_df[['review', 'Category', 'Binary', 'Relevancy']])"
      ],
      "metadata": {
        "colab": {
          "base_uri": "https://localhost:8080/"
        },
        "id": "55Ln7rBqQb4p",
        "outputId": "df6578d8-f59c-443b-cba6-859a45280166"
      },
      "execution_count": null,
      "outputs": [
        {
          "output_type": "stream",
          "name": "stderr",
          "text": [
            "Llama.generate: 414 prefix-match hit, remaining 67 prompt tokens to eval\n",
            "llama_perf_context_print:        load time =  143452.61 ms\n",
            "llama_perf_context_print: prompt eval time =   27302.04 ms /    67 tokens (  407.49 ms per token,     2.45 tokens per second)\n",
            "llama_perf_context_print:        eval time =    7613.28 ms /     1 runs   ( 7613.28 ms per token,     0.13 tokens per second)\n",
            "llama_perf_context_print:       total time =   34925.18 ms /    68 tokens\n",
            "llama_perf_context_print:    graphs reused =          0\n"
          ]
        },
        {
          "output_type": "stream",
          "name": "stdout",
          "text": [
            "                                                                                                                                                                                                                                                                       review  \\\n",
            "0  This is an absolute game-changer! I can't believe I ever lived without the XYZ app.It's so user-friendly and the features are incredible. Use my referral code 'XYZ2025' to get 10% off your first purchase!Don't wait—this offer won't last forever. #XYZapp #bestappever   \n",
            "\n",
            "        Category  Binary Relevancy  \n",
            "0  Advertisement       0      None  \n"
          ]
        }
      ]
    },
    {
      "cell_type": "code",
      "source": [
        "# This code chuck tests an example of a review from the 'Spam' Category\n",
        "pd.set_option('display.max_colwidth', None)\n",
        "filtered_df = unioned_df[unioned_df['repeated_review_count'] > 5]\n",
        "sample_df = filtered_df.sample(n=2)\n",
        "processed_sample = process_reviews(sample_df)\n",
        "print(processed_sample.head(10))"
      ],
      "metadata": {
        "colab": {
          "base_uri": "https://localhost:8080/"
        },
        "id": "HsCXOxMhf_Kh",
        "outputId": "9537462c-12a7-4680-bd1d-ea23257556e1"
      },
      "execution_count": null,
      "outputs": [
        {
          "output_type": "stream",
          "name": "stdout",
          "text": [
            "                       business_name           city state  \\\n",
            "527337     Rudy's Mexican Restaurant  Santa Barbara    CA   \n",
            "959350  Uncle Roccos Famous NY Pizza  Santa Barbara    CA   \n",
            "\n",
            "        business_reviews_count  \\\n",
            "527337                   130.0   \n",
            "959350                   317.0   \n",
            "\n",
            "                                                                                                                                                                                                                                                                                                                                                                                                                                                                                                                                                                                                                                                                                                                                                                                                                                                                                                                                                                                                                                                                                                                                                                                                                                                      attributes  \\\n",
            "527337           {'OutdoorSeating': 'True', 'RestaurantsGoodForGroups': 'False', 'WiFi': ''no'', 'RestaurantsPriceRange2': '1', 'RestaurantsDelivery': 'True', 'RestaurantsAttire': 'u'casual'', 'BusinessAcceptsCreditCards': 'True', 'RestaurantsTakeOut': 'True', 'Caters': 'True', 'NoiseLevel': ''average'', 'Ambience': '{'romantic': False, 'intimate': False, 'classy': False, 'hipster': False, 'divey': False, 'touristy': False, 'trendy': False, 'upscale': False, 'casual': True}', 'GoodForKids': 'True', 'BusinessAcceptsBitcoin': None, 'BusinessParking': '{'garage': False, 'street': False, 'validated': False, 'lot': True, 'valet': False}', 'BikeParking': 'True', 'RestaurantsTableService': None, 'Alcohol': 'u'beer_and_wine'', 'RestaurantsReservations': 'False', 'GoodForMeal': '{'dessert': False, 'latenight': False, 'lunch': True, 'dinner': False, 'brunch': False, 'breakfast': True}', 'HasTV': 'True', 'WheelchairAccessible': None, 'BestNights': None, 'ByAppointmentOnly': None, 'GoodForDancing': None, 'HappyHour': None, 'Smoking': None, 'CoatCheck': None, 'Music': None, 'BYOB': None, 'DogsAllowed': None, 'DriveThru': None, 'Corkage': None, 'BYOBCorkage': None, 'AcceptsInsurance': None, 'AgesAllowed': None}   \n",
            "959350  {'OutdoorSeating': 'False', 'RestaurantsGoodForGroups': 'True', 'WiFi': 'u'no'', 'RestaurantsPriceRange2': '2', 'RestaurantsDelivery': 'True', 'RestaurantsAttire': ''casual'', 'BusinessAcceptsCreditCards': 'True', 'RestaurantsTakeOut': 'True', 'Caters': 'True', 'NoiseLevel': 'u'average'', 'Ambience': '{'touristy': False, 'hipster': False, 'romantic': False, 'divey': False, 'intimate': False, 'trendy': False, 'upscale': False, 'classy': False, 'casual': False}', 'GoodForKids': 'True', 'BusinessAcceptsBitcoin': None, 'BusinessParking': '{'garage': False, 'street': True, 'validated': False, 'lot': False, 'valet': False}', 'BikeParking': 'True', 'RestaurantsTableService': None, 'Alcohol': 'u'beer_and_wine'', 'RestaurantsReservations': 'False', 'GoodForMeal': '{'dessert': False, 'latenight': True, 'lunch': False, 'dinner': False, 'brunch': False, 'breakfast': False}', 'HasTV': 'True', 'WheelchairAccessible': None, 'BestNights': None, 'ByAppointmentOnly': None, 'GoodForDancing': None, 'HappyHour': None, 'Smoking': None, 'CoatCheck': None, 'Music': None, 'BYOB': None, 'DogsAllowed': 'False', 'DriveThru': 'False', 'Corkage': None, 'BYOBCorkage': None, 'AcceptsInsurance': None, 'AgesAllowed': None}   \n",
            "\n",
            "                                    categories             reviewer_id  \\\n",
            "527337             Restaurants, Mexican, Salad  dIE85pdqZD1dR7RfhxEshA   \n",
            "959350  Pizza, Italian, Fast Food, Restaurants  jgferwZhzfo_jqON5MyBNw   \n",
            "\n",
            "       reviewer_name  reviewer_average_rating  reviewer_reviews_count  \\\n",
            "527337         Celia                     3.10                    20.0   \n",
            "959350          Greg                     3.82                    13.0   \n",
            "\n",
            "        business_rating_given  \\\n",
            "527337                      2   \n",
            "959350                      5   \n",
            "\n",
            "                                                                                                                                                                                                                                                                                                                                                                                                                                                                                                                                                                                 review  \\\n",
            "527337                                                                                                                                                                                                                                                    They got a new cook and my fajita burritos got hotter, I asked the clerk if they could not add whatever made it hot and she it was the peppers and that they couldn't. I have been going there for years once a week, and they weren't that hot tasting. Needless to say I told them it was too hot and I wasn't coming back.   \n",
            "959350  Just plain yummy. Still driving an 1:15 min to get the best pizza around. Seriously as in more than once per month and even though I Love Santa Barbara, I wouldn't think of going there or passing through without stopping in and getting at least a slice. Mushroom, red peppers, garlic...Done! Their garden salad is great too. The owners are great people and it's nice to hear the music playing there too. \\nI like that they offer self serve good water. Great location, all the other pizza places are falling away. Don't blame them. Uncle Rocco's pizza ROCKS!!!   \n",
            "\n",
            "        repeated_review_count Category  Binary Relevancy  \n",
            "527337                    6.0     Spam       0      None  \n",
            "959350                    6.0     Spam       0      None  \n"
          ]
        }
      ]
    },
    {
      "cell_type": "markdown",
      "source": [
        "# **Evaluation and Reporting**"
      ],
      "metadata": {
        "id": "f9VnI2T-o7FF"
      }
    },
    {
      "cell_type": "code",
      "source": [
        "import pandas as pd\n",
        "from llama_cpp import Llama\n",
        "\n",
        "\n",
        "REVIEW_COLUMN = 'review'\n",
        "GROUND_TRUTH_COLUMN = 'ground_truth'\n",
        "OUTPUT_CATEGORY_COLUMN = 'Category'\n",
        "COUNT_COLUMN = 'repeated_review_count'\n",
        "\n",
        "# loading our random sampled 100-row CSV file for evaluation\n",
        "df = pd.read_csv('/content/drive/My Drive/sample_for_labeling.csv')\n",
        "\n",
        "\n",
        "if REVIEW_COLUMN not in df.columns or GROUND_TRUTH_COLUMN not in df.columns:\n",
        "    print(f\"Error: Your CSV file is missing one of the required columns: '{REVIEW_COLUMN}' or '{GROUND_TRUTH_COLUMN}'.\")\n",
        "    print(\"Available columns:\", df.columns.tolist())\n",
        "else:\n",
        "\n",
        "    categories_list = []\n",
        "\n",
        "\n",
        "    MAX_TOKENS = 500\n",
        "\n",
        "    # Loop through each row of the DataFrame\n",
        "    for index, row in df.iterrows():\n",
        "        # Handle potential nulls in repeated_review_count\n",
        "        if pd.isna(row[COUNT_COLUMN]):\n",
        "            row[COUNT_COLUMN] = 0 # Or whatever default value is appropriate\n",
        "\n",
        "        # Check if the review text is valid\n",
        "        review_text = row[REVIEW_COLUMN]\n",
        "        if not isinstance(review_text, str):\n",
        "            print(f\"Skipping row {index} due to non-string review text.\")\n",
        "            categories_list.append(None)\n",
        "            continue\n",
        "\n",
        "        # Truncate the review text if it's too long\n",
        "        review_words = review_text.split()\n",
        "        if len(review_words) > MAX_TOKENS:\n",
        "            truncated_text = \" \".join(review_words[:MAX_TOKENS])\n",
        "            row[REVIEW_COLUMN] = truncated_text\n",
        "\n",
        "        # Pass the entire row (as a DataFrame) to the processing function\n",
        "        single_row_df = pd.DataFrame([row])\n",
        "\n",
        "        try:\n",
        "            # Process the single row\n",
        "            processed_row = process_reviews(single_row_df)\n",
        "\n",
        "            # Standardize the column name returned by the function\n",
        "            if OUTPUT_CATEGORY_COLUMN in processed_row.columns:\n",
        "                category = processed_row[OUTPUT_CATEGORY_COLUMN].iloc[0]\n",
        "            elif OUTPUT_CATEGORY_COLUMN.lower() in processed_row.columns:\n",
        "                category = processed_row[OUTPUT_CATEGORY_COLUMN.lower()].iloc[0]\n",
        "            else:\n",
        "                raise KeyError(f\"The 'process_reviews' function did not return a '{OUTPUT_CATEGORY_COLUMN}' or '{OUTPUT_CATEGORY_COLUMN.lower()}' column.\")\n",
        "\n",
        "            categories_list.append(category)\n",
        "            print(f\"Row {index} processed.\")\n",
        "\n",
        "        except (KeyError, ValueError) as e:\n",
        "            print(f\"Error processing row {index}: {e}\")\n",
        "            categories_list.append(None)\n",
        "\n",
        "    df[OUTPUT_CATEGORY_COLUMN] = categories_list\n",
        "    output_df = df[[OUTPUT_CATEGORY_COLUMN, GROUND_TRUTH_COLUMN]]\n",
        "    output_df.to_csv('labeled_reviews.csv', index=False)\n",
        "\n",
        "    print(\"\\nProcessing complete. Output saved to 'labeled_reviews.csv'\")"
      ],
      "metadata": {
        "colab": {
          "base_uri": "https://localhost:8080/"
        },
        "collapsed": true,
        "id": "ORThrAlckO4d",
        "outputId": "1bf8c052-c783-4bca-c751-98c591cbe045"
      },
      "execution_count": null,
      "outputs": [
        {
          "output_type": "stream",
          "name": "stderr",
          "text": [
            "Llama.generate: 398 prefix-match hit, remaining 100 prompt tokens to eval\n",
            "llama_perf_context_print:        load time =  143452.61 ms\n",
            "llama_perf_context_print: prompt eval time =   35377.48 ms /   100 tokens (  353.77 ms per token,     2.83 tokens per second)\n",
            "llama_perf_context_print:        eval time =   15119.22 ms /     2 runs   ( 7559.61 ms per token,     0.13 tokens per second)\n",
            "llama_perf_context_print:       total time =   50511.99 ms /   102 tokens\n",
            "llama_perf_context_print:    graphs reused =          1\n"
          ]
        },
        {
          "output_type": "stream",
          "name": "stdout",
          "text": [
            "Row 0 processed.\n",
            "Error processing row 1: Requested tokens (546) exceed context window of 512\n",
            "Error processing row 2: Requested tokens (585) exceed context window of 512\n"
          ]
        },
        {
          "output_type": "stream",
          "name": "stderr",
          "text": [
            "Llama.generate: 393 prefix-match hit, remaining 46 prompt tokens to eval\n",
            "llama_perf_context_print:        load time =  143452.61 ms\n",
            "llama_perf_context_print: prompt eval time =   20859.38 ms /    46 tokens (  453.46 ms per token,     2.21 tokens per second)\n",
            "llama_perf_context_print:        eval time =   14801.43 ms /     2 runs   ( 7400.71 ms per token,     0.14 tokens per second)\n",
            "llama_perf_context_print:       total time =   35676.30 ms /    48 tokens\n",
            "llama_perf_context_print:    graphs reused =          1\n"
          ]
        },
        {
          "output_type": "stream",
          "name": "stdout",
          "text": [
            "Row 3 processed.\n"
          ]
        },
        {
          "output_type": "stream",
          "name": "stderr",
          "text": [
            "Llama.generate: 393 prefix-match hit, remaining 50 prompt tokens to eval\n",
            "llama_perf_context_print:        load time =  143452.61 ms\n",
            "llama_perf_context_print: prompt eval time =   22803.90 ms /    50 tokens (  456.08 ms per token,     2.19 tokens per second)\n",
            "llama_perf_context_print:        eval time =   15190.98 ms /     2 runs   ( 7595.49 ms per token,     0.13 tokens per second)\n",
            "llama_perf_context_print:       total time =   38010.37 ms /    52 tokens\n",
            "llama_perf_context_print:    graphs reused =          1\n"
          ]
        },
        {
          "output_type": "stream",
          "name": "stdout",
          "text": [
            "Row 4 processed.\n"
          ]
        },
        {
          "output_type": "stream",
          "name": "stderr",
          "text": [
            "Llama.generate: 393 prefix-match hit, remaining 111 prompt tokens to eval\n",
            "llama_perf_context_print:        load time =  143452.61 ms\n",
            "llama_perf_context_print: prompt eval time =   40116.66 ms /   111 tokens (  361.41 ms per token,     2.77 tokens per second)\n",
            "llama_perf_context_print:        eval time =   15266.41 ms /     2 runs   ( 7633.21 ms per token,     0.13 tokens per second)\n",
            "llama_perf_context_print:       total time =   55399.50 ms /   113 tokens\n",
            "llama_perf_context_print:    graphs reused =          1\n"
          ]
        },
        {
          "output_type": "stream",
          "name": "stdout",
          "text": [
            "Row 5 processed.\n"
          ]
        },
        {
          "output_type": "stream",
          "name": "stderr",
          "text": [
            "Llama.generate: 393 prefix-match hit, remaining 61 prompt tokens to eval\n",
            "llama_perf_context_print:        load time =  143452.61 ms\n",
            "llama_perf_context_print: prompt eval time =   25705.83 ms /    61 tokens (  421.41 ms per token,     2.37 tokens per second)\n",
            "llama_perf_context_print:        eval time =   15061.94 ms /     2 runs   ( 7530.97 ms per token,     0.13 tokens per second)\n",
            "llama_perf_context_print:       total time =   40783.48 ms /    63 tokens\n",
            "llama_perf_context_print:    graphs reused =          1\n"
          ]
        },
        {
          "output_type": "stream",
          "name": "stdout",
          "text": [
            "Row 6 processed.\n"
          ]
        },
        {
          "output_type": "stream",
          "name": "stderr",
          "text": [
            "Llama.generate: 393 prefix-match hit, remaining 110 prompt tokens to eval\n",
            "llama_perf_context_print:        load time =  143452.61 ms\n",
            "llama_perf_context_print: prompt eval time =   39875.77 ms /   110 tokens (  362.51 ms per token,     2.76 tokens per second)\n",
            "llama_perf_context_print:        eval time =   15624.59 ms /     2 runs   ( 7812.30 ms per token,     0.13 tokens per second)\n",
            "llama_perf_context_print:       total time =   55516.13 ms /   112 tokens\n",
            "llama_perf_context_print:    graphs reused =          1\n"
          ]
        },
        {
          "output_type": "stream",
          "name": "stdout",
          "text": [
            "Row 7 processed.\n",
            "Error processing row 8: Requested tokens (528) exceed context window of 512\n"
          ]
        },
        {
          "output_type": "stream",
          "name": "stderr",
          "text": [
            "Llama.generate: 393 prefix-match hit, remaining 77 prompt tokens to eval\n",
            "llama_perf_context_print:        load time =  143452.61 ms\n",
            "llama_perf_context_print: prompt eval time =   29809.40 ms /    77 tokens (  387.14 ms per token,     2.58 tokens per second)\n",
            "llama_perf_context_print:        eval time =   15556.47 ms /     2 runs   ( 7778.23 ms per token,     0.13 tokens per second)\n",
            "llama_perf_context_print:       total time =   45381.62 ms /    79 tokens\n",
            "llama_perf_context_print:    graphs reused =          1\n"
          ]
        },
        {
          "output_type": "stream",
          "name": "stdout",
          "text": [
            "Row 9 processed.\n"
          ]
        },
        {
          "output_type": "stream",
          "name": "stderr",
          "text": [
            "Llama.generate: 393 prefix-match hit, remaining 67 prompt tokens to eval\n",
            "llama_perf_context_print:        load time =  143452.61 ms\n",
            "llama_perf_context_print: prompt eval time =   27586.66 ms /    67 tokens (  411.74 ms per token,     2.43 tokens per second)\n",
            "llama_perf_context_print:        eval time =   15200.27 ms /     2 runs   ( 7600.14 ms per token,     0.13 tokens per second)\n",
            "llama_perf_context_print:       total time =   42803.26 ms /    69 tokens\n",
            "llama_perf_context_print:    graphs reused =          1\n"
          ]
        },
        {
          "output_type": "stream",
          "name": "stdout",
          "text": [
            "Row 10 processed.\n"
          ]
        },
        {
          "output_type": "stream",
          "name": "stderr",
          "text": [
            "Llama.generate: 393 prefix-match hit, remaining 38 prompt tokens to eval\n",
            "llama_perf_context_print:        load time =  143452.61 ms\n",
            "llama_perf_context_print: prompt eval time =   18469.29 ms /    38 tokens (  486.03 ms per token,     2.06 tokens per second)\n",
            "llama_perf_context_print:        eval time =   14867.50 ms /     2 runs   ( 7433.75 ms per token,     0.13 tokens per second)\n",
            "llama_perf_context_print:       total time =   33354.33 ms /    40 tokens\n",
            "llama_perf_context_print:    graphs reused =          1\n"
          ]
        },
        {
          "output_type": "stream",
          "name": "stdout",
          "text": [
            "Row 11 processed.\n"
          ]
        },
        {
          "output_type": "stream",
          "name": "stderr",
          "text": [
            "Llama.generate: 393 prefix-match hit, remaining 82 prompt tokens to eval\n",
            "llama_perf_context_print:        load time =  143452.61 ms\n",
            "llama_perf_context_print: prompt eval time =   30655.21 ms /    82 tokens (  373.84 ms per token,     2.67 tokens per second)\n",
            "llama_perf_context_print:        eval time =   15141.02 ms /     2 runs   ( 7570.51 ms per token,     0.13 tokens per second)\n",
            "llama_perf_context_print:       total time =   45811.84 ms /    84 tokens\n",
            "llama_perf_context_print:    graphs reused =          1\n"
          ]
        },
        {
          "output_type": "stream",
          "name": "stdout",
          "text": [
            "Row 12 processed.\n"
          ]
        },
        {
          "output_type": "stream",
          "name": "stderr",
          "text": [
            "Llama.generate: 393 prefix-match hit, remaining 68 prompt tokens to eval\n",
            "llama_perf_context_print:        load time =  143452.61 ms\n",
            "llama_perf_context_print: prompt eval time =   27368.30 ms /    68 tokens (  402.47 ms per token,     2.48 tokens per second)\n",
            "llama_perf_context_print:        eval time =   15263.68 ms /     2 runs   ( 7631.84 ms per token,     0.13 tokens per second)\n",
            "llama_perf_context_print:       total time =   42646.94 ms /    70 tokens\n",
            "llama_perf_context_print:    graphs reused =          1\n"
          ]
        },
        {
          "output_type": "stream",
          "name": "stdout",
          "text": [
            "Row 13 processed.\n"
          ]
        },
        {
          "output_type": "stream",
          "name": "stderr",
          "text": [
            "Llama.generate: 393 prefix-match hit, remaining 64 prompt tokens to eval\n",
            "llama_perf_context_print:        load time =  143452.61 ms\n",
            "llama_perf_context_print: prompt eval time =   24095.76 ms /    64 tokens (  376.50 ms per token,     2.66 tokens per second)\n",
            "llama_perf_context_print:        eval time =   15073.76 ms /     2 runs   ( 7536.88 ms per token,     0.13 tokens per second)\n",
            "llama_perf_context_print:       total time =   39185.20 ms /    66 tokens\n",
            "llama_perf_context_print:    graphs reused =          1\n"
          ]
        },
        {
          "output_type": "stream",
          "name": "stdout",
          "text": [
            "Row 14 processed.\n"
          ]
        },
        {
          "output_type": "stream",
          "name": "stderr",
          "text": [
            "Llama.generate: 393 prefix-match hit, remaining 41 prompt tokens to eval\n",
            "llama_perf_context_print:        load time =  143452.61 ms\n",
            "llama_perf_context_print: prompt eval time =   19122.51 ms /    41 tokens (  466.40 ms per token,     2.14 tokens per second)\n",
            "llama_perf_context_print:        eval time =   15046.75 ms /     2 runs   ( 7523.38 ms per token,     0.13 tokens per second)\n",
            "llama_perf_context_print:       total time =   34185.51 ms /    43 tokens\n",
            "llama_perf_context_print:    graphs reused =          1\n"
          ]
        },
        {
          "output_type": "stream",
          "name": "stdout",
          "text": [
            "Row 15 processed.\n",
            "Error processing row 16: Requested tokens (600) exceed context window of 512\n"
          ]
        },
        {
          "output_type": "stream",
          "name": "stderr",
          "text": [
            "Llama.generate: 393 prefix-match hit, remaining 78 prompt tokens to eval\n",
            "llama_perf_context_print:        load time =  143452.61 ms\n",
            "llama_perf_context_print: prompt eval time =   30487.99 ms /    78 tokens (  390.87 ms per token,     2.56 tokens per second)\n",
            "llama_perf_context_print:        eval time =   14940.17 ms /     2 runs   ( 7470.08 ms per token,     0.13 tokens per second)\n",
            "llama_perf_context_print:       total time =   45442.84 ms /    80 tokens\n",
            "llama_perf_context_print:    graphs reused =          1\n"
          ]
        },
        {
          "output_type": "stream",
          "name": "stdout",
          "text": [
            "Row 17 processed.\n"
          ]
        },
        {
          "output_type": "stream",
          "name": "stderr",
          "text": [
            "Llama.generate: 393 prefix-match hit, remaining 61 prompt tokens to eval\n",
            "llama_perf_context_print:        load time =  143452.61 ms\n",
            "llama_perf_context_print: prompt eval time =   24192.50 ms /    61 tokens (  396.60 ms per token,     2.52 tokens per second)\n",
            "llama_perf_context_print:        eval time =   14841.74 ms /     2 runs   ( 7420.87 ms per token,     0.13 tokens per second)\n",
            "llama_perf_context_print:       total time =   39049.18 ms /    63 tokens\n",
            "llama_perf_context_print:    graphs reused =          1\n"
          ]
        },
        {
          "output_type": "stream",
          "name": "stdout",
          "text": [
            "Row 18 processed.\n"
          ]
        },
        {
          "output_type": "stream",
          "name": "stderr",
          "text": [
            "Llama.generate: 393 prefix-match hit, remaining 61 prompt tokens to eval\n",
            "llama_perf_context_print:        load time =  143452.61 ms\n",
            "llama_perf_context_print: prompt eval time =   24290.39 ms /    61 tokens (  398.20 ms per token,     2.51 tokens per second)\n",
            "llama_perf_context_print:        eval time =   14762.21 ms /     2 runs   ( 7381.11 ms per token,     0.14 tokens per second)\n",
            "llama_perf_context_print:       total time =   39066.92 ms /    63 tokens\n",
            "llama_perf_context_print:    graphs reused =          1\n"
          ]
        },
        {
          "output_type": "stream",
          "name": "stdout",
          "text": [
            "Row 19 processed.\n"
          ]
        },
        {
          "output_type": "stream",
          "name": "stderr",
          "text": [
            "Llama.generate: 393 prefix-match hit, remaining 39 prompt tokens to eval\n",
            "llama_perf_context_print:        load time =  143452.61 ms\n",
            "llama_perf_context_print: prompt eval time =   18744.19 ms /    39 tokens (  480.62 ms per token,     2.08 tokens per second)\n",
            "llama_perf_context_print:        eval time =   15146.56 ms /     2 runs   ( 7573.28 ms per token,     0.13 tokens per second)\n",
            "llama_perf_context_print:       total time =   33905.65 ms /    41 tokens\n",
            "llama_perf_context_print:    graphs reused =          1\n"
          ]
        },
        {
          "output_type": "stream",
          "name": "stdout",
          "text": [
            "Row 20 processed.\n",
            "Error processing row 21: Requested tokens (546) exceed context window of 512\n"
          ]
        },
        {
          "output_type": "stream",
          "name": "stderr",
          "text": [
            "Llama.generate: 393 prefix-match hit, remaining 107 prompt tokens to eval\n",
            "llama_perf_context_print:        load time =  143452.61 ms\n",
            "llama_perf_context_print: prompt eval time =   37995.77 ms /   107 tokens (  355.10 ms per token,     2.82 tokens per second)\n",
            "llama_perf_context_print:        eval time =   15088.10 ms /     2 runs   ( 7544.05 ms per token,     0.13 tokens per second)\n",
            "llama_perf_context_print:       total time =   53100.27 ms /   109 tokens\n",
            "llama_perf_context_print:    graphs reused =          1\n"
          ]
        },
        {
          "output_type": "stream",
          "name": "stdout",
          "text": [
            "Row 22 processed.\n"
          ]
        },
        {
          "output_type": "stream",
          "name": "stderr",
          "text": [
            "Llama.generate: 393 prefix-match hit, remaining 103 prompt tokens to eval\n",
            "llama_perf_context_print:        load time =  143452.61 ms\n",
            "llama_perf_context_print: prompt eval time =   37411.08 ms /   103 tokens (  363.21 ms per token,     2.75 tokens per second)\n",
            "llama_perf_context_print:        eval time =   16753.03 ms /     2 runs   ( 8376.52 ms per token,     0.12 tokens per second)\n",
            "llama_perf_context_print:       total time =   54180.83 ms /   105 tokens\n",
            "llama_perf_context_print:    graphs reused =          1\n"
          ]
        },
        {
          "output_type": "stream",
          "name": "stdout",
          "text": [
            "Row 23 processed.\n",
            "Error processing row 24: Requested tokens (531) exceed context window of 512\n",
            "Error processing row 25: Requested tokens (551) exceed context window of 512\n"
          ]
        },
        {
          "output_type": "stream",
          "name": "stderr",
          "text": [
            "Llama.generate: 393 prefix-match hit, remaining 36 prompt tokens to eval\n",
            "llama_perf_context_print:        load time =  143452.61 ms\n",
            "llama_perf_context_print: prompt eval time =   18033.96 ms /    36 tokens (  500.94 ms per token,     2.00 tokens per second)\n",
            "llama_perf_context_print:        eval time =   15519.70 ms /     2 runs   ( 7759.85 ms per token,     0.13 tokens per second)\n",
            "llama_perf_context_print:       total time =   33569.94 ms /    38 tokens\n",
            "llama_perf_context_print:    graphs reused =          1\n"
          ]
        },
        {
          "output_type": "stream",
          "name": "stdout",
          "text": [
            "Row 26 processed.\n"
          ]
        },
        {
          "output_type": "stream",
          "name": "stderr",
          "text": [
            "Llama.generate: 393 prefix-match hit, remaining 72 prompt tokens to eval\n",
            "llama_perf_context_print:        load time =  143452.61 ms\n",
            "llama_perf_context_print: prompt eval time =   28436.11 ms /    72 tokens (  394.95 ms per token,     2.53 tokens per second)\n",
            "llama_perf_context_print:        eval time =   15248.04 ms /     2 runs   ( 7624.02 ms per token,     0.13 tokens per second)\n",
            "llama_perf_context_print:       total time =   43699.54 ms /    74 tokens\n",
            "llama_perf_context_print:    graphs reused =          1\n"
          ]
        },
        {
          "output_type": "stream",
          "name": "stdout",
          "text": [
            "Row 27 processed.\n",
            "Error processing row 28: Requested tokens (566) exceed context window of 512\n"
          ]
        },
        {
          "output_type": "stream",
          "name": "stderr",
          "text": [
            "Llama.generate: 393 prefix-match hit, remaining 55 prompt tokens to eval\n",
            "llama_perf_context_print:        load time =  143452.61 ms\n",
            "llama_perf_context_print: prompt eval time =   23219.05 ms /    55 tokens (  422.16 ms per token,     2.37 tokens per second)\n",
            "llama_perf_context_print:        eval time =   15194.55 ms /     2 runs   ( 7597.27 ms per token,     0.13 tokens per second)\n",
            "llama_perf_context_print:       total time =   38428.43 ms /    57 tokens\n",
            "llama_perf_context_print:    graphs reused =          1\n"
          ]
        },
        {
          "output_type": "stream",
          "name": "stdout",
          "text": [
            "Row 29 processed.\n"
          ]
        },
        {
          "output_type": "stream",
          "name": "stderr",
          "text": [
            "Llama.generate: 393 prefix-match hit, remaining 42 prompt tokens to eval\n",
            "llama_perf_context_print:        load time =  143452.61 ms\n",
            "llama_perf_context_print: prompt eval time =   20487.36 ms /    42 tokens (  487.79 ms per token,     2.05 tokens per second)\n",
            "llama_perf_context_print:        eval time =   15190.66 ms /     2 runs   ( 7595.33 ms per token,     0.13 tokens per second)\n",
            "llama_perf_context_print:       total time =   35693.73 ms /    44 tokens\n",
            "llama_perf_context_print:    graphs reused =          1\n"
          ]
        },
        {
          "output_type": "stream",
          "name": "stdout",
          "text": [
            "Row 30 processed.\n"
          ]
        },
        {
          "output_type": "stream",
          "name": "stderr",
          "text": [
            "Llama.generate: 394 prefix-match hit, remaining 68 prompt tokens to eval\n",
            "llama_perf_context_print:        load time =  143452.61 ms\n",
            "llama_perf_context_print: prompt eval time =   27550.70 ms /    68 tokens (  405.16 ms per token,     2.47 tokens per second)\n",
            "llama_perf_context_print:        eval time =   15039.03 ms /     2 runs   ( 7519.52 ms per token,     0.13 tokens per second)\n",
            "llama_perf_context_print:       total time =   42604.69 ms /    70 tokens\n",
            "llama_perf_context_print:    graphs reused =          1\n"
          ]
        },
        {
          "output_type": "stream",
          "name": "stdout",
          "text": [
            "Row 31 processed.\n"
          ]
        },
        {
          "output_type": "stream",
          "name": "stderr",
          "text": [
            "Llama.generate: 393 prefix-match hit, remaining 33 prompt tokens to eval\n",
            "llama_perf_context_print:        load time =  143452.61 ms\n",
            "llama_perf_context_print: prompt eval time =   16987.57 ms /    33 tokens (  514.77 ms per token,     1.94 tokens per second)\n",
            "llama_perf_context_print:        eval time =   15499.82 ms /     2 runs   ( 7749.91 ms per token,     0.13 tokens per second)\n",
            "llama_perf_context_print:       total time =   32502.57 ms /    35 tokens\n",
            "llama_perf_context_print:    graphs reused =          1\n"
          ]
        },
        {
          "output_type": "stream",
          "name": "stdout",
          "text": [
            "Row 32 processed.\n"
          ]
        },
        {
          "output_type": "stream",
          "name": "stderr",
          "text": [
            "Llama.generate: 393 prefix-match hit, remaining 35 prompt tokens to eval\n",
            "llama_perf_context_print:        load time =  143452.61 ms\n",
            "llama_perf_context_print: prompt eval time =   17521.31 ms /    35 tokens (  500.61 ms per token,     2.00 tokens per second)\n",
            "llama_perf_context_print:        eval time =   15388.70 ms /     2 runs   ( 7694.35 ms per token,     0.13 tokens per second)\n",
            "llama_perf_context_print:       total time =   32925.47 ms /    37 tokens\n",
            "llama_perf_context_print:    graphs reused =          1\n"
          ]
        },
        {
          "output_type": "stream",
          "name": "stdout",
          "text": [
            "Row 33 processed.\n"
          ]
        },
        {
          "output_type": "stream",
          "name": "stderr",
          "text": [
            "Llama.generate: 394 prefix-match hit, remaining 33 prompt tokens to eval\n",
            "llama_perf_context_print:        load time =  143452.61 ms\n",
            "llama_perf_context_print: prompt eval time =   16639.43 ms /    33 tokens (  504.23 ms per token,     1.98 tokens per second)\n",
            "llama_perf_context_print:        eval time =   15071.36 ms /     2 runs   ( 7535.68 ms per token,     0.13 tokens per second)\n",
            "llama_perf_context_print:       total time =   31726.96 ms /    35 tokens\n",
            "llama_perf_context_print:    graphs reused =          1\n"
          ]
        },
        {
          "output_type": "stream",
          "name": "stdout",
          "text": [
            "Row 34 processed.\n"
          ]
        },
        {
          "output_type": "stream",
          "name": "stderr",
          "text": [
            "Llama.generate: 393 prefix-match hit, remaining 89 prompt tokens to eval\n",
            "llama_perf_context_print:        load time =  143452.61 ms\n",
            "llama_perf_context_print: prompt eval time =   33169.69 ms /    89 tokens (  372.69 ms per token,     2.68 tokens per second)\n",
            "llama_perf_context_print:        eval time =   16004.47 ms /     2 runs   ( 8002.24 ms per token,     0.12 tokens per second)\n",
            "llama_perf_context_print:       total time =   49190.82 ms /    91 tokens\n",
            "llama_perf_context_print:    graphs reused =          1\n"
          ]
        },
        {
          "output_type": "stream",
          "name": "stdout",
          "text": [
            "Row 35 processed.\n"
          ]
        },
        {
          "output_type": "stream",
          "name": "stderr",
          "text": [
            "Llama.generate: 393 prefix-match hit, remaining 60 prompt tokens to eval\n",
            "llama_perf_context_print:        load time =  143452.61 ms\n",
            "llama_perf_context_print: prompt eval time =   24174.86 ms /    60 tokens (  402.91 ms per token,     2.48 tokens per second)\n",
            "llama_perf_context_print:        eval time =   15193.32 ms /     2 runs   ( 7596.66 ms per token,     0.13 tokens per second)\n",
            "llama_perf_context_print:       total time =   39384.29 ms /    62 tokens\n",
            "llama_perf_context_print:    graphs reused =          1\n"
          ]
        },
        {
          "output_type": "stream",
          "name": "stdout",
          "text": [
            "Row 36 processed.\n"
          ]
        },
        {
          "output_type": "stream",
          "name": "stderr",
          "text": [
            "Llama.generate: 393 prefix-match hit, remaining 108 prompt tokens to eval\n",
            "llama_perf_context_print:        load time =  143452.61 ms\n",
            "llama_perf_context_print: prompt eval time =   38368.26 ms /   108 tokens (  355.26 ms per token,     2.81 tokens per second)\n",
            "llama_perf_context_print:        eval time =   15740.51 ms /     2 runs   ( 7870.25 ms per token,     0.13 tokens per second)\n",
            "llama_perf_context_print:       total time =   54124.86 ms /   110 tokens\n",
            "llama_perf_context_print:    graphs reused =          1\n"
          ]
        },
        {
          "output_type": "stream",
          "name": "stdout",
          "text": [
            "Row 37 processed.\n",
            "Error processing row 38: Requested tokens (654) exceed context window of 512\n",
            "Error processing row 39: Requested tokens (541) exceed context window of 512\n"
          ]
        },
        {
          "output_type": "stream",
          "name": "stderr",
          "text": [
            "Llama.generate: 393 prefix-match hit, remaining 109 prompt tokens to eval\n",
            "llama_perf_context_print:        load time =  143452.61 ms\n",
            "llama_perf_context_print: prompt eval time =   39255.57 ms /   109 tokens (  360.14 ms per token,     2.78 tokens per second)\n",
            "llama_perf_context_print:        eval time =   15653.50 ms /     2 runs   ( 7826.75 ms per token,     0.13 tokens per second)\n",
            "llama_perf_context_print:       total time =   54925.16 ms /   111 tokens\n",
            "llama_perf_context_print:    graphs reused =          1\n"
          ]
        },
        {
          "output_type": "stream",
          "name": "stdout",
          "text": [
            "Row 40 processed.\n"
          ]
        },
        {
          "output_type": "stream",
          "name": "stderr",
          "text": [
            "Llama.generate: 393 prefix-match hit, remaining 89 prompt tokens to eval\n",
            "llama_perf_context_print:        load time =  143452.61 ms\n",
            "llama_perf_context_print: prompt eval time =   33062.40 ms /    89 tokens (  371.49 ms per token,     2.69 tokens per second)\n",
            "llama_perf_context_print:        eval time =   15498.31 ms /     2 runs   ( 7749.15 ms per token,     0.13 tokens per second)\n",
            "llama_perf_context_print:       total time =   48576.30 ms /    91 tokens\n",
            "llama_perf_context_print:    graphs reused =          1\n"
          ]
        },
        {
          "output_type": "stream",
          "name": "stdout",
          "text": [
            "Row 41 processed.\n"
          ]
        },
        {
          "output_type": "stream",
          "name": "stderr",
          "text": [
            "Llama.generate: 393 prefix-match hit, remaining 43 prompt tokens to eval\n",
            "llama_perf_context_print:        load time =  143452.61 ms\n",
            "llama_perf_context_print: prompt eval time =   20296.74 ms /    43 tokens (  472.02 ms per token,     2.12 tokens per second)\n",
            "llama_perf_context_print:        eval time =   44803.01 ms /     6 runs   ( 7467.17 ms per token,     0.13 tokens per second)\n",
            "llama_perf_context_print:       total time =   65134.36 ms /    49 tokens\n",
            "llama_perf_context_print:    graphs reused =          5\n",
            "Llama.generate: 393 prefix-match hit, remaining 41 prompt tokens to eval\n"
          ]
        },
        {
          "output_type": "stream",
          "name": "stdout",
          "text": [
            "Row 42 processed.\n"
          ]
        },
        {
          "output_type": "stream",
          "name": "stderr",
          "text": [
            "llama_perf_context_print:        load time =  143452.61 ms\n",
            "llama_perf_context_print: prompt eval time =   19630.60 ms /    41 tokens (  478.80 ms per token,     2.09 tokens per second)\n",
            "llama_perf_context_print:        eval time =   15232.44 ms /     2 runs   ( 7616.22 ms per token,     0.13 tokens per second)\n",
            "llama_perf_context_print:       total time =   34880.08 ms /    43 tokens\n",
            "llama_perf_context_print:    graphs reused =          1\n"
          ]
        },
        {
          "output_type": "stream",
          "name": "stdout",
          "text": [
            "Row 43 processed.\n"
          ]
        },
        {
          "output_type": "stream",
          "name": "stderr",
          "text": [
            "Llama.generate: 393 prefix-match hit, remaining 55 prompt tokens to eval\n",
            "llama_perf_context_print:        load time =  143452.61 ms\n",
            "llama_perf_context_print: prompt eval time =   24141.15 ms /    55 tokens (  438.93 ms per token,     2.28 tokens per second)\n",
            "llama_perf_context_print:        eval time =   15858.52 ms /     2 runs   ( 7929.26 ms per token,     0.13 tokens per second)\n",
            "llama_perf_context_print:       total time =   40015.64 ms /    57 tokens\n",
            "llama_perf_context_print:    graphs reused =          1\n"
          ]
        },
        {
          "output_type": "stream",
          "name": "stdout",
          "text": [
            "Row 44 processed.\n"
          ]
        },
        {
          "output_type": "stream",
          "name": "stderr",
          "text": [
            "Llama.generate: 393 prefix-match hit, remaining 64 prompt tokens to eval\n",
            "llama_perf_context_print:        load time =  143452.61 ms\n",
            "llama_perf_context_print: prompt eval time =   24854.00 ms /    64 tokens (  388.34 ms per token,     2.58 tokens per second)\n",
            "llama_perf_context_print:        eval time =   15381.31 ms /     2 runs   ( 7690.65 ms per token,     0.13 tokens per second)\n",
            "llama_perf_context_print:       total time =   40253.80 ms /    66 tokens\n",
            "llama_perf_context_print:    graphs reused =          1\n"
          ]
        },
        {
          "output_type": "stream",
          "name": "stdout",
          "text": [
            "Row 45 processed.\n",
            "Error processing row 46: Requested tokens (520) exceed context window of 512\n",
            "Error processing row 47: Requested tokens (538) exceed context window of 512\n",
            "Error processing row 48: Requested tokens (525) exceed context window of 512\n"
          ]
        },
        {
          "output_type": "stream",
          "name": "stderr",
          "text": [
            "Llama.generate: 393 prefix-match hit, remaining 63 prompt tokens to eval\n",
            "llama_perf_context_print:        load time =  143452.61 ms\n",
            "llama_perf_context_print: prompt eval time =   25138.62 ms /    63 tokens (  399.03 ms per token,     2.51 tokens per second)\n",
            "llama_perf_context_print:        eval time =   15112.09 ms /     2 runs   ( 7556.05 ms per token,     0.13 tokens per second)\n",
            "llama_perf_context_print:       total time =   40266.22 ms /    65 tokens\n",
            "llama_perf_context_print:    graphs reused =          1\n"
          ]
        },
        {
          "output_type": "stream",
          "name": "stdout",
          "text": [
            "Row 49 processed.\n",
            "Error processing row 50: Requested tokens (586) exceed context window of 512\n"
          ]
        },
        {
          "output_type": "stream",
          "name": "stderr",
          "text": [
            "Llama.generate: 393 prefix-match hit, remaining 96 prompt tokens to eval\n",
            "llama_perf_context_print:        load time =  143452.61 ms\n",
            "llama_perf_context_print: prompt eval time =   33663.38 ms /    96 tokens (  350.66 ms per token,     2.85 tokens per second)\n",
            "llama_perf_context_print:        eval time =   15072.27 ms /     2 runs   ( 7536.14 ms per token,     0.13 tokens per second)\n",
            "llama_perf_context_print:       total time =   48750.47 ms /    98 tokens\n",
            "llama_perf_context_print:    graphs reused =          1\n"
          ]
        },
        {
          "output_type": "stream",
          "name": "stdout",
          "text": [
            "Row 51 processed.\n",
            "Error processing row 52: Requested tokens (632) exceed context window of 512\n",
            "Error processing row 53: Requested tokens (573) exceed context window of 512\n"
          ]
        },
        {
          "output_type": "stream",
          "name": "stderr",
          "text": [
            "Llama.generate: 393 prefix-match hit, remaining 32 prompt tokens to eval\n",
            "llama_perf_context_print:        load time =  143452.61 ms\n",
            "llama_perf_context_print: prompt eval time =   15629.98 ms /    32 tokens (  488.44 ms per token,     2.05 tokens per second)\n",
            "llama_perf_context_print:        eval time =   15163.65 ms /     2 runs   ( 7581.83 ms per token,     0.13 tokens per second)\n",
            "llama_perf_context_print:       total time =   30809.95 ms /    34 tokens\n",
            "llama_perf_context_print:    graphs reused =          1\n"
          ]
        },
        {
          "output_type": "stream",
          "name": "stdout",
          "text": [
            "Row 54 processed.\n",
            "Error processing row 55: Requested tokens (556) exceed context window of 512\n"
          ]
        },
        {
          "output_type": "stream",
          "name": "stderr",
          "text": [
            "Llama.generate: 393 prefix-match hit, remaining 52 prompt tokens to eval\n",
            "llama_perf_context_print:        load time =  143452.61 ms\n",
            "llama_perf_context_print: prompt eval time =   21569.17 ms /    52 tokens (  414.79 ms per token,     2.41 tokens per second)\n",
            "llama_perf_context_print:        eval time =   15181.99 ms /     2 runs   ( 7591.00 ms per token,     0.13 tokens per second)\n",
            "llama_perf_context_print:       total time =   36765.95 ms /    54 tokens\n",
            "llama_perf_context_print:    graphs reused =          1\n"
          ]
        },
        {
          "output_type": "stream",
          "name": "stdout",
          "text": [
            "Row 56 processed.\n"
          ]
        },
        {
          "output_type": "stream",
          "name": "stderr",
          "text": [
            "Llama.generate: 393 prefix-match hit, remaining 44 prompt tokens to eval\n",
            "llama_perf_context_print:        load time =  143452.61 ms\n",
            "llama_perf_context_print: prompt eval time =   20270.42 ms /    44 tokens (  460.69 ms per token,     2.17 tokens per second)\n",
            "llama_perf_context_print:        eval time =   16452.16 ms /     2 runs   ( 8226.08 ms per token,     0.12 tokens per second)\n",
            "llama_perf_context_print:       total time =   36739.57 ms /    46 tokens\n",
            "llama_perf_context_print:    graphs reused =          1\n"
          ]
        },
        {
          "output_type": "stream",
          "name": "stdout",
          "text": [
            "Row 57 processed.\n"
          ]
        },
        {
          "output_type": "stream",
          "name": "stderr",
          "text": [
            "Llama.generate: 394 prefix-match hit, remaining 109 prompt tokens to eval\n",
            "llama_perf_context_print:        load time =  143452.61 ms\n",
            "llama_perf_context_print: prompt eval time =   38389.21 ms /   109 tokens (  352.19 ms per token,     2.84 tokens per second)\n",
            "llama_perf_context_print:        eval time =   15491.74 ms /     2 runs   ( 7745.87 ms per token,     0.13 tokens per second)\n",
            "llama_perf_context_print:       total time =   53896.48 ms /   111 tokens\n",
            "llama_perf_context_print:    graphs reused =          1\n"
          ]
        },
        {
          "output_type": "stream",
          "name": "stdout",
          "text": [
            "Row 58 processed.\n",
            "Error processing row 59: Requested tokens (533) exceed context window of 512\n"
          ]
        },
        {
          "output_type": "stream",
          "name": "stderr",
          "text": [
            "Llama.generate: 393 prefix-match hit, remaining 62 prompt tokens to eval\n",
            "llama_perf_context_print:        load time =  143452.61 ms\n",
            "llama_perf_context_print: prompt eval time =   25013.39 ms /    62 tokens (  403.44 ms per token,     2.48 tokens per second)\n",
            "llama_perf_context_print:        eval time =   15003.21 ms /     2 runs   ( 7501.60 ms per token,     0.13 tokens per second)\n",
            "llama_perf_context_print:       total time =   40032.15 ms /    64 tokens\n",
            "llama_perf_context_print:    graphs reused =          1\n"
          ]
        },
        {
          "output_type": "stream",
          "name": "stdout",
          "text": [
            "Row 60 processed.\n"
          ]
        },
        {
          "output_type": "stream",
          "name": "stderr",
          "text": [
            "Llama.generate: 393 prefix-match hit, remaining 111 prompt tokens to eval\n",
            "llama_perf_context_print:        load time =  143452.61 ms\n",
            "llama_perf_context_print: prompt eval time =   38846.53 ms /   111 tokens (  349.97 ms per token,     2.86 tokens per second)\n",
            "llama_perf_context_print:        eval time =   15347.07 ms /     2 runs   ( 7673.53 ms per token,     0.13 tokens per second)\n",
            "llama_perf_context_print:       total time =   54209.26 ms /   113 tokens\n",
            "llama_perf_context_print:    graphs reused =          1\n"
          ]
        },
        {
          "output_type": "stream",
          "name": "stdout",
          "text": [
            "Row 61 processed.\n",
            "Error processing row 62: Requested tokens (600) exceed context window of 512\n",
            "Error processing row 63: Requested tokens (568) exceed context window of 512\n",
            "Error processing row 64: Requested tokens (728) exceed context window of 512\n"
          ]
        },
        {
          "output_type": "stream",
          "name": "stderr",
          "text": [
            "Llama.generate: 393 prefix-match hit, remaining 83 prompt tokens to eval\n",
            "llama_perf_context_print:        load time =  143452.61 ms\n",
            "llama_perf_context_print: prompt eval time =   31316.00 ms /    83 tokens (  377.30 ms per token,     2.65 tokens per second)\n",
            "llama_perf_context_print:        eval time =   15213.30 ms /     2 runs   ( 7606.65 ms per token,     0.13 tokens per second)\n",
            "llama_perf_context_print:       total time =   46544.72 ms /    85 tokens\n",
            "llama_perf_context_print:    graphs reused =          1\n"
          ]
        },
        {
          "output_type": "stream",
          "name": "stdout",
          "text": [
            "Row 65 processed.\n",
            "Error processing row 66: Requested tokens (601) exceed context window of 512\n"
          ]
        },
        {
          "output_type": "stream",
          "name": "stderr",
          "text": [
            "Llama.generate: 393 prefix-match hit, remaining 115 prompt tokens to eval\n",
            "llama_perf_context_print:        load time =  143452.61 ms\n",
            "llama_perf_context_print: prompt eval time =   39853.40 ms /   115 tokens (  346.55 ms per token,     2.89 tokens per second)\n",
            "llama_perf_context_print:        eval time =   15693.71 ms /     2 runs   ( 7846.85 ms per token,     0.13 tokens per second)\n",
            "llama_perf_context_print:       total time =   55564.10 ms /   117 tokens\n",
            "llama_perf_context_print:    graphs reused =          1\n"
          ]
        },
        {
          "output_type": "stream",
          "name": "stdout",
          "text": [
            "Row 67 processed.\n",
            "Error processing row 68: Requested tokens (523) exceed context window of 512\n",
            "Error processing row 69: Requested tokens (524) exceed context window of 512\n",
            "Error processing row 70: Requested tokens (519) exceed context window of 512\n",
            "Error processing row 71: Requested tokens (583) exceed context window of 512\n",
            "Error processing row 72: Requested tokens (831) exceed context window of 512\n"
          ]
        },
        {
          "output_type": "stream",
          "name": "stderr",
          "text": [
            "Llama.generate: 393 prefix-match hit, remaining 90 prompt tokens to eval\n",
            "llama_perf_context_print:        load time =  143452.61 ms\n",
            "llama_perf_context_print: prompt eval time =   33192.65 ms /    90 tokens (  368.81 ms per token,     2.71 tokens per second)\n",
            "llama_perf_context_print:        eval time =   16039.50 ms /     2 runs   ( 8019.75 ms per token,     0.12 tokens per second)\n",
            "llama_perf_context_print:       total time =   49246.84 ms /    92 tokens\n",
            "llama_perf_context_print:    graphs reused =          1\n"
          ]
        },
        {
          "output_type": "stream",
          "name": "stdout",
          "text": [
            "Row 73 processed.\n",
            "Error processing row 74: Requested tokens (527) exceed context window of 512\n"
          ]
        },
        {
          "output_type": "stream",
          "name": "stderr",
          "text": [
            "Llama.generate: 393 prefix-match hit, remaining 58 prompt tokens to eval\n",
            "llama_perf_context_print:        load time =  143452.61 ms\n",
            "llama_perf_context_print: prompt eval time =   25422.64 ms /    58 tokens (  438.32 ms per token,     2.28 tokens per second)\n",
            "llama_perf_context_print:        eval time =   15071.89 ms /     2 runs   ( 7535.95 ms per token,     0.13 tokens per second)\n",
            "llama_perf_context_print:       total time =   40509.89 ms /    60 tokens\n",
            "llama_perf_context_print:    graphs reused =          1\n"
          ]
        },
        {
          "output_type": "stream",
          "name": "stdout",
          "text": [
            "Row 75 processed.\n",
            "Error processing row 76: Requested tokens (589) exceed context window of 512\n",
            "Error processing row 77: Requested tokens (536) exceed context window of 512\n",
            "Error processing row 78: Requested tokens (600) exceed context window of 512\n"
          ]
        },
        {
          "output_type": "stream",
          "name": "stderr",
          "text": [
            "Llama.generate: 393 prefix-match hit, remaining 80 prompt tokens to eval\n",
            "llama_perf_context_print:        load time =  143452.61 ms\n",
            "llama_perf_context_print: prompt eval time =   29549.61 ms /    80 tokens (  369.37 ms per token,     2.71 tokens per second)\n",
            "llama_perf_context_print:        eval time =   15311.74 ms /     2 runs   ( 7655.87 ms per token,     0.13 tokens per second)\n",
            "llama_perf_context_print:       total time =   44877.29 ms /    82 tokens\n",
            "llama_perf_context_print:    graphs reused =          1\n"
          ]
        },
        {
          "output_type": "stream",
          "name": "stdout",
          "text": [
            "Row 79 processed.\n"
          ]
        },
        {
          "output_type": "stream",
          "name": "stderr",
          "text": [
            "Llama.generate: 393 prefix-match hit, remaining 93 prompt tokens to eval\n",
            "llama_perf_context_print:        load time =  143452.61 ms\n",
            "llama_perf_context_print: prompt eval time =   33999.72 ms /    93 tokens (  365.59 ms per token,     2.74 tokens per second)\n",
            "llama_perf_context_print:        eval time =   15149.54 ms /     2 runs   ( 7574.77 ms per token,     0.13 tokens per second)\n",
            "llama_perf_context_print:       total time =   49164.70 ms /    95 tokens\n",
            "llama_perf_context_print:    graphs reused =          1\n"
          ]
        },
        {
          "output_type": "stream",
          "name": "stdout",
          "text": [
            "Row 80 processed.\n",
            "Error processing row 81: Requested tokens (570) exceed context window of 512\n"
          ]
        },
        {
          "output_type": "stream",
          "name": "stderr",
          "text": [
            "Llama.generate: 393 prefix-match hit, remaining 30 prompt tokens to eval\n",
            "llama_perf_context_print:        load time =  143452.61 ms\n",
            "llama_perf_context_print: prompt eval time =   16676.88 ms /    30 tokens (  555.90 ms per token,     1.80 tokens per second)\n",
            "llama_perf_context_print:        eval time =   14701.43 ms /     2 runs   ( 7350.71 ms per token,     0.14 tokens per second)\n",
            "llama_perf_context_print:       total time =   31397.38 ms /    32 tokens\n",
            "llama_perf_context_print:    graphs reused =          1\n"
          ]
        },
        {
          "output_type": "stream",
          "name": "stdout",
          "text": [
            "Row 82 processed.\n"
          ]
        },
        {
          "output_type": "stream",
          "name": "stderr",
          "text": [
            "Llama.generate: 393 prefix-match hit, remaining 111 prompt tokens to eval\n",
            "llama_perf_context_print:        load time =  143452.61 ms\n",
            "llama_perf_context_print: prompt eval time =   40353.00 ms /   111 tokens (  363.54 ms per token,     2.75 tokens per second)\n",
            "llama_perf_context_print:        eval time =   15008.89 ms /     2 runs   ( 7504.44 ms per token,     0.13 tokens per second)\n",
            "llama_perf_context_print:       total time =   55378.06 ms /   113 tokens\n",
            "llama_perf_context_print:    graphs reused =          1\n"
          ]
        },
        {
          "output_type": "stream",
          "name": "stdout",
          "text": [
            "Row 83 processed.\n",
            "Error processing row 84: Requested tokens (674) exceed context window of 512\n"
          ]
        },
        {
          "output_type": "stream",
          "name": "stderr",
          "text": [
            "Llama.generate: 393 prefix-match hit, remaining 36 prompt tokens to eval\n",
            "llama_perf_context_print:        load time =  143452.61 ms\n",
            "llama_perf_context_print: prompt eval time =   17793.59 ms /    36 tokens (  494.27 ms per token,     2.02 tokens per second)\n",
            "llama_perf_context_print:        eval time =   14819.62 ms /     2 runs   ( 7409.81 ms per token,     0.13 tokens per second)\n",
            "llama_perf_context_print:       total time =   32628.62 ms /    38 tokens\n",
            "llama_perf_context_print:    graphs reused =          1\n"
          ]
        },
        {
          "output_type": "stream",
          "name": "stdout",
          "text": [
            "Row 85 processed.\n"
          ]
        },
        {
          "output_type": "stream",
          "name": "stderr",
          "text": [
            "Llama.generate: 393 prefix-match hit, remaining 65 prompt tokens to eval\n",
            "llama_perf_context_print:        load time =  143452.61 ms\n",
            "llama_perf_context_print: prompt eval time =   25202.98 ms /    65 tokens (  387.74 ms per token,     2.58 tokens per second)\n",
            "llama_perf_context_print:        eval time =   15182.48 ms /     2 runs   ( 7591.24 ms per token,     0.13 tokens per second)\n",
            "llama_perf_context_print:       total time =   40401.01 ms /    67 tokens\n",
            "llama_perf_context_print:    graphs reused =          1\n"
          ]
        },
        {
          "output_type": "stream",
          "name": "stdout",
          "text": [
            "Row 86 processed.\n"
          ]
        },
        {
          "output_type": "stream",
          "name": "stderr",
          "text": [
            "Llama.generate: 393 prefix-match hit, remaining 50 prompt tokens to eval\n",
            "llama_perf_context_print:        load time =  143452.61 ms\n",
            "llama_perf_context_print: prompt eval time =   21107.54 ms /    50 tokens (  422.15 ms per token,     2.37 tokens per second)\n",
            "llama_perf_context_print:        eval time =   14944.28 ms /     2 runs   ( 7472.14 ms per token,     0.13 tokens per second)\n",
            "llama_perf_context_print:       total time =   36067.16 ms /    52 tokens\n",
            "llama_perf_context_print:    graphs reused =          1\n"
          ]
        },
        {
          "output_type": "stream",
          "name": "stdout",
          "text": [
            "Row 87 processed.\n"
          ]
        },
        {
          "output_type": "stream",
          "name": "stderr",
          "text": [
            "Llama.generate: 393 prefix-match hit, remaining 107 prompt tokens to eval\n",
            "llama_perf_context_print:        load time =  143452.61 ms\n",
            "llama_perf_context_print: prompt eval time =   37411.51 ms /   107 tokens (  349.64 ms per token,     2.86 tokens per second)\n",
            "llama_perf_context_print:        eval time =   15559.81 ms /     2 runs   ( 7779.91 ms per token,     0.13 tokens per second)\n",
            "llama_perf_context_print:       total time =   52988.80 ms /   109 tokens\n",
            "llama_perf_context_print:    graphs reused =          1\n"
          ]
        },
        {
          "output_type": "stream",
          "name": "stdout",
          "text": [
            "Row 88 processed.\n"
          ]
        },
        {
          "output_type": "stream",
          "name": "stderr",
          "text": [
            "Llama.generate: 393 prefix-match hit, remaining 58 prompt tokens to eval\n",
            "llama_perf_context_print:        load time =  143452.61 ms\n",
            "llama_perf_context_print: prompt eval time =   23572.98 ms /    58 tokens (  406.43 ms per token,     2.46 tokens per second)\n",
            "llama_perf_context_print:        eval time =   15299.42 ms /     2 runs   ( 7649.71 ms per token,     0.13 tokens per second)\n",
            "llama_perf_context_print:       total time =   38888.17 ms /    60 tokens\n",
            "llama_perf_context_print:    graphs reused =          1\n"
          ]
        },
        {
          "output_type": "stream",
          "name": "stdout",
          "text": [
            "Row 89 processed.\n"
          ]
        },
        {
          "output_type": "stream",
          "name": "stderr",
          "text": [
            "Llama.generate: 393 prefix-match hit, remaining 66 prompt tokens to eval\n",
            "llama_perf_context_print:        load time =  143452.61 ms\n",
            "llama_perf_context_print: prompt eval time =   26400.04 ms /    66 tokens (  400.00 ms per token,     2.50 tokens per second)\n",
            "llama_perf_context_print:        eval time =   14866.98 ms /     2 runs   ( 7433.49 ms per token,     0.13 tokens per second)\n",
            "llama_perf_context_print:       total time =   41282.54 ms /    68 tokens\n",
            "llama_perf_context_print:    graphs reused =          1\n"
          ]
        },
        {
          "output_type": "stream",
          "name": "stdout",
          "text": [
            "Row 90 processed.\n",
            "Error processing row 91: Requested tokens (550) exceed context window of 512\n"
          ]
        },
        {
          "output_type": "stream",
          "name": "stderr",
          "text": [
            "Llama.generate: 394 prefix-match hit, remaining 113 prompt tokens to eval\n",
            "llama_perf_context_print:        load time =  143452.61 ms\n",
            "llama_perf_context_print: prompt eval time =   39265.83 ms /   113 tokens (  347.49 ms per token,     2.88 tokens per second)\n",
            "llama_perf_context_print:        eval time =   15281.22 ms /     2 runs   ( 7640.61 ms per token,     0.13 tokens per second)\n",
            "llama_perf_context_print:       total time =   54562.06 ms /   115 tokens\n",
            "llama_perf_context_print:    graphs reused =          1\n"
          ]
        },
        {
          "output_type": "stream",
          "name": "stdout",
          "text": [
            "Row 92 processed.\n",
            "Error processing row 93: Requested tokens (523) exceed context window of 512\n",
            "Error processing row 94: Requested tokens (743) exceed context window of 512\n",
            "Error processing row 95: Requested tokens (523) exceed context window of 512\n",
            "Error processing row 96: Requested tokens (540) exceed context window of 512\n",
            "Error processing row 97: Requested tokens (519) exceed context window of 512\n",
            "Row 98 processed.\n",
            "Row 99 processed.\n",
            "\n",
            "Processing complete. Output saved to 'labeled_reviews.csv'\n"
          ]
        }
      ]
    },
    {
      "cell_type": "code",
      "source": [
        "from google.colab import files\n",
        "files.download('labeled_reviews.csv')"
      ],
      "metadata": {
        "colab": {
          "base_uri": "https://localhost:8080/",
          "height": 17
        },
        "id": "DkcNiz6D05aI",
        "outputId": "1a3d30b1-3e0a-4cc5-9f6f-b881556c1261"
      },
      "execution_count": null,
      "outputs": [
        {
          "output_type": "display_data",
          "data": {
            "text/plain": [
              "<IPython.core.display.Javascript object>"
            ],
            "application/javascript": [
              "\n",
              "    async function download(id, filename, size) {\n",
              "      if (!google.colab.kernel.accessAllowed) {\n",
              "        return;\n",
              "      }\n",
              "      const div = document.createElement('div');\n",
              "      const label = document.createElement('label');\n",
              "      label.textContent = `Downloading \"${filename}\": `;\n",
              "      div.appendChild(label);\n",
              "      const progress = document.createElement('progress');\n",
              "      progress.max = size;\n",
              "      div.appendChild(progress);\n",
              "      document.body.appendChild(div);\n",
              "\n",
              "      const buffers = [];\n",
              "      let downloaded = 0;\n",
              "\n",
              "      const channel = await google.colab.kernel.comms.open(id);\n",
              "      // Send a message to notify the kernel that we're ready.\n",
              "      channel.send({})\n",
              "\n",
              "      for await (const message of channel.messages) {\n",
              "        // Send a message to notify the kernel that we're ready.\n",
              "        channel.send({})\n",
              "        if (message.buffers) {\n",
              "          for (const buffer of message.buffers) {\n",
              "            buffers.push(buffer);\n",
              "            downloaded += buffer.byteLength;\n",
              "            progress.value = downloaded;\n",
              "          }\n",
              "        }\n",
              "      }\n",
              "      const blob = new Blob(buffers, {type: 'application/binary'});\n",
              "      const a = document.createElement('a');\n",
              "      a.href = window.URL.createObjectURL(blob);\n",
              "      a.download = filename;\n",
              "      div.appendChild(a);\n",
              "      a.click();\n",
              "      div.remove();\n",
              "    }\n",
              "  "
            ]
          },
          "metadata": {}
        },
        {
          "output_type": "display_data",
          "data": {
            "text/plain": [
              "<IPython.core.display.Javascript object>"
            ],
            "application/javascript": [
              "download(\"download_f0a820c7-d6af-44fd-a8c5-2adba2d04377\", \"labeled_reviews.csv\", 2128)"
            ]
          },
          "metadata": {}
        }
      ]
    },
    {
      "cell_type": "code",
      "source": [
        "import pandas as pd\n",
        "from sklearn.metrics import classification_report, confusion_matrix\n",
        "\n",
        "\n",
        "# Load ground truth (human annotated) and model predictions\n",
        "# 'Category' is the predicted label\n",
        "human = pd.read_csv(\"/content/drive/My Drive/sample_for_labeling.csv\")\n",
        "model = pd.read_csv(\"/content/drive/My Drive/labeled_reviews.csv\")\n",
        "\n",
        "\n",
        "review_ids = list(range(1, 101))\n",
        "\n",
        "# Add the 'review_id' column to the front of the human and model DataFrame\n",
        "human.insert(0, 'review_id', review_ids)\n",
        "model.insert(0, 'review_id', review_ids)\n",
        "\n",
        "\n",
        "human.to_csv(\"human_with_ids.csv\", index=False)\n",
        "model.to_csv(\"model_with_ids.csv\", index=False)\n",
        "\n",
        "\n",
        "df = pd.merge(human, model, on=\"review_id\")\n",
        "df_cleaned = df.dropna(subset=['Category'])\n",
        "#print(df.head())\n",
        "\n",
        "# Evaluation\n",
        "print(\"Classification Report:\")\n",
        "print(classification_report(df_cleaned[\"ground_truth_x\"], df_cleaned[\"Category\"], digits=3))"
      ],
      "metadata": {
        "id": "FZ-bSK8Ye8oR",
        "colab": {
          "base_uri": "https://localhost:8080/"
        },
        "outputId": "72348c45-4ae8-4865-eddc-2dad8179c4b1"
      },
      "execution_count": null,
      "outputs": [
        {
          "output_type": "stream",
          "name": "stdout",
          "text": [
            "Classification Report:\n",
            "                    precision    recall  f1-score   support\n",
            "\n",
            "Not Related to F&B      0.000     0.000     0.000         0\n",
            "              Spam      1.000     1.000     1.000         2\n",
            "      Valid Review      1.000     0.983     0.991        59\n",
            "\n",
            "          accuracy                          0.984        61\n",
            "         macro avg      0.667     0.661     0.664        61\n",
            "      weighted avg      1.000     0.984     0.992        61\n",
            "\n"
          ]
        },
        {
          "output_type": "stream",
          "name": "stderr",
          "text": [
            "/usr/local/lib/python3.12/dist-packages/sklearn/metrics/_classification.py:1565: UndefinedMetricWarning: Recall is ill-defined and being set to 0.0 in labels with no true samples. Use `zero_division` parameter to control this behavior.\n",
            "  _warn_prf(average, modifier, f\"{metric.capitalize()} is\", len(result))\n",
            "/usr/local/lib/python3.12/dist-packages/sklearn/metrics/_classification.py:1565: UndefinedMetricWarning: Recall is ill-defined and being set to 0.0 in labels with no true samples. Use `zero_division` parameter to control this behavior.\n",
            "  _warn_prf(average, modifier, f\"{metric.capitalize()} is\", len(result))\n",
            "/usr/local/lib/python3.12/dist-packages/sklearn/metrics/_classification.py:1565: UndefinedMetricWarning: Recall is ill-defined and being set to 0.0 in labels with no true samples. Use `zero_division` parameter to control this behavior.\n",
            "  _warn_prf(average, modifier, f\"{metric.capitalize()} is\", len(result))\n"
          ]
        }
      ]
    },
    {
      "cell_type": "code",
      "source": [
        "\n",
        "import pandas as pd\n",
        "import matplotlib.pyplot as plt\n",
        "import seaborn as sns\n",
        "\n",
        "\n",
        "df = pd.read_csv(\"model_with_ids.csv\")\n",
        "\n",
        "\n",
        "plt.figure(figsize=(6,6))\n",
        "df[\"Category\"].value_counts().plot(\n",
        "    kind=\"pie\",\n",
        "    autopct=\"%1.1f%%\",\n",
        "    startangle=140,\n",
        "    colors=sns.color_palette(\"Set2\")\n",
        ")\n",
        "plt.ylabel(\"\")\n",
        "plt.title(\"Percentage of Predicted Reviews by Category\")\n",
        "plt.show()\n",
        "\n",
        "\n"
      ],
      "metadata": {
        "id": "vy2_dY4Bi9C7",
        "colab": {
          "base_uri": "https://localhost:8080/",
          "height": 521
        },
        "outputId": "c62b41b6-92e9-41b1-db86-cf3517cdd5b0"
      },
      "execution_count": 76,
      "outputs": [
        {
          "output_type": "display_data",
          "data": {
            "text/plain": [
              "<Figure size 600x600 with 1 Axes>"
            ],
            "image/png": "[encoded data removed]"
          },
          "metadata": {}
        }
      ]
    }
  ]
}